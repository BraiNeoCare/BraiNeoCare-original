{
  "cells": [
    {
      "cell_type": "code",
      "execution_count": 1,
      "metadata": {
        "colab": {
          "base_uri": "https://localhost:8080/"
        },
        "id": "MdY2ESyzDlda",
        "outputId": "25b234fe-6200-4ffb-9178-23d646a80cb1"
      },
      "outputs": [
        {
          "name": "stderr",
          "output_type": "stream",
          "text": [
            "2023-11-29 15:34:59.649448: I tensorflow/core/util/port.cc:111] oneDNN custom operations are on. You may see slightly different numerical results due to floating-point round-off errors from different computation orders. To turn them off, set the environment variable `TF_ENABLE_ONEDNN_OPTS=0`.\n",
            "2023-11-29 15:34:59.695167: E tensorflow/compiler/xla/stream_executor/cuda/cuda_dnn.cc:9342] Unable to register cuDNN factory: Attempting to register factory for plugin cuDNN when one has already been registered\n",
            "2023-11-29 15:34:59.695200: E tensorflow/compiler/xla/stream_executor/cuda/cuda_fft.cc:609] Unable to register cuFFT factory: Attempting to register factory for plugin cuFFT when one has already been registered\n",
            "2023-11-29 15:34:59.695228: E tensorflow/compiler/xla/stream_executor/cuda/cuda_blas.cc:1518] Unable to register cuBLAS factory: Attempting to register factory for plugin cuBLAS when one has already been registered\n",
            "2023-11-29 15:34:59.703159: I tensorflow/core/platform/cpu_feature_guard.cc:182] This TensorFlow binary is optimized to use available CPU instructions in performance-critical operations.\n",
            "To enable the following instructions: AVX2 AVX512F AVX512_VNNI FMA, in other operations, rebuild TensorFlow with the appropriate compiler flags.\n",
            "/home/nima/miniconda3/envs/BrainNeoCare/lib/python3.9/site-packages/tensorflow_addons/utils/tfa_eol_msg.py:23: UserWarning: \n",
            "\n",
            "TensorFlow Addons (TFA) has ended development and introduction of new features.\n",
            "TFA has entered a minimal maintenance and release mode until a planned end of life in May 2024.\n",
            "Please modify downstream libraries to take dependencies from other repositories in our TensorFlow community (e.g. Keras, Keras-CV, and Keras-NLP). \n",
            "\n",
            "For more information see: https://github.com/tensorflow/addons/issues/2807 \n",
            "\n",
            "  warnings.warn(\n"
          ]
        }
      ],
      "source": [
        "import numpy as np\n",
        "import tensorflow as tf\n",
        "from tensorflow import keras\n",
        "from keras import layers\n",
        "from sklearn.model_selection import train_test_split\n",
        "import matplotlib.pyplot as plt\n",
        "import tensorflow_addons as tfa"
      ]
    },
    {
      "cell_type": "markdown",
      "metadata": {},
      "source": [
        "## Data Loading"
      ]
    },
    {
      "cell_type": "code",
      "execution_count": 13,
      "metadata": {},
      "outputs": [],
      "source": [
        "x_train=np.load('../BraiNeoCare/Datasets/balanced_x_train_common_1s.npy', mmap_mode='r')[0:40000,...]\n",
        "x_test=np.load('../BraiNeoCare/Datasets/balanced_x_test_common_1s.npy', mmap_mode='r')\n",
        "y_train=np.load('../BraiNeoCare/Datasets/balanced_y_train_common_1s.npy', mmap_mode='r')[0:40000,...]\n",
        "y_test=np.load('../BraiNeoCare/Datasets/balanced_y_test_common_1s.npy', mmap_mode='r')\n"
      ]
    },
    {
      "cell_type": "code",
      "execution_count": 14,
      "metadata": {},
      "outputs": [
        {
          "data": {
            "text/plain": [
              "23287.0"
            ]
          },
          "execution_count": 14,
          "metadata": {},
          "output_type": "execute_result"
        }
      ],
      "source": [
        "y_train.sum()"
      ]
    },
    {
      "cell_type": "code",
      "execution_count": 15,
      "metadata": {},
      "outputs": [],
      "source": [
        "#shuffle the data\n",
        "np.random.seed(42)\n",
        "train_indices = np.arange(x_train.shape[0])\n",
        "np.random.shuffle(train_indices)\n",
        "x_train = x_train[train_indices].reshape(x_train.shape[0],256,12)\n",
        "y_train = y_train[train_indices]\n",
        "test_indices = np.arange(x_test.shape[0])   \n",
        "np.random.shuffle(test_indices)\n",
        "x_test = x_test[test_indices].reshape(x_test.shape[0],256,12)\n",
        "y_test = y_test[test_indices]"
      ]
    },
    {
      "cell_type": "markdown",
      "metadata": {},
      "source": [
        "## Tiny model"
      ]
    },
    {
      "cell_type": "code",
      "execution_count": null,
      "metadata": {},
      "outputs": [],
      "source": [
        "model1=keras.Sequential(name=\"Podi_model_eka\")\n",
        "model1.add(layers.Input(shape=(1024,12)))\n",
        "model1.add(layers.Conv1D(64, 3, activation=\"swish\", padding=\"same\"))\n",
        "model1.add(layers.MaxPooling1D(2))\n",
        "model1.add(layers.Conv1D(128, 13, activation=\"swish\", padding=\"same\"))\n",
        "model1.add(layers.MaxPooling1D(2))\n",
        "model1.add(layers.GlobalAveragePooling1D())\n",
        "model1.add(layers.Dense(64, activation=\"swish\"))\n",
        "model1.add(layers.Dense(1))\n",
        "\n",
        "optimizer=keras.optimizers.Adam(learning_rate=0.001)\n",
        "loss=keras.losses.BinaryCrossentropy(from_logits=True)\n",
        "F1 = keras.metrics.FBetaScore()\n",
        "AUROC = tf.keras.metrics.AUC(curve='ROC', name = 'AUROC')\n",
        "AUPRC = tf.keras.metrics.AUC(curve='PR', name = 'AUPRC')\n",
        "model1.compile(optimizer='adam',loss='binary_crossentropy',metrics=['accuracy', F1, AUROC, AUPRC])"
      ]
    },
    {
      "cell_type": "code",
      "execution_count": null,
      "metadata": {},
      "outputs": [],
      "source": [
        "import os\n",
        "check_point_path='model1_checkpoints/ckpt_{epoch:04d}'\n",
        "# check_point_path=tf.train.latest_checkpoint(check_point_dir)\n",
        "check_point_dir = os.path.dirname(check_point_path)\n",
        "cp_callback = tf.keras.callbacks.ModelCheckpoint(filepath=check_point_path,save_weights_only=True,verbose=1)\n",
        "model1.fit(x_train,y_train,epochs=10,validation_data=(x_test,y_test),callbacks=[cp_callback])\n"
      ]
    },
    {
      "cell_type": "code",
      "execution_count": null,
      "metadata": {},
      "outputs": [],
      "source": [
        "model1.fit(x_train, y_train, epochs=10, batch_size=128, validation_data=(x_test, y_test))"
      ]
    },
    {
      "cell_type": "markdown",
      "metadata": {
        "id": "q7PYkVAhDldd"
      },
      "source": [
        "## Large model Simillar to Resnet50"
      ]
    },
    {
      "cell_type": "code",
      "execution_count": null,
      "metadata": {
        "id": "sCJROd1eDldd"
      },
      "outputs": [],
      "source": [
        "def block_type1(n_filters1,n_filters2, kernel, pad, x):\n",
        "    block1=layers.Conv1D(n_filters1,kernel,padding=pad,activation='swish')(x)\n",
        "    block1=layers.BatchNormalization()(block1)\n",
        "    block1=layers.Conv1D(n_filters1,kernel,padding=pad,activation='swish')(block1)\n",
        "    block1=layers.Conv1D(n_filters1,kernel,padding=pad,activation='swish')(block1)\n",
        "    block1=layers.BatchNormalization()(block1)\n",
        "    block1=layers.SpatialDropout1D(0.2)(block1)\n",
        "    block1=layers.Conv1D(n_filters1,kernel,padding=pad,activation='swish')(block1)\n",
        "    block1=layers.Conv1D(n_filters2,kernel,padding=pad,activation='swish')(block1)\n",
        "    block1=layers.BatchNormalization()(block1)\n",
        "    block1=layers.SpatialDropout1D(0.2)(block1)\n",
        "\n",
        "    block1_o=layers.Conv1D(n_filters2,kernel,padding=pad,activation='swish')(x)\n",
        "    block1_o=layers.BatchNormalization()(block1_o)\n",
        "    block1_o=layers.SpatialDropout1D(0.2)(block1_o)\n",
        "    added1=layers.add([block1,block1_o])\n",
        "    return layers.Conv1D(n_filters2,kernel,padding=pad,activation='swish')(added1)\n",
        "\n",
        "def block_type2(n_filters1,n_filters2, kernel, pad, x):\n",
        "    block=layers.Conv1D(n_filters1,kernel,padding=pad,activation='swish')(x)\n",
        "    block=layers.BatchNormalization()(block)\n",
        "    block=layers.Conv1D(n_filters1,kernel,padding=pad,activation='swish')(block)\n",
        "    block=layers.Conv1D(n_filters1,kernel,padding=pad,activation='swish')(block)\n",
        "    block=layers.BatchNormalization()(block)\n",
        "    block=layers.SpatialDropout1D(0.2)(block)\n",
        "    block=layers.Conv1D(n_filters1,kernel,padding=pad,activation='swish')(block)\n",
        "    block=layers.Conv1D(n_filters2,kernel,padding=pad,activation='swish')(block)\n",
        "    block=layers.BatchNormalization()(block)\n",
        "    block=layers.SpatialDropout1D(0.2)(block)\n",
        "\n",
        "    added=layers.add([x,block])\n",
        "    return layers.Conv1D(n_filters2,kernel,padding=pad,activation='swish')(added)"
      ]
    },
    {
      "cell_type": "code",
      "execution_count": null,
      "metadata": {
        "id": "KjN9LDPUDldd"
      },
      "outputs": [],
      "source": [
        "def create_model():\n",
        "  Input=keras.Input(shape=(1024,12),name=\"Input_signal\")\n",
        "  x=layers.Conv1D(32,3,padding=\"same\",activation='swish')(Input)\n",
        "  x=layers.BatchNormalization()(x)\n",
        "  x=layers.Conv1D(32,3,padding=\"same\",activation='swish')(x)\n",
        "  x=layers.MaxPool1D(2)(x)\n",
        "\n",
        "  x1=block_type1(32,128,3,\"same\",x)\n",
        "  x2=block_type2(32,128,3,\"same\",x1)\n",
        "  x3=block_type2(32,128,3,\"same\",x2)\n",
        "  x3=layers.AveragePooling1D(4)(x3)\n",
        "  x4=block_type1(64,256,7,\"same\",x3)\n",
        "  x5=block_type2(64,256,7,\"same\",x4)\n",
        "  x6=block_type2(64,256,7,\"same\",x5)\n",
        "  x7=block_type2(64,256,7,\"same\",x6)\n",
        "  x7=layers.AveragePooling1D(4)(x7)\n",
        "  x8=block_type1(128,512,9,\"same\",x7)\n",
        "  x9=block_type2(128,512,9,\"same\",x8)\n",
        "  x10=block_type2(128,512,9,\"same\",x9)\n",
        "  x11=block_type2(128,512,9,\"same\",x10)\n",
        "  x12=block_type2(128,512,9,\"same\",x11)\n",
        "  x13=block_type2(128,512,9,\"same\",x12)\n",
        "  x13=layers.AveragePooling1D(4)(x13)\n",
        "  x14=block_type1(256,1024,11,\"same\",x13)\n",
        "  x15=block_type2(256,1024,11,\"same\",x14)\n",
        "  x16=block_type2(256,1024,11,\"same\",x15)\n",
        "  x16=layers.GlobalAveragePooling1D()(x16)\n",
        "  x16=layers.Dense(16,activation='swish')(x16)\n",
        "  x16=layers.Dense(1)(x16)\n",
        "\n",
        "  model=keras.Model(Input,x16)\n",
        "  F1 = tfa.metrics.FBetaScore(num_classes=1)\n",
        "  AUROC = tf.keras.metrics.AUC(curve='ROC', name = 'AUROC')\n",
        "  AUPRC = tf.keras.metrics.AUC(curve='PR', name = 'AUPRC')\n",
        "  model.compile(optimizer='adam',loss='binary_crossentropy',metrics=['accuracy', F1, AUROC, AUPRC])\n",
        "  keras.utils.plot_model(model,'model.png',show_layer_activations=True,show_shapes=True)\n",
        "  model.summary()\n",
        "  return model\n",
        "\n",
        "model = create_model()\n"
      ]
    },
    {
      "cell_type": "code",
      "execution_count": null,
      "metadata": {
        "id": "FgkY2Qoaznj6"
      },
      "outputs": [],
      "source": [
        "keras.utils.plot_model(model,'/content/drive/MyDrive/FYP_ML/model1.png',show_shapes=True)"
      ]
    },
    {
      "cell_type": "code",
      "execution_count": null,
      "metadata": {
        "id": "8HpCfY8kwtuR"
      },
      "outputs": [],
      "source": [
        "model.fit(train_dataset, validation_data = test_dataset, epochs=100)"
      ]
    },
    {
      "cell_type": "markdown",
      "metadata": {
        "id": "E5wYrdYtWn8O"
      },
      "source": [
        "## Working large model"
      ]
    },
    {
      "cell_type": "code",
      "execution_count": 16,
      "metadata": {
        "id": "Wfw6RiMEWxwn"
      },
      "outputs": [],
      "source": [
        "def block_type1(n_filters1,n_filters2, kernel, pad, x):\n",
        "    block1=layers.Conv1D(n_filters1,kernel,padding=pad,activation='swish')(x)\n",
        "    block1=layers.BatchNormalization()(block1)\n",
        "    block1=layers.Conv1D(n_filters1,kernel,padding=pad,activation='swish')(block1)\n",
        "    block1=layers.Conv1D(n_filters1,kernel,padding=pad,activation='swish')(block1)\n",
        "    block1=layers.BatchNormalization()(block1)\n",
        "    block1=layers.Conv1D(n_filters1,kernel,padding=pad,activation='swish')(block1)\n",
        "    block1=layers.Conv1D(n_filters2,kernel,padding=pad,activation='swish')(block1)\n",
        "    block1=layers.BatchNormalization()(block1)\n",
        "\n",
        "    block1_o=layers.Conv1D(n_filters2,kernel,padding=pad,activation='swish')(x)\n",
        "    block1_o=layers.BatchNormalization()(block1_o)\n",
        "    added1=layers.add([block1,block1_o])\n",
        "    return layers.Conv1D(n_filters2,kernel,padding=pad,activation='swish')(added1)\n",
        "\n",
        "def block_type2(n_filters1,n_filters2, kernel, pad, x):\n",
        "    block=layers.Conv1D(n_filters1,kernel,padding=pad,activation='swish')(x)\n",
        "    block=layers.BatchNormalization()(block)\n",
        "    block=layers.Conv1D(n_filters1,kernel,padding=pad,activation='swish')(block)\n",
        "    block=layers.Conv1D(n_filters1,kernel,padding=pad,activation='swish')(block)\n",
        "    block=layers.BatchNormalization()(block)\n",
        "    block=layers.Conv1D(n_filters1,kernel,padding=pad,activation='swish')(block)\n",
        "    block=layers.Conv1D(n_filters2,kernel,padding=pad,activation='swish')(block)\n",
        "    block=layers.BatchNormalization()(block)\n",
        "\n",
        "    added=layers.add([x,block])\n",
        "    return layers.Conv1D(n_filters2,kernel,padding=pad,activation='swish')(added)"
      ]
    },
    {
      "cell_type": "code",
      "execution_count": 23,
      "metadata": {
        "id": "QkKgikOgW0ca"
      },
      "outputs": [],
      "source": [
        "def create_model():\n",
        "  Input=keras.Input(shape=(256,12),name=\"Input_signal\")\n",
        "  x=layers.Conv1D(32,3,padding=\"same\",activation='swish')(Input)\n",
        "  y=layers.Conv1D(32,5,padding='same',activation='swish')(Input)\n",
        "  a=layers.add([x,y])\n",
        "  # x=layers.AveragePooling1D(2)(a)\n",
        "  x=layers.MaxPooling1D(4)(a)\n",
        "\n",
        "  x1=block_type1(32,128,3,\"same\",x)\n",
        "  x2=block_type2(32,128,13,\"same\",x1)\n",
        "  x3=block_type2(32,128,23,\"same\",x2)\n",
        "  x3=layers.AveragePooling1D(4)(x3)\n",
        "  x4=block_type1(64,256,7,\"same\",x3)\n",
        "  x5=block_type2(64,256,17,\"same\",x4)\n",
        "  x6=block_type2(64,256,27,\"same\",x5)\n",
        "  x7=block_type2(64,256,7,\"same\",x6)\n",
        "  x16=layers.GlobalAveragePooling1D()(x7)\n",
        "  x16=layers.Dense(256)(x16)\n",
        "  x16=layers.Dropout(0.5)(x16)\n",
        "  x16=layers.Dense(16,activation='swish')(x16)\n",
        "  x16=layers.Dense(1)(x16)\n",
        "\n",
        "  model=keras.Model(Input,x16)\n",
        "  F1 = tfa.metrics.FBetaScore(num_classes=1)\n",
        "  AUROC = tf.keras.metrics.AUC(curve='ROC', name = 'AUROC')\n",
        "  AUPRC = tf.keras.metrics.AUC(curve='PR', name = 'AUPRC')\n",
        "  # used the followiing one to get 0.99 accuracy for 4s data\n",
        "  # model.compile(optimizer='adam',loss='binary_crossentropy',metrics=['accuracy', F1, AUROC, AUPRC])\n",
        "\n",
        "  optimizer=keras.optimizers.Adam(learning_rate=0.0005,)\n",
        "  loss=keras.losses.BinaryCrossentropy(from_logits=True)\n",
        "  model.compile(optimizer=optimizer,loss=loss,metrics=['accuracy', F1, AUROC, AUPRC])\n",
        "  # keras.utils.plot_model(model,'model.png',show_layer_activations=True,show_shapes=True)\n",
        "  # model.summary()\n",
        "  return model\n",
        "\n",
        "model = create_model()\n"
      ]
    },
    {
      "cell_type": "code",
      "execution_count": 21,
      "metadata": {},
      "outputs": [],
      "source": [
        "x_train=x_train*(10**5)\n",
        "x_test=x_test*(10**5)"
      ]
    },
    {
      "cell_type": "code",
      "execution_count": 24,
      "metadata": {
        "colab": {
          "base_uri": "https://localhost:8080/"
        },
        "id": "KVmrfmymcxcq",
        "outputId": "83956c31-d546-4567-c792-f64907ed0a4e"
      },
      "outputs": [
        {
          "name": "stdout",
          "output_type": "stream",
          "text": [
            "Epoch 1/100\n",
            "625/625 [==============================] - 115s 147ms/step - loss: 0.6537 - accuracy: 0.5373 - fbeta_score: 0.7359 - AUROC: 0.6223 - AUPRC: 0.7006 - val_loss: 0.6725 - val_accuracy: 0.6233 - val_fbeta_score: 0.6667 - val_AUROC: 0.6752 - val_AUPRC: 0.6558\n",
            "Epoch 2/100\n",
            "625/625 [==============================] - 38s 61ms/step - loss: 0.5610 - accuracy: 0.6758 - fbeta_score: 0.7359 - AUROC: 0.7490 - AUPRC: 0.8011 - val_loss: 0.6861 - val_accuracy: 0.6272 - val_fbeta_score: 0.6667 - val_AUROC: 0.6768 - val_AUPRC: 0.7342\n",
            "Epoch 3/100\n",
            "625/625 [==============================] - 37s 60ms/step - loss: 0.5010 - accuracy: 0.7236 - fbeta_score: 0.7359 - AUROC: 0.7895 - AUPRC: 0.8379 - val_loss: 0.5373 - val_accuracy: 0.6972 - val_fbeta_score: 0.6667 - val_AUROC: 0.7452 - val_AUPRC: 0.7863\n",
            "Epoch 4/100\n",
            "625/625 [==============================] - 38s 60ms/step - loss: 0.4653 - accuracy: 0.7541 - fbeta_score: 0.7359 - AUROC: 0.8150 - AUPRC: 0.8550 - val_loss: 0.5322 - val_accuracy: 0.7080 - val_fbeta_score: 0.6667 - val_AUROC: 0.7629 - val_AUPRC: 0.8085\n",
            "Epoch 5/100\n",
            "625/625 [==============================] - 71s 114ms/step - loss: 0.4292 - accuracy: 0.7814 - fbeta_score: 0.7359 - AUROC: 0.8363 - AUPRC: 0.8715 - val_loss: 0.9310 - val_accuracy: 0.6435 - val_fbeta_score: 0.6667 - val_AUROC: 0.6807 - val_AUPRC: 0.6200\n",
            "Epoch 6/100\n",
            "625/625 [==============================] - 36s 57ms/step - loss: 0.4017 - accuracy: 0.7973 - fbeta_score: 0.7359 - AUROC: 0.8502 - AUPRC: 0.8824 - val_loss: 0.4897 - val_accuracy: 0.7469 - val_fbeta_score: 0.6667 - val_AUROC: 0.7868 - val_AUPRC: 0.8156\n",
            "Epoch 7/100\n",
            "625/625 [==============================] - 36s 58ms/step - loss: 0.3906 - accuracy: 0.8046 - fbeta_score: 0.7359 - AUROC: 0.8571 - AUPRC: 0.8895 - val_loss: 0.5343 - val_accuracy: 0.6960 - val_fbeta_score: 0.6667 - val_AUROC: 0.7352 - val_AUPRC: 0.7724\n",
            "Epoch 8/100\n",
            "625/625 [==============================] - 38s 61ms/step - loss: 0.3663 - accuracy: 0.8195 - fbeta_score: 0.7359 - AUROC: 0.8670 - AUPRC: 0.8986 - val_loss: 0.4667 - val_accuracy: 0.7595 - val_fbeta_score: 0.6667 - val_AUROC: 0.7920 - val_AUPRC: 0.8148\n",
            "Epoch 9/100\n",
            "625/625 [==============================] - 37s 59ms/step - loss: 0.3443 - accuracy: 0.8342 - fbeta_score: 0.7359 - AUROC: 0.8803 - AUPRC: 0.9062 - val_loss: 0.5094 - val_accuracy: 0.7683 - val_fbeta_score: 0.6667 - val_AUROC: 0.8178 - val_AUPRC: 0.8414\n",
            "Epoch 10/100\n",
            "625/625 [==============================] - 36s 58ms/step - loss: 0.3147 - accuracy: 0.8516 - fbeta_score: 0.7359 - AUROC: 0.8914 - AUPRC: 0.9157 - val_loss: 0.5892 - val_accuracy: 0.6987 - val_fbeta_score: 0.6667 - val_AUROC: 0.7355 - val_AUPRC: 0.7937\n",
            "Epoch 11/100\n",
            "625/625 [==============================] - 73s 116ms/step - loss: 0.2973 - accuracy: 0.8631 - fbeta_score: 0.7359 - AUROC: 0.9010 - AUPRC: 0.9224 - val_loss: 1.0556 - val_accuracy: 0.7453 - val_fbeta_score: 0.6667 - val_AUROC: 0.7965 - val_AUPRC: 0.8387\n",
            "Epoch 12/100\n",
            "625/625 [==============================] - 35s 57ms/step - loss: 0.2746 - accuracy: 0.8765 - fbeta_score: 0.7359 - AUROC: 0.9097 - AUPRC: 0.9279 - val_loss: 0.5094 - val_accuracy: 0.7527 - val_fbeta_score: 0.6667 - val_AUROC: 0.7837 - val_AUPRC: 0.8176\n",
            "Epoch 13/100\n",
            "625/625 [==============================] - 37s 59ms/step - loss: 0.2612 - accuracy: 0.8815 - fbeta_score: 0.7359 - AUROC: 0.9138 - AUPRC: 0.9315 - val_loss: 0.5867 - val_accuracy: 0.7783 - val_fbeta_score: 0.6667 - val_AUROC: 0.8100 - val_AUPRC: 0.8172\n",
            "Epoch 14/100\n",
            "625/625 [==============================] - 36s 57ms/step - loss: 0.2382 - accuracy: 0.8942 - fbeta_score: 0.7359 - AUROC: 0.9245 - AUPRC: 0.9394 - val_loss: 0.5401 - val_accuracy: 0.8043 - val_fbeta_score: 0.6667 - val_AUROC: 0.8258 - val_AUPRC: 0.8230\n",
            "Epoch 15/100\n",
            "625/625 [==============================] - 87s 140ms/step - loss: 0.2204 - accuracy: 0.9052 - fbeta_score: 0.7359 - AUROC: 0.9306 - AUPRC: 0.9430 - val_loss: 0.4676 - val_accuracy: 0.7808 - val_fbeta_score: 0.6667 - val_AUROC: 0.8096 - val_AUPRC: 0.8261\n",
            "Epoch 16/100\n",
            "625/625 [==============================] - 34s 55ms/step - loss: 0.2146 - accuracy: 0.9074 - fbeta_score: 0.7359 - AUROC: 0.9336 - AUPRC: 0.9447 - val_loss: 0.6289 - val_accuracy: 0.7643 - val_fbeta_score: 0.6667 - val_AUROC: 0.7826 - val_AUPRC: 0.7879\n",
            "Epoch 17/100\n",
            "625/625 [==============================] - 37s 59ms/step - loss: 0.2006 - accuracy: 0.9157 - fbeta_score: 0.7359 - AUROC: 0.9395 - AUPRC: 0.9491 - val_loss: 0.8113 - val_accuracy: 0.6993 - val_fbeta_score: 0.6667 - val_AUROC: 0.7114 - val_AUPRC: 0.7708\n",
            "Epoch 18/100\n",
            "625/625 [==============================] - 37s 59ms/step - loss: 0.1825 - accuracy: 0.9237 - fbeta_score: 0.7359 - AUROC: 0.9436 - AUPRC: 0.9515 - val_loss: 0.5762 - val_accuracy: 0.8015 - val_fbeta_score: 0.6667 - val_AUROC: 0.8252 - val_AUPRC: 0.8357\n",
            "Epoch 19/100\n",
            "625/625 [==============================] - 35s 56ms/step - loss: 0.1737 - accuracy: 0.9269 - fbeta_score: 0.7359 - AUROC: 0.9474 - AUPRC: 0.9550 - val_loss: 0.7778 - val_accuracy: 0.7379 - val_fbeta_score: 0.6667 - val_AUROC: 0.7650 - val_AUPRC: 0.8134\n",
            "Epoch 20/100\n",
            "625/625 [==============================] - 37s 58ms/step - loss: 0.1577 - accuracy: 0.9347 - fbeta_score: 0.7359 - AUROC: 0.9532 - AUPRC: 0.9595 - val_loss: 0.6585 - val_accuracy: 0.7886 - val_fbeta_score: 0.6667 - val_AUROC: 0.8101 - val_AUPRC: 0.8063\n",
            "Epoch 21/100\n",
            "625/625 [==============================] - 36s 58ms/step - loss: 0.1477 - accuracy: 0.9396 - fbeta_score: 0.7359 - AUROC: 0.9562 - AUPRC: 0.9617 - val_loss: 0.8907 - val_accuracy: 0.7843 - val_fbeta_score: 0.6667 - val_AUROC: 0.8012 - val_AUPRC: 0.8202\n",
            "Epoch 22/100\n",
            "625/625 [==============================] - 37s 60ms/step - loss: 0.1412 - accuracy: 0.9421 - fbeta_score: 0.7359 - AUROC: 0.9592 - AUPRC: 0.9644 - val_loss: 1.2017 - val_accuracy: 0.7655 - val_fbeta_score: 0.6667 - val_AUROC: 0.7826 - val_AUPRC: 0.8240\n",
            "Epoch 23/100\n",
            "625/625 [==============================] - 76s 122ms/step - loss: 0.1269 - accuracy: 0.9487 - fbeta_score: 0.7359 - AUROC: 0.9630 - AUPRC: 0.9676 - val_loss: 0.8637 - val_accuracy: 0.7508 - val_fbeta_score: 0.6667 - val_AUROC: 0.7703 - val_AUPRC: 0.8055\n",
            "Epoch 24/100\n",
            "625/625 [==============================] - 36s 57ms/step - loss: 0.1242 - accuracy: 0.9505 - fbeta_score: 0.7359 - AUROC: 0.9642 - AUPRC: 0.9685 - val_loss: 0.6611 - val_accuracy: 0.7692 - val_fbeta_score: 0.6667 - val_AUROC: 0.7839 - val_AUPRC: 0.7882\n",
            "Epoch 25/100\n",
            "625/625 [==============================] - 36s 58ms/step - loss: 0.1109 - accuracy: 0.9568 - fbeta_score: 0.7359 - AUROC: 0.9685 - AUPRC: 0.9720 - val_loss: 0.7104 - val_accuracy: 0.7697 - val_fbeta_score: 0.6667 - val_AUROC: 0.7872 - val_AUPRC: 0.8182\n",
            "Epoch 26/100\n",
            "625/625 [==============================] - 37s 60ms/step - loss: 0.1041 - accuracy: 0.9579 - fbeta_score: 0.7359 - AUROC: 0.9697 - AUPRC: 0.9728 - val_loss: 1.8810 - val_accuracy: 0.7551 - val_fbeta_score: 0.6667 - val_AUROC: 0.7733 - val_AUPRC: 0.8116\n",
            "Epoch 27/100\n",
            "625/625 [==============================] - 38s 60ms/step - loss: 0.0973 - accuracy: 0.9614 - fbeta_score: 0.7359 - AUROC: 0.9717 - AUPRC: 0.9749 - val_loss: 1.5458 - val_accuracy: 0.7474 - val_fbeta_score: 0.6667 - val_AUROC: 0.7576 - val_AUPRC: 0.7984\n",
            "Epoch 28/100\n",
            "625/625 [==============================] - 36s 57ms/step - loss: 0.2730 - accuracy: 0.8723 - fbeta_score: 0.7359 - AUROC: 0.9131 - AUPRC: 0.9272 - val_loss: 1.4667 - val_accuracy: 0.7505 - val_fbeta_score: 0.6667 - val_AUROC: 0.7978 - val_AUPRC: 0.8186\n",
            "Epoch 29/100\n",
            "394/625 [=================>............] - ETA: 12s - loss: 0.2537 - accuracy: 0.8875 - fbeta_score: 0.7370 - AUROC: 0.9195 - AUPRC: 0.9311"
          ]
        },
        {
          "ename": "KeyboardInterrupt",
          "evalue": "",
          "output_type": "error",
          "traceback": [
            "\u001b[0;31m---------------------------------------------------------------------------\u001b[0m",
            "\u001b[0;31mKeyboardInterrupt\u001b[0m                         Traceback (most recent call last)",
            "\u001b[1;32m/home/nima/BraiNeoCare/ML_code.ipynb Cell 19\u001b[0m line \u001b[0;36m1\n\u001b[0;32m----> <a href='vscode-notebook-cell://ssh-remote%2B7b22686f73744e616d65223a22454e544331227d/home/nima/BraiNeoCare/ML_code.ipynb#X24sdnNjb2RlLXJlbW90ZQ%3D%3D?line=0'>1</a>\u001b[0m history\u001b[39m=\u001b[39mmodel\u001b[39m.\u001b[39;49mfit(x_train,y_train, validation_data \u001b[39m=\u001b[39;49m (x_test,y_test), epochs\u001b[39m=\u001b[39;49m\u001b[39m100\u001b[39;49m,batch_size\u001b[39m=\u001b[39;49m\u001b[39m64\u001b[39;49m)\n",
            "File \u001b[0;32m~/miniconda3/envs/BrainNeoCare/lib/python3.9/site-packages/keras/src/utils/traceback_utils.py:65\u001b[0m, in \u001b[0;36mfilter_traceback.<locals>.error_handler\u001b[0;34m(*args, **kwargs)\u001b[0m\n\u001b[1;32m     63\u001b[0m filtered_tb \u001b[39m=\u001b[39m \u001b[39mNone\u001b[39;00m\n\u001b[1;32m     64\u001b[0m \u001b[39mtry\u001b[39;00m:\n\u001b[0;32m---> 65\u001b[0m     \u001b[39mreturn\u001b[39;00m fn(\u001b[39m*\u001b[39;49margs, \u001b[39m*\u001b[39;49m\u001b[39m*\u001b[39;49mkwargs)\n\u001b[1;32m     66\u001b[0m \u001b[39mexcept\u001b[39;00m \u001b[39mException\u001b[39;00m \u001b[39mas\u001b[39;00m e:\n\u001b[1;32m     67\u001b[0m     filtered_tb \u001b[39m=\u001b[39m _process_traceback_frames(e\u001b[39m.\u001b[39m__traceback__)\n",
            "File \u001b[0;32m~/miniconda3/envs/BrainNeoCare/lib/python3.9/site-packages/keras/src/engine/training.py:1783\u001b[0m, in \u001b[0;36mModel.fit\u001b[0;34m(self, x, y, batch_size, epochs, verbose, callbacks, validation_split, validation_data, shuffle, class_weight, sample_weight, initial_epoch, steps_per_epoch, validation_steps, validation_batch_size, validation_freq, max_queue_size, workers, use_multiprocessing)\u001b[0m\n\u001b[1;32m   1775\u001b[0m \u001b[39mwith\u001b[39;00m tf\u001b[39m.\u001b[39mprofiler\u001b[39m.\u001b[39mexperimental\u001b[39m.\u001b[39mTrace(\n\u001b[1;32m   1776\u001b[0m     \u001b[39m\"\u001b[39m\u001b[39mtrain\u001b[39m\u001b[39m\"\u001b[39m,\n\u001b[1;32m   1777\u001b[0m     epoch_num\u001b[39m=\u001b[39mepoch,\n\u001b[0;32m   (...)\u001b[0m\n\u001b[1;32m   1780\u001b[0m     _r\u001b[39m=\u001b[39m\u001b[39m1\u001b[39m,\n\u001b[1;32m   1781\u001b[0m ):\n\u001b[1;32m   1782\u001b[0m     callbacks\u001b[39m.\u001b[39mon_train_batch_begin(step)\n\u001b[0;32m-> 1783\u001b[0m     tmp_logs \u001b[39m=\u001b[39m \u001b[39mself\u001b[39;49m\u001b[39m.\u001b[39;49mtrain_function(iterator)\n\u001b[1;32m   1784\u001b[0m     \u001b[39mif\u001b[39;00m data_handler\u001b[39m.\u001b[39mshould_sync:\n\u001b[1;32m   1785\u001b[0m         context\u001b[39m.\u001b[39masync_wait()\n",
            "File \u001b[0;32m~/miniconda3/envs/BrainNeoCare/lib/python3.9/site-packages/tensorflow/python/util/traceback_utils.py:150\u001b[0m, in \u001b[0;36mfilter_traceback.<locals>.error_handler\u001b[0;34m(*args, **kwargs)\u001b[0m\n\u001b[1;32m    148\u001b[0m filtered_tb \u001b[39m=\u001b[39m \u001b[39mNone\u001b[39;00m\n\u001b[1;32m    149\u001b[0m \u001b[39mtry\u001b[39;00m:\n\u001b[0;32m--> 150\u001b[0m   \u001b[39mreturn\u001b[39;00m fn(\u001b[39m*\u001b[39;49margs, \u001b[39m*\u001b[39;49m\u001b[39m*\u001b[39;49mkwargs)\n\u001b[1;32m    151\u001b[0m \u001b[39mexcept\u001b[39;00m \u001b[39mException\u001b[39;00m \u001b[39mas\u001b[39;00m e:\n\u001b[1;32m    152\u001b[0m   filtered_tb \u001b[39m=\u001b[39m _process_traceback_frames(e\u001b[39m.\u001b[39m__traceback__)\n",
            "File \u001b[0;32m~/miniconda3/envs/BrainNeoCare/lib/python3.9/site-packages/tensorflow/python/eager/polymorphic_function/polymorphic_function.py:831\u001b[0m, in \u001b[0;36mFunction.__call__\u001b[0;34m(self, *args, **kwds)\u001b[0m\n\u001b[1;32m    828\u001b[0m compiler \u001b[39m=\u001b[39m \u001b[39m\"\u001b[39m\u001b[39mxla\u001b[39m\u001b[39m\"\u001b[39m \u001b[39mif\u001b[39;00m \u001b[39mself\u001b[39m\u001b[39m.\u001b[39m_jit_compile \u001b[39melse\u001b[39;00m \u001b[39m\"\u001b[39m\u001b[39mnonXla\u001b[39m\u001b[39m\"\u001b[39m\n\u001b[1;32m    830\u001b[0m \u001b[39mwith\u001b[39;00m OptionalXlaContext(\u001b[39mself\u001b[39m\u001b[39m.\u001b[39m_jit_compile):\n\u001b[0;32m--> 831\u001b[0m   result \u001b[39m=\u001b[39m \u001b[39mself\u001b[39;49m\u001b[39m.\u001b[39;49m_call(\u001b[39m*\u001b[39;49margs, \u001b[39m*\u001b[39;49m\u001b[39m*\u001b[39;49mkwds)\n\u001b[1;32m    833\u001b[0m new_tracing_count \u001b[39m=\u001b[39m \u001b[39mself\u001b[39m\u001b[39m.\u001b[39mexperimental_get_tracing_count()\n\u001b[1;32m    834\u001b[0m without_tracing \u001b[39m=\u001b[39m (tracing_count \u001b[39m==\u001b[39m new_tracing_count)\n",
            "File \u001b[0;32m~/miniconda3/envs/BrainNeoCare/lib/python3.9/site-packages/tensorflow/python/eager/polymorphic_function/polymorphic_function.py:867\u001b[0m, in \u001b[0;36mFunction._call\u001b[0;34m(self, *args, **kwds)\u001b[0m\n\u001b[1;32m    864\u001b[0m   \u001b[39mself\u001b[39m\u001b[39m.\u001b[39m_lock\u001b[39m.\u001b[39mrelease()\n\u001b[1;32m    865\u001b[0m   \u001b[39m# In this case we have created variables on the first call, so we run the\u001b[39;00m\n\u001b[1;32m    866\u001b[0m   \u001b[39m# defunned version which is guaranteed to never create variables.\u001b[39;00m\n\u001b[0;32m--> 867\u001b[0m   \u001b[39mreturn\u001b[39;00m tracing_compilation\u001b[39m.\u001b[39;49mcall_function(\n\u001b[1;32m    868\u001b[0m       args, kwds, \u001b[39mself\u001b[39;49m\u001b[39m.\u001b[39;49m_no_variable_creation_config\n\u001b[1;32m    869\u001b[0m   )\n\u001b[1;32m    870\u001b[0m \u001b[39melif\u001b[39;00m \u001b[39mself\u001b[39m\u001b[39m.\u001b[39m_variable_creation_config \u001b[39mis\u001b[39;00m \u001b[39mnot\u001b[39;00m \u001b[39mNone\u001b[39;00m:\n\u001b[1;32m    871\u001b[0m   \u001b[39m# Release the lock early so that multiple threads can perform the call\u001b[39;00m\n\u001b[1;32m    872\u001b[0m   \u001b[39m# in parallel.\u001b[39;00m\n\u001b[1;32m    873\u001b[0m   \u001b[39mself\u001b[39m\u001b[39m.\u001b[39m_lock\u001b[39m.\u001b[39mrelease()\n",
            "File \u001b[0;32m~/miniconda3/envs/BrainNeoCare/lib/python3.9/site-packages/tensorflow/python/eager/polymorphic_function/tracing_compilation.py:139\u001b[0m, in \u001b[0;36mcall_function\u001b[0;34m(args, kwargs, tracing_options)\u001b[0m\n\u001b[1;32m    137\u001b[0m bound_args \u001b[39m=\u001b[39m function\u001b[39m.\u001b[39mfunction_type\u001b[39m.\u001b[39mbind(\u001b[39m*\u001b[39margs, \u001b[39m*\u001b[39m\u001b[39m*\u001b[39mkwargs)\n\u001b[1;32m    138\u001b[0m flat_inputs \u001b[39m=\u001b[39m function\u001b[39m.\u001b[39mfunction_type\u001b[39m.\u001b[39munpack_inputs(bound_args)\n\u001b[0;32m--> 139\u001b[0m \u001b[39mreturn\u001b[39;00m function\u001b[39m.\u001b[39;49m_call_flat(  \u001b[39m# pylint: disable=protected-access\u001b[39;49;00m\n\u001b[1;32m    140\u001b[0m     flat_inputs, captured_inputs\u001b[39m=\u001b[39;49mfunction\u001b[39m.\u001b[39;49mcaptured_inputs\n\u001b[1;32m    141\u001b[0m )\n",
            "File \u001b[0;32m~/miniconda3/envs/BrainNeoCare/lib/python3.9/site-packages/tensorflow/python/eager/polymorphic_function/concrete_function.py:1264\u001b[0m, in \u001b[0;36mConcreteFunction._call_flat\u001b[0;34m(self, tensor_inputs, captured_inputs)\u001b[0m\n\u001b[1;32m   1260\u001b[0m possible_gradient_type \u001b[39m=\u001b[39m gradients_util\u001b[39m.\u001b[39mPossibleTapeGradientTypes(args)\n\u001b[1;32m   1261\u001b[0m \u001b[39mif\u001b[39;00m (possible_gradient_type \u001b[39m==\u001b[39m gradients_util\u001b[39m.\u001b[39mPOSSIBLE_GRADIENT_TYPES_NONE\n\u001b[1;32m   1262\u001b[0m     \u001b[39mand\u001b[39;00m executing_eagerly):\n\u001b[1;32m   1263\u001b[0m   \u001b[39m# No tape is watching; skip to running the function.\u001b[39;00m\n\u001b[0;32m-> 1264\u001b[0m   \u001b[39mreturn\u001b[39;00m \u001b[39mself\u001b[39;49m\u001b[39m.\u001b[39;49m_inference_function\u001b[39m.\u001b[39;49mflat_call(args)\n\u001b[1;32m   1265\u001b[0m forward_backward \u001b[39m=\u001b[39m \u001b[39mself\u001b[39m\u001b[39m.\u001b[39m_select_forward_and_backward_functions(\n\u001b[1;32m   1266\u001b[0m     args,\n\u001b[1;32m   1267\u001b[0m     possible_gradient_type,\n\u001b[1;32m   1268\u001b[0m     executing_eagerly)\n\u001b[1;32m   1269\u001b[0m forward_function, args_with_tangents \u001b[39m=\u001b[39m forward_backward\u001b[39m.\u001b[39mforward()\n",
            "File \u001b[0;32m~/miniconda3/envs/BrainNeoCare/lib/python3.9/site-packages/tensorflow/python/eager/polymorphic_function/atomic_function.py:217\u001b[0m, in \u001b[0;36mAtomicFunction.flat_call\u001b[0;34m(self, args)\u001b[0m\n\u001b[1;32m    215\u001b[0m \u001b[39mdef\u001b[39;00m \u001b[39mflat_call\u001b[39m(\u001b[39mself\u001b[39m, args: Sequence[core\u001b[39m.\u001b[39mTensor]) \u001b[39m-\u001b[39m\u001b[39m>\u001b[39m Any:\n\u001b[1;32m    216\u001b[0m \u001b[39m  \u001b[39m\u001b[39m\"\"\"Calls with tensor inputs and returns the structured output.\"\"\"\u001b[39;00m\n\u001b[0;32m--> 217\u001b[0m   flat_outputs \u001b[39m=\u001b[39m \u001b[39mself\u001b[39;49m(\u001b[39m*\u001b[39;49margs)\n\u001b[1;32m    218\u001b[0m   \u001b[39mreturn\u001b[39;00m \u001b[39mself\u001b[39m\u001b[39m.\u001b[39mfunction_type\u001b[39m.\u001b[39mpack_output(flat_outputs)\n",
            "File \u001b[0;32m~/miniconda3/envs/BrainNeoCare/lib/python3.9/site-packages/tensorflow/python/eager/polymorphic_function/atomic_function.py:252\u001b[0m, in \u001b[0;36mAtomicFunction.__call__\u001b[0;34m(self, *args)\u001b[0m\n\u001b[1;32m    250\u001b[0m \u001b[39mwith\u001b[39;00m record\u001b[39m.\u001b[39mstop_recording():\n\u001b[1;32m    251\u001b[0m   \u001b[39mif\u001b[39;00m \u001b[39mself\u001b[39m\u001b[39m.\u001b[39m_bound_context\u001b[39m.\u001b[39mexecuting_eagerly():\n\u001b[0;32m--> 252\u001b[0m     outputs \u001b[39m=\u001b[39m \u001b[39mself\u001b[39;49m\u001b[39m.\u001b[39;49m_bound_context\u001b[39m.\u001b[39;49mcall_function(\n\u001b[1;32m    253\u001b[0m         \u001b[39mself\u001b[39;49m\u001b[39m.\u001b[39;49mname,\n\u001b[1;32m    254\u001b[0m         \u001b[39mlist\u001b[39;49m(args),\n\u001b[1;32m    255\u001b[0m         \u001b[39mlen\u001b[39;49m(\u001b[39mself\u001b[39;49m\u001b[39m.\u001b[39;49mfunction_type\u001b[39m.\u001b[39;49mflat_outputs),\n\u001b[1;32m    256\u001b[0m     )\n\u001b[1;32m    257\u001b[0m   \u001b[39melse\u001b[39;00m:\n\u001b[1;32m    258\u001b[0m     outputs \u001b[39m=\u001b[39m make_call_op_in_graph(\n\u001b[1;32m    259\u001b[0m         \u001b[39mself\u001b[39m,\n\u001b[1;32m    260\u001b[0m         \u001b[39mlist\u001b[39m(args),\n\u001b[1;32m    261\u001b[0m         \u001b[39mself\u001b[39m\u001b[39m.\u001b[39m_bound_context\u001b[39m.\u001b[39mfunction_call_options\u001b[39m.\u001b[39mas_attrs(),\n\u001b[1;32m    262\u001b[0m     )\n",
            "File \u001b[0;32m~/miniconda3/envs/BrainNeoCare/lib/python3.9/site-packages/tensorflow/python/eager/context.py:1479\u001b[0m, in \u001b[0;36mContext.call_function\u001b[0;34m(self, name, tensor_inputs, num_outputs)\u001b[0m\n\u001b[1;32m   1477\u001b[0m cancellation_context \u001b[39m=\u001b[39m cancellation\u001b[39m.\u001b[39mcontext()\n\u001b[1;32m   1478\u001b[0m \u001b[39mif\u001b[39;00m cancellation_context \u001b[39mis\u001b[39;00m \u001b[39mNone\u001b[39;00m:\n\u001b[0;32m-> 1479\u001b[0m   outputs \u001b[39m=\u001b[39m execute\u001b[39m.\u001b[39;49mexecute(\n\u001b[1;32m   1480\u001b[0m       name\u001b[39m.\u001b[39;49mdecode(\u001b[39m\"\u001b[39;49m\u001b[39mutf-8\u001b[39;49m\u001b[39m\"\u001b[39;49m),\n\u001b[1;32m   1481\u001b[0m       num_outputs\u001b[39m=\u001b[39;49mnum_outputs,\n\u001b[1;32m   1482\u001b[0m       inputs\u001b[39m=\u001b[39;49mtensor_inputs,\n\u001b[1;32m   1483\u001b[0m       attrs\u001b[39m=\u001b[39;49mattrs,\n\u001b[1;32m   1484\u001b[0m       ctx\u001b[39m=\u001b[39;49m\u001b[39mself\u001b[39;49m,\n\u001b[1;32m   1485\u001b[0m   )\n\u001b[1;32m   1486\u001b[0m \u001b[39melse\u001b[39;00m:\n\u001b[1;32m   1487\u001b[0m   outputs \u001b[39m=\u001b[39m execute\u001b[39m.\u001b[39mexecute_with_cancellation(\n\u001b[1;32m   1488\u001b[0m       name\u001b[39m.\u001b[39mdecode(\u001b[39m\"\u001b[39m\u001b[39mutf-8\u001b[39m\u001b[39m\"\u001b[39m),\n\u001b[1;32m   1489\u001b[0m       num_outputs\u001b[39m=\u001b[39mnum_outputs,\n\u001b[0;32m   (...)\u001b[0m\n\u001b[1;32m   1493\u001b[0m       cancellation_manager\u001b[39m=\u001b[39mcancellation_context,\n\u001b[1;32m   1494\u001b[0m   )\n",
            "File \u001b[0;32m~/miniconda3/envs/BrainNeoCare/lib/python3.9/site-packages/tensorflow/python/eager/execute.py:60\u001b[0m, in \u001b[0;36mquick_execute\u001b[0;34m(op_name, num_outputs, inputs, attrs, ctx, name)\u001b[0m\n\u001b[1;32m     53\u001b[0m   \u001b[39m# Convert any objects of type core_types.Tensor to Tensor.\u001b[39;00m\n\u001b[1;32m     54\u001b[0m   inputs \u001b[39m=\u001b[39m [\n\u001b[1;32m     55\u001b[0m       tensor_conversion_registry\u001b[39m.\u001b[39mconvert(t)\n\u001b[1;32m     56\u001b[0m       \u001b[39mif\u001b[39;00m \u001b[39misinstance\u001b[39m(t, core_types\u001b[39m.\u001b[39mTensor)\n\u001b[1;32m     57\u001b[0m       \u001b[39melse\u001b[39;00m t\n\u001b[1;32m     58\u001b[0m       \u001b[39mfor\u001b[39;00m t \u001b[39min\u001b[39;00m inputs\n\u001b[1;32m     59\u001b[0m   ]\n\u001b[0;32m---> 60\u001b[0m   tensors \u001b[39m=\u001b[39m pywrap_tfe\u001b[39m.\u001b[39;49mTFE_Py_Execute(ctx\u001b[39m.\u001b[39;49m_handle, device_name, op_name,\n\u001b[1;32m     61\u001b[0m                                       inputs, attrs, num_outputs)\n\u001b[1;32m     62\u001b[0m \u001b[39mexcept\u001b[39;00m core\u001b[39m.\u001b[39m_NotOkStatusException \u001b[39mas\u001b[39;00m e:\n\u001b[1;32m     63\u001b[0m   \u001b[39mif\u001b[39;00m name \u001b[39mis\u001b[39;00m \u001b[39mnot\u001b[39;00m \u001b[39mNone\u001b[39;00m:\n",
            "\u001b[0;31mKeyboardInterrupt\u001b[0m: "
          ]
        }
      ],
      "source": [
        "# used 128 as the batch size for 4s data\n",
        "history=model.fit(x_train,y_train, validation_data = (x_test,y_test), epochs=100,batch_size=64)"
      ]
    },
    {
      "cell_type": "code",
      "execution_count": 21,
      "metadata": {},
      "outputs": [
        {
          "name": "stderr",
          "output_type": "stream",
          "text": [
            "/home/nima/miniconda3/envs/BrainNeoCare/lib/python3.9/site-packages/keras/src/engine/training.py:3079: UserWarning: You are saving your model as an HDF5 file via `model.save()`. This file format is considered legacy. We recommend using instead the native Keras format, e.g. `model.save('my_model.keras')`.\n",
            "  saving_api.save_model(\n"
          ]
        }
      ],
      "source": [
        "model.save('../BraiNeoCare/models/model1.h5')   "
      ]
    },
    {
      "cell_type": "code",
      "execution_count": null,
      "metadata": {},
      "outputs": [],
      "source": [
        "model=keras.models.load_model('../BraiNeoCare/models/model1.h5')\n",
        "model.summary()"
      ]
    },
    {
      "cell_type": "code",
      "execution_count": 19,
      "metadata": {},
      "outputs": [
        {
          "data": {
            "image/png": "[encoded data removed]",
            "text/plain": [
              "<Figure size 640x480 with 1 Axes>"
            ]
          },
          "metadata": {},
          "output_type": "display_data"
        }
      ],
      "source": [
        "training_accuracy = history.history['accuracy']\n",
        "val_accuracy=history.history['val_accuracy']\n",
        "training_loss = history.history['loss']\n",
        "val_loss=history.history['val_loss']\n",
        "epochs = range(1, len(training_accuracy) + 1)\n",
        "\n",
        "# Plot training loss against epochs\n",
        "plt.plot(epochs, training_accuracy, label='Training accuracy')\n",
        "plt.plot(epochs, val_accuracy, label='Validation accuracy')\n",
        "plt.plot(epochs, training_loss, label='Training loss')\n",
        "plt.plot(epochs, val_loss, label='Validation loss')\n",
        "plt.title('Training loss')\n",
        "plt.xlabel('Epochs')\n",
        "plt.ylabel('Loss')\n",
        "plt.legend()\n",
        "plt.show()"
      ]
    },
    {
      "cell_type": "markdown",
      "metadata": {
        "id": "SsCDxOZKWTEA"
      },
      "source": [
        "## Nima's model"
      ]
    },
    {
      "cell_type": "code",
      "execution_count": null,
      "metadata": {
        "id": "UtDYdil2l8kB"
      },
      "outputs": [],
      "source": [
        "def create_model():\n",
        "    i = keras.Input((1024,12), name='signal')\n",
        "    x = layers.Conv1D(filters=72, kernel_size=15, activation='swish', padding='same')(i)\n",
        "    a = layers.Conv1D(filters=72, kernel_size=1, padding='same')(i)\n",
        "    a = layers.Add()([a,x])\n",
        "    a = layers.Activation('swish')(a)\n",
        "    x = layers.SpatialDropout1D(0.2)(a)\n",
        "    b = layers.AveragePooling1D(pool_size=2)(x)\n",
        "    x = layers.Conv1D(filters=144, kernel_size=3, activation='swish', padding='same')(b)\n",
        "    a = layers.Conv1D(filters=144, kernel_size=1, padding='same')(b)\n",
        "    a = layers.Add()([a,x])\n",
        "    a = layers.Activation('swish')(a)\n",
        "    x = layers.SpatialDropout1D(0.2)(a)\n",
        "    b = layers.AveragePooling1D(pool_size=2)(x)\n",
        "    x = layers.Conv1D(filters=288, kernel_size=5, activation='swish', padding='same')(b)\n",
        "    a = layers.Conv1D(filters=288, kernel_size=1, padding='same')(b)\n",
        "    a = layers.Add()([a,x])\n",
        "    a = layers.Activation('swish')(a)\n",
        "    x = layers.SpatialDropout1D(0.2)(a)\n",
        "    b = layers.AveragePooling1D(pool_size=2)(x)\n",
        "    x = layers.Conv1D(filters=576, kernel_size=7, activation='swish', padding='same')(b)\n",
        "    a = layers.Conv1D(filters=576, kernel_size=1, padding='same')(b)\n",
        "    a = layers.Add()([a,x])\n",
        "    a = layers.Activation('swish')(a)\n",
        "    b = layers.SpatialDropout1D(0.2)(a)\n",
        "    x = layers.GlobalAveragePooling1D()(b)\n",
        "\n",
        "    # j = keras.Input((2000,2*2), name='fft')\n",
        "    # y = layers.Conv1D(filters=72, kernel_size=3, activation='swish', padding='same')(j)\n",
        "    # y = layers.SpatialDropout1D(0.1)(y)\n",
        "    # y = layers.AveragePooling1D(pool_size=2)(y)\n",
        "    # y = layers.Conv1D(filters=144, kernel_size=5, activation='swish', padding='same')(y)\n",
        "    # y = layers.SpatialDropout1D(0.1)(y)\n",
        "    # y = layers.AveragePooling1D(pool_size=2)(y)\n",
        "    # y = layers.Conv1D(filters=288, kernel_size=7, activation='swish', padding='same')(y)\n",
        "    # y = layers.SpatialDropout1D(0.1)(y)\n",
        "    # y = layers.AveragePooling1D(pool_size=2)(y)\n",
        "    # y = layers.Conv1D(filters=576, kernel_size=9, activation='swish', padding='same')(y)\n",
        "    # y = layers.SpatialDropout1D(0.1)(y)\n",
        "    # y = layers.AveragePooling1D(pool_size=2)(y)\n",
        "    # y = layers.Conv1D(filters=1152, kernel_size=11, activation='swish', padding='same')(y)\n",
        "    # y = layers.SpatialDropout1D(0.1)(y)\n",
        "    # y = layers.GlobalAveragePooling1D()(y)\n",
        "\n",
        "    # f = layers.Concatenate()([x,y])\n",
        "    # f = layers.Activation('swish')(f)\n",
        "\n",
        "    f = layers.Dense(576, activation='swish')(x)\n",
        "    f = layers.Dropout(0.5)(f)\n",
        "    f = layers.Dense(1,activation = 'sigmoid')(f)\n",
        "\n",
        "    F1 = tfa.metrics.FBetaScore(num_classes=1)\n",
        "    AUROC = tf.keras.metrics.AUC(curve='ROC', name = 'AUROC')\n",
        "    AUPRC = tf.keras.metrics.AUC(curve='PR', name = 'AUPRC')\n",
        "    model = keras.Model(i,f)\n",
        "    model.compile(optimizer='adam',loss='binary_crossentropy',metrics=['accuracy', AUROC, AUPRC])\n",
        "    tf.keras.utils.plot_model(model, to_file='model.png', show_shapes=True, show_dtype=False,show_layer_names=True, rankdir='TB', expand_nested=False, dpi=96,layer_range=None, show_layer_activations=False)\n",
        "    return model\n",
        "\n",
        "with tpu_strategy.scope():\n",
        "  model = create_model()\n"
      ]
    },
    {
      "cell_type": "code",
      "execution_count": null,
      "metadata": {
        "id": "WpBwiQyJ0WRC"
      },
      "outputs": [],
      "source": [
        "tf.keras.utils.plot_model(model,'/content/drive/MyDrive/FYP_ML/model_nima.png')"
      ]
    },
    {
      "cell_type": "code",
      "execution_count": null,
      "metadata": {
        "colab": {
          "base_uri": "https://localhost:8080/"
        },
        "id": "7c7E69ZeUIvp",
        "outputId": "e19f4a06-5be6-4821-e113-5bf0d9b1494c"
      },
      "outputs": [],
      "source": [
        "weight_for_0 = (1 / (tot-pos)) * (tot / 2.0)\n",
        "weight_for_1 = (1 / pos) * (tot / 2.0)\n",
        "\n",
        "class_weight = {0: weight_for_0, 1: weight_for_1}\n",
        "\n",
        "model.fit(train_dataset, validation_data = test_dataset, epochs=100)"
      ]
    },
    {
      "cell_type": "markdown",
      "metadata": {
        "id": "bM-kE-RxDldd"
      },
      "source": [
        "## Small model"
      ]
    },
    {
      "cell_type": "code",
      "execution_count": null,
      "metadata": {
        "id": "CxoHTqMwDlde"
      },
      "outputs": [],
      "source": [
        "\n",
        "# import tensorflow_addons as tfa\n",
        "# from sklearn.model_selection import train_test_split\n",
        "\n",
        "model=keras.Sequential(name=\"BrainNeoCare_CNN\")\n",
        "model.add(keras.layers.Conv2D(filters=32, kernel_size=(1,3), activation='relu', input_shape=(12,1024),name=\"Input_conv2D\"))\n",
        "model.add(keras.layers.MaxPooling2D((1,2),name=\"Maxpooling2D_1\"))\n",
        "model.add(keras.layers.Conv2D(filters=32, kernel_size=(1,3), activation='relu',name=\"Conv2D_2\"))\n",
        "model.add(keras.layers.MaxPooling2D((1,2),name=\"Maxpooling2D_2\"))\n",
        "model.add(keras.layers.Conv2D(filters=64, kernel_size=(1,3), activation='relu',name=\"Conv2D_3\"))\n",
        "model.add(keras.layers.MaxPooling2D((1,2),name=\"Maxpooling2D_3\"))\n",
        "model.add(keras.layers.Conv2D(filters=64, kernel_size=(1,3), activation='relu',name=\"Conv2D_4\"))\n",
        "model.add(keras.layers.AveragePooling2D((1,2),name=\"AveragePooling2D_1\"))\n",
        "model.add(keras.layers.Conv2D(filters=64, kernel_size=(3,3), activation='relu',name=\"2D_F_Con\"))\n",
        "model.add(keras.layers.AveragePooling2D((1,2),name=\"AveragePooling2D_2\"))\n",
        "model.add(keras.layers.Conv2D(filters=128, kernel_size=(3,3), activation='relu',name=\"2D_F_Con_2\"))\n",
        "model.add(keras.layers.MaxPooling2D((1,2),name=\"AveragePooling2D_3\"))\n",
        "model.add(keras.layers.Flatten())\n",
        "model.add(keras.layers.Dense(128, activation='relu'))\n",
        "model.add(keras.layers.Dense(64, activation='relu'))\n",
        "model.add(keras.layers.Dense(32, activation='relu'))\n",
        "model.add(keras.layers.Dense(8, activation='relu') )\n",
        "model.add(keras.layers.Dense(1, activation='sigmoid'))"
      ]
    },
    {
      "cell_type": "code",
      "execution_count": null,
      "metadata": {
        "colab": {
          "base_uri": "https://localhost:8080/"
        },
        "id": "euPWYvojDlde",
        "outputId": "a3331e44-1659-4748-ec7f-21a9d6938513"
      },
      "outputs": [],
      "source": [
        "optimizer=tf.keras.optimizers.Adam(learning_rate=0.01)\n",
        "loss=tf.keras.losses.BinaryCrossentropy(from_logits=False, name=\"binary_crossentropy\",)\n",
        "model.compile(optimizer=optimizer, loss=loss, metrics=['accuracy'])\n",
        "model.summary()"
      ]
    },
    {
      "cell_type": "code",
      "execution_count": null,
      "metadata": {
        "id": "-Pj72EYWDlde"
      },
      "outputs": [],
      "source": [
        "model.fit(train_dataset,epochs=10,verbose=1)"
      ]
    },
    {
      "cell_type": "markdown",
      "metadata": {
        "id": "PUpk7iH5F6_O"
      },
      "source": [
        "## Data manipulation and loading"
      ]
    },
    {
      "cell_type": "code",
      "execution_count": null,
      "metadata": {
        "id": "lRlUwmaqHmIa"
      },
      "outputs": [],
      "source": [
        "x=np.load('/content/drive/MyDrive/FYP_ML/zenodo_data.npy', mmap_mode='r')\n",
        "y=np.load('/content/drive/MyDrive/FYP_ML/zenodo_labels.npy', mmap_mode='r')\n",
        "\n",
        "x_train, x_test, y_train, y_test = train_test_split(x, y, test_size=0.2, random_state=42)"
      ]
    }
  ],
  "metadata": {
    "accelerator": "TPU",
    "colab": {
      "provenance": []
    },
    "kernelspec": {
      "display_name": "Python 3",
      "name": "python3"
    },
    "language_info": {
      "codemirror_mode": {
        "name": "ipython",
        "version": 3
      },
      "file_extension": ".py",
      "mimetype": "text/x-python",
      "name": "python",
      "nbconvert_exporter": "python",
      "pygments_lexer": "ipython3",
      "version": "3.9.18"
    }
  },
  "nbformat": 4,
  "nbformat_minor": 0
}
