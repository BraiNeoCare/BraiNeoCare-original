{
 "cells": [
  {
   "cell_type": "code",
   "execution_count": null,
   "metadata": {},
   "outputs": [
    {
     "ename": "",
     "evalue": "",
     "output_type": "error",
     "traceback": [
      "\u001b[1;31mRunning cells with '/bin/python3' requires the ipykernel package.\n",
      "\u001b[1;31mRun the following command to install 'ipykernel' into the Python environment. \n",
      "\u001b[1;31mCommand: '/bin/python3 -m pip install ipykernel -U --user --force-reinstall'"
     ]
    }
   ],
   "source": [
    "import numpy as np\n",
    "from scipy import stats\n",
    "import hurst\n",
    "import nolds"
   ]
  },
  {
   "cell_type": "code",
   "execution_count": 2,
   "metadata": {},
   "outputs": [],
   "source": [
    "x_train=np.load('../BraiNeoCare/Datasets/balanced_x_train_common_4s.npy', mmap_mode='r')[0:10000,...]\n",
    "x_test=np.load('../BraiNeoCare/Datasets/balanced_x_test_common_4s.npy', mmap_mode='r')\n",
    "y_train=np.load('../BraiNeoCare/Datasets/balanced_y_train_common_4s.npy', mmap_mode='r')[0:10000,...]\n",
    "y_test=np.load('../BraiNeoCare/Datasets/balanced_y_test_common_4s.npy', mmap_mode='r')"
   ]
  },
  {
   "cell_type": "code",
   "execution_count": 3,
   "metadata": {},
   "outputs": [],
   "source": [
    "x_train=x_train.reshape(-1,x_train.shape[-1])\n",
    "x_test=x_test.reshape(-1,x_test.shape[-1])"
   ]
  },
  {
   "cell_type": "code",
   "execution_count": 4,
   "metadata": {},
   "outputs": [
    {
     "data": {
      "text/plain": [
       "(120000, 1024)"
      ]
     },
     "execution_count": 4,
     "metadata": {},
     "output_type": "execute_result"
    }
   ],
   "source": [
    "x_train.shape"
   ]
  },
  {
   "cell_type": "code",
   "execution_count": 5,
   "metadata": {},
   "outputs": [],
   "source": [
    "mean=x_train.mean()\n",
    "std=x_train.std()\n",
    "x_train=(x_train-mean)/std\n",
    "x_test=(x_test-mean)/std"
   ]
  },
  {
   "cell_type": "code",
   "execution_count": 13,
   "metadata": {},
   "outputs": [
    {
     "name": "stdout",
     "output_type": "stream",
     "text": [
      "min.shape (120000,)\n",
      "max.shape (120000,)\n"
     ]
    },
    {
     "name": "stderr",
     "output_type": "stream",
     "text": [
      "/tmp/ipykernel_5322/1629950307.py:7: RuntimeWarning: Precision loss occurred in moment calculation due to catastrophic cancellation. This occurs when the data are nearly identical. Results may be unreliable.\n",
      "  skewness=stats.skew(x_train, axis=1)\n"
     ]
    },
    {
     "name": "stdout",
     "output_type": "stream",
     "text": [
      "skewness.shape (120000,)\n",
      "mean.shape (120000,)\n",
      "std.shape (120000,)\n",
      "mode.shape (120000,)\n",
      "q1.shape (120000,)\n",
      "q3.shape (120000,)\n",
      "iqr.shape (120000,)\n"
     ]
    }
   ],
   "source": [
    "#for each sample in x_train, find the minimum, maximum, skewness, mean, standard deviation, mode, interquartile range, first quartile, third quartile, Shannon entropy, Hurst exponent, fluctuation index, sample entropy, median, and kurtosis without using any loops\n",
    "\n",
    "min=np.min(x_train, axis=1)\n",
    "print('min.shape', min.shape)\n",
    "max=np.max(x_train, axis=1)\n",
    "print('max.shape', max.shape)\n",
    "skewness=stats.skew(x_train, axis=1)\n",
    "print('skewness.shape', skewness.shape)\n",
    "mean=np.mean(x_train, axis=1)\n",
    "print('mean.shape', mean.shape)\n",
    "std=np.std(x_train, axis=1)\n",
    "print('std.shape', std.shape)\n",
    "mode=stats.mode(x_train, axis=1)[0].reshape(-1)\n",
    "print('mode.shape', mode.shape)\n",
    "q1=np.percentile(x_train, 25, axis=1)\n",
    "print('q1.shape', q1.shape)\n",
    "q3=np.percentile(x_train, 75, axis=1)\n",
    "print('q3.shape', q3.shape)\n",
    "iqr=q3-q1\n",
    "print('iqr.shape', iqr.shape)\n",
    "shannon_entropy=nolds.sampen(x_train)\n",
    "print('shannon_entropy.shape', shannon_entropy.shape)\n",
    "hurst_exponent=np.apply_along_axis(hurst.compute_Hc, 1, x_train, simplified=True)\n",
    "print('hurst_exponent.shape', hurst_exponent.shape)\n",
    "fluctuation_index=np.apply_along_axis(hurst.compute_hc, 1, x_train, simplified=True)\n",
    "print('fluctuation_index.shape', fluctuation_index.shape)\n",
    "sample_entropy=nolds.sampen(x_train)\n",
    "print('sample_entropy.shape', sample_entropy.shape)\n",
    "median=np.median(x_train, axis=1)\n",
    "print('median.shape', median.shape)\n",
    "kurtosis=stats.kurtosis(x_train, axis=1)\n",
    "print('kurtosis.shape', kurtosis.shape)\n",
    "\n",
    "#concatenate all the features\n",
    "features=np.concatenate((min, max, skewness, mean, std, mode, iqr, q1, q3, shannon_entropy, hurst_exponent, fluctuation_index, sample_entropy, median, kurtosis))\n",
    "features.shape\n"
   ]
  },
  {
   "cell_type": "code",
   "execution_count": null,
   "metadata": {},
   "outputs": [],
   "source": []
  },
  {
   "cell_type": "code",
   "execution_count": null,
   "metadata": {},
   "outputs": [],
   "source": []
  }
 ],
 "metadata": {
  "kernelspec": {
   "display_name": "BrainNeoCare",
   "language": "python",
   "name": "python3"
  },
  "language_info": {
   "codemirror_mode": {
    "name": "ipython",
    "version": 3
   },
   "file_extension": ".py",
   "mimetype": "text/x-python",
   "name": "python",
   "nbconvert_exporter": "python",
   "pygments_lexer": "ipython3",
   "version": "3.9.18"
  }
 },
 "nbformat": 4,
 "nbformat_minor": 2
}
