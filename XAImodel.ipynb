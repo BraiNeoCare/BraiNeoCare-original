{
 "cells": [
  {
   "cell_type": "code",
   "execution_count": null,
   "metadata": {},
   "outputs": [],
   "source": [
    "import tensorflow as tf \n",
    "from tensorflow import keras    \n",
    "import numpy as np\n",
    "import matplotlib.pyplot as plt\n",
    "import cv2 as cv\n",
    "import read_signal as rs\n",
    "import tqdm\n",
    "from matplotlib.animation import FuncAnimation "
   ]
  },
  {
   "cell_type": "code",
   "execution_count": null,
   "metadata": {},
   "outputs": [],
   "source": [
    "EEG,labels=rs.read_file(\"../BraiNeoCare/Datasets/zenodo_eeg/eeg9.edf\",9)"
   ]
  },
  {
   "cell_type": "code",
   "execution_count": null,
   "metadata": {},
   "outputs": [],
   "source": [
    "model = keras.models.load_model(\"./GAT_model_97/cp_0192.ckpt/\")\n",
    "model.layers[-1].activation = None"
   ]
  },
  {
   "cell_type": "code",
   "execution_count": null,
   "metadata": {},
   "outputs": [],
   "source": [
    "# mean=np.load(\"mean.npy\")\n",
    "# std=np.load(\"std.npy\")\n",
    "\n",
    "grad_model = keras.Model(model.inputs,[model.get_layer(\"gat_layer_2\").output,model.output])\n",
    "\n",
    "def PreprocesSignal(signal,mean,std):\n",
    "    signal=(signal-mean)/std\n",
    "    signal=np.expand_dims(signal,axis=-1)\n",
    "    signal=np.expand_dims(signal,axis=0)\n",
    "    return signal\n",
    "\n",
    "def GradCAM(signal,model=grad_model):\n",
    "    \n",
    "    with tf.GradientTape() as tape:\n",
    "        GAT_outputs, predictions = grad_model(signal)\n",
    "        Class=predictions[:,0]\n",
    "\n",
    "    grads = tape.gradient(Class, GAT_outputs)\n",
    "\n",
    "    heatmap = GAT_outputs[0] *  tf.reduce_mean(grads, axis=(0,1,2))\n",
    "\n",
    "    heatmap = tf.nn.relu(heatmap)/tf.reduce_max(heatmap)\n",
    "\n",
    "    return heatmap.numpy(),tf.nn.sigmoid(predictions[0][0]).numpy()"
   ]
  },
  {
   "cell_type": "code",
   "execution_count": null,
   "metadata": {},
   "outputs": [],
   "source": [
    "def plot_explainable_signal():\n",
    "\n",
    "    l, u = 0, 384\n",
    "    length=EEG.shape[1]\n",
    "    hmap=np.empty((12,length))\n",
    "    predicted_class=[]\n",
    "    x1=PreprocesSignal(EEG)\n",
    "    \n",
    "    for r in tqdm.tqdm(range(0,length-384,384),desc=\"processed GRAD-CAM\"):\n",
    "        h,p=GradCAM(x1[:,:,l:u,:])\n",
    "        resized_heatmap = cv.resize(h, (384,12), interpolation=cv.INTER_LINEAR)\n",
    "        hmap[:,l:u]=resized_heatmap\n",
    "        predicted_class.append(1 if p>=0.5 else 0)\n",
    "        l+=384\n",
    "        u+=384 \n",
    "\n",
    "    return hmap,predicted_class\n",
    "\n",
    "hmap,prediction=plot_explainable_signal()\n",
    "prediction=np.array([prediction])\n",
    "prediction=np.repeat(prediction,384,axis=1)"
   ]
  },
  {
   "cell_type": "code",
   "execution_count": null,
   "metadata": {},
   "outputs": [],
   "source": [
    "channel_names=[\"Fp1-T3\",\"T3-O1\",\"Fp1-C3\",\"C3-O1\",\"Fp2-C4\",\"C4-O2\",\"Fp2-T4\",\"T4-O2\",\"T3-C3\",\"C3-Cz\",\"Cz-C4\",\"C4-T4\"]\n",
    "fig,ax=plt.subplots(13,1,figsize=(20,30))\n",
    "length=EEG.shape[1]\n",
    "EEG1=(EEG-mean)/std\n",
    "labels1=(labels-mean)/std\n",
    "ax[0].plot(prediction[0],color='g',linewidth=2)\n",
    "ax[0].set_title(\"Model Prediction - 1:Seizure, 0:Non-Seizure\")\n",
    "ax[0].set_ylim(-0.1,1.1)\n",
    "ax[0].set_xlim(0,length)\n",
    "for r in range(12):\n",
    "    ax[r+1].plot(EEG1[r],color='k')\n",
    "    ax[r+1].plot(labels1[r],color='r')\n",
    "    im=ax[r+1].imshow(hmap[r].reshape(1,length),cmap='bwr',alpha=0.5,extent=[0,length,EEG1[r].min(),EEG1[r].max()],aspect='auto',vmax=1,vmin=0)\n",
    "    ax[r+1].set_title(channel_names[r])\n",
    "\n",
    "fig.tight_layout()\n",
    "cbar=fig.colorbar(im,ax=ax,orientation='horizontal',pad=0.02,shrink=0.5)\n",
    "cbar.set_label('Relevance')\n",
    "plt.show()"
   ]
  },
  {
   "cell_type": "code",
   "execution_count": null,
   "metadata": {},
   "outputs": [],
   "source": [
    "from sklearn.model_selection import train_test_split\n",
    "\n",
    "x=np.load('../BraiNeoCare/Datasets/GAT/Artifacts_removed/zenodo_data_consensus_4s_GAT.npy', mmap_mode='r')\n",
    "y=np.load('../BraiNeoCare/Datasets/GAT/Artifacts_removed/zenodo_labels_consensus_4s_GAT.npy', mmap_mode='r')\n",
    "\n",
    "x_train, x_test, y_train, y_test = train_test_split(x, y, test_size=0.2, random_state=42)"
   ]
  },
  {
   "cell_type": "code",
   "execution_count": null,
   "metadata": {},
   "outputs": [],
   "source": [
    "mean=x_train.mean()\n",
    "std=x_train.std()    "
   ]
  },
  {
   "cell_type": "code",
   "execution_count": null,
   "metadata": {},
   "outputs": [],
   "source": [
    "channel_names=[\"Fp1-T3\",\"T3-O1\",\"Fp1-C3\",\"C3-O1\",\"Fp2-C4\",\"C4-O2\",\"Fp2-T4\",\"T4-O2\",\"T3-C3\",\"C3-Cz\",\"Cz-C4\",\"C4-T4\"]\n",
    "n=3\n",
    "x=PreprocesSignal(x_test[n],mean,std)\n",
    "print(\"True label:- \",y_test[n])\n",
    "h,p=GradCAM(x)\n",
    "print(\"prediction:- \",1 if p>=0.5 else 0)\n",
    "resized_heatmap = cv.resize(h, (384,12), interpolation=cv.INTER_LINEAR)\n",
    "fig,ax=plt.subplots(12,1,figsize=(20,30))\n",
    "for r in range(12):\n",
    "    ax[r].plot(x[0,r,:,0],color='k')\n",
    "    im=ax[r].imshow(resized_heatmap[r].reshape(1,384),cmap='bwr',alpha=1,extent=[0,384,x[0,r,:,0].min(),x[0,r,:,0].max()],aspect='auto',vmax=1,vmin=0)\n",
    "    ax[r].set_title(channel_names[r])   \n",
    "fig.tight_layout()\n",
    "cbar=fig.colorbar(im,ax=ax,orientation='horizontal',pad=0.02,shrink=0.5)\n",
    "cbar.set_label('Relevance')\n",
    "plt.show()"
   ]
  }
 ],
 "metadata": {
  "kernelspec": {
   "display_name": "BrainNeoCare",
   "language": "python",
   "name": "python3"
  },
  "language_info": {
   "codemirror_mode": {
    "name": "ipython",
    "version": 3
   },
   "file_extension": ".py",
   "mimetype": "text/x-python",
   "name": "python",
   "nbconvert_exporter": "python",
   "pygments_lexer": "ipython3",
   "version": "3.11.7"
  }
 },
 "nbformat": 4,
 "nbformat_minor": 2
}
