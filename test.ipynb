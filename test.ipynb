{
 "cells": [
  {
   "cell_type": "code",
   "execution_count": null,
   "metadata": {},
   "outputs": [],
   "source": [
    "from scipy import signal\n",
    "from numpy import random\n",
    "import matplotlib.pyplot as plt\n",
    "import numpy as np\n",
    "\n",
    "def filter_sbs():\n",
    "    data = random.random(1000)+2\n",
    "    b, a = signal.cheby2(5, 40, [0.05,30], 'bandpass', fs=250)\n",
    "    sos = signal.cheby2(5, 40, [0.05,30], 'bandpass', fs=250, output='sos')\n",
    "    z = signal.lfilter_zi(b, a) * data[0]\n",
    "    result = np.zeros(data.size)\n",
    "    result2 = np.zeros(data.size)\n",
    "    result3 = signal.sosfilt(sos, data)\n",
    "    result2, _ = signal.lfilter(b, a, data, zi=z)\n",
    "    for i, x in enumerate(data):\n",
    "        result[i], z = signal.lfilter(b, a, [x], zi=z)\n",
    "    return result, result2, result3, data\n",
    "\n",
    "result, result2, result3, data = filter_sbs()\n",
    "plt.plot(result, label='lfilter')\n",
    "plt.plot(result2, label='lfilter with zi')\n",
    "plt.plot(result3, label='sosfilt')\n",
    "plt.plot(data, label='data')\n",
    "plt.legend()\n"
   ]
  },
  {
   "cell_type": "code",
   "execution_count": 1,
   "metadata": {},
   "outputs": [],
   "source": [
    "CHANNEL8 = ['T4-Cz','Fp2-Cz','C4-Cz','O2-Cz','O1-Cz','Fp1-Cz','C3-Cz','T3-Cz']\n",
    "# CHANNEL8 = [1,2,3,4,5,6,7,8]\n",
    "CHANNEL12 = ['Fp1-T3','T3-O1', \n",
    "            'Fp1-C3', 'C3-O1', \n",
    "            'Fp2-C4', 'C4-O2', \n",
    "            'Fp2-T4', 'T4-O2',\n",
    "            'T3-C3', 'C3-Cz', 'Cz-C4', 'C4-T4']"
   ]
  },
  {
   "cell_type": "code",
   "execution_count": 8,
   "metadata": {},
   "outputs": [
    {
     "name": "stdout",
     "output_type": "stream",
     "text": [
      "Fp1-T3 5 7 \n",
      "T3-O1 7 4 \n",
      "Fp1-C3 5 6 \n",
      "C3-O1 6 4 \n",
      "Fp2-C4 1 2 \n",
      "C4-O2 2 3 \n",
      "Fp2-T4 1 0 \n",
      "T4-O2 0 3 \n",
      "T3-C3 7 6 \n",
      "C3-Cz 6 \n",
      "Cz-C4 2 \n",
      "C4-T4 2 0 \n"
     ]
    }
   ],
   "source": [
    "for i in CHANNEL12:\n",
    "    s = i.split('-')\n",
    "    print(i, end=' ')\n",
    "    for j,k in enumerate(CHANNEL8):\n",
    "        if s[0] == k.split('-')[0]:\n",
    "            print(j, end=' ')\n",
    "    for j,k in enumerate(CHANNEL8):\n",
    "        if s[1] == k.split('-')[0]:\n",
    "            print(j, end=' ')\n",
    "    else:\n",
    "        print('')\n",
    "            "
   ]
  }
 ],
 "metadata": {
  "kernelspec": {
   "display_name": "env",
   "language": "python",
   "name": "python3"
  },
  "language_info": {
   "codemirror_mode": {
    "name": "ipython",
    "version": 3
   },
   "file_extension": ".py",
   "mimetype": "text/x-python",
   "name": "python",
   "nbconvert_exporter": "python",
   "pygments_lexer": "ipython3",
   "version": "3.11.8"
  },
  "orig_nbformat": 4
 },
 "nbformat": 4,
 "nbformat_minor": 2
}
