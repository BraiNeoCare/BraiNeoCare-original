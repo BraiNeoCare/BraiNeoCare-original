{
 "cells": [
  {
   "cell_type": "code",
   "execution_count": null,
   "metadata": {},
   "outputs": [],
   "source": [
    "from scipy import signal\n",
    "from numpy import random\n",
    "import matplotlib.pyplot as plt\n",
    "import numpy as np\n",
    "\n",
    "def filter_sbs():\n",
    "    data = random.random(1000)+2\n",
    "    b, a = signal.cheby2(5, 40, [0.05,30], 'bandpass', fs=250)\n",
    "    sos = signal.cheby2(5, 40, [0.05,30], 'bandpass', fs=250, output='sos')\n",
    "    z = signal.lfilter_zi(b, a) * data[0]\n",
    "    result = np.zeros(data.size)\n",
    "    result2 = np.zeros(data.size)\n",
    "    result3 = signal.sosfilt(sos, data)\n",
    "    result2, _ = signal.lfilter(b, a, data, zi=z)\n",
    "    for i, x in enumerate(data):\n",
    "        result[i], z = signal.lfilter(b, a, [x], zi=z)\n",
    "    return result, result2, result3, data\n",
    "\n",
    "result, result2, result3, data = filter_sbs()\n",
    "plt.plot(result, label='lfilter')\n",
    "plt.plot(result2, label='lfilter with zi')\n",
    "plt.plot(result3, label='sosfilt')\n",
    "plt.plot(data, label='data')\n",
    "plt.legend()\n"
   ]
  },
  {
   "cell_type": "code",
   "execution_count": 32,
   "metadata": {},
   "outputs": [
    {
     "name": "stdout",
     "output_type": "stream",
     "text": [
      "2024-02-19 15:44:29.442326\n"
     ]
    }
   ],
   "source": [
    "from datetime import datetime\n",
    "print(datetime.now())"
   ]
  },
  {
   "cell_type": "code",
   "execution_count": null,
   "metadata": {},
   "outputs": [],
   "source": []
  }
 ],
 "metadata": {
  "kernelspec": {
   "display_name": "env",
   "language": "python",
   "name": "python3"
  },
  "language_info": {
   "codemirror_mode": {
    "name": "ipython",
    "version": 3
   },
   "file_extension": ".py",
   "mimetype": "text/x-python",
   "name": "python",
   "nbconvert_exporter": "python",
   "pygments_lexer": "ipython3",
   "version": "3.11.8"
  },
  "orig_nbformat": 4
 },
 "nbformat": 4,
 "nbformat_minor": 2
}
