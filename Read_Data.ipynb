{
 "cells": [
  {
   "cell_type": "code",
   "execution_count": null,
   "metadata": {},
   "outputs": [],
   "source": [
    "import mne\n",
    "import matplotlib.pyplot as plt\n",
    "import os\n",
    "import tensorflow as tf\n",
    "import numpy as np"
   ]
  },
  {
   "cell_type": "markdown",
   "metadata": {},
   "source": [
    "# Read Zenodo data set"
   ]
  },
  {
   "cell_type": "code",
   "execution_count": null,
   "metadata": {},
   "outputs": [],
   "source": [
    "import scipy.io\n",
    "mat=scipy.io.loadmat('../BraiNeoCare/Datasets/zenodo_eeg/annotations_2017.mat')"
   ]
  },
  {
   "cell_type": "code",
   "execution_count": null,
   "metadata": {},
   "outputs": [],
   "source": [
    "def signal_array(raw_data):\n",
    "    ch1=raw_data[0]-raw_data[5]\n",
    "    ch2=raw_data[5]-raw_data[7]\n",
    "    ch3=raw_data[0]-raw_data[2]\n",
    "    ch4=raw_data[2]-raw_data[7]\n",
    "    ch5=raw_data[1]-raw_data[3]\n",
    "    ch6=raw_data[3]-raw_data[8]\n",
    "    ch7=raw_data[1]-raw_data[6]\n",
    "    ch8=raw_data[6]-raw_data[8]\n",
    "    ch9=raw_data[5]-raw_data[2]\n",
    "    ch10=raw_data[2]-raw_data[4]\n",
    "    ch11=raw_data[4]-raw_data[3]\n",
    "    ch12=raw_data[3]-raw_data[6]\n",
    "    return np.array([ch1,ch2,ch3,ch4,ch5,ch6,ch7,ch8,ch9,ch10,ch11,ch12])\n",
    "\n",
    "def find_seizure_time(file_no):\n",
    "    b=mat['annotat_new'][0][file_no-1][0] & mat['annotat_new'][0][file_no-1][1] & mat['annotat_new'][0][file_no-1][2]\n",
    "    a=np.where(b==1)[0]\n",
    "    s_time=[]\n",
    "    e_time=[]\n",
    "    if len(a)!=0:\n",
    "        s_time.append(a[0])  \n",
    "        for r in range(1,a.shape[0]):\n",
    "            if a[r-1]-a[r]!=-1:\n",
    "                e_time.append(a[r-1]+1)\n",
    "                s_time.append(a[r]) \n",
    "        e_time.append(a[-1]+1)  \n",
    "        \n",
    "    return np.array(s_time),np.array(e_time)\n",
    "\n"
   ]
  },
  {
   "cell_type": "code",
   "execution_count": null,
   "metadata": {},
   "outputs": [],
   "source": [
    "folder='../BraiNeoCare/Datasets/zenodo_eeg/'\n",
    "signals=[]\n",
    "seizure=[]\n",
    "files=os.listdir(folder)    \n",
    "\n",
    "for file in files:\n",
    "    if file.endswith('.edf'):\n",
    "        try:\n",
    "            data = mne.io.read_raw_edf(folder+file)\n",
    "            data=data.pick_channels(['EEG Fp1-Ref', 'EEG Fp2-Ref',  'EEG C3-Ref', 'EEG C4-Ref', 'EEG Cz-Ref', 'EEG T3-Ref', 'EEG T4-Ref', 'EEG O1-Ref', 'EEG O2-Ref'])\n",
    "            raw_data=data.get_data()\n",
    "            signal=signal_array(raw_data)\n",
    "            \n",
    "            s_Time,e_Time=find_seizure_time(int(file.split('.')[0][3:])) \n",
    "            signal_partition=0\n",
    "            started=False\n",
    "\n",
    "            while signal_partition*1024<raw_data.shape[1]:\n",
    "\n",
    "                u_bound=(signal_partition+1)*1024\n",
    "                l_bound=signal_partition*1024\n",
    "                partition=signal[:,l_bound:u_bound]\n",
    "\n",
    "                if partition.shape[1]==1024:\n",
    "                    signals.append(partition)\n",
    "\n",
    "                    if (len(s_Time)!=0 ):\n",
    "\n",
    "                        if np.any((s_Time*256>=l_bound) & (s_Time*256<=u_bound-1)):\n",
    "                            seizure.append(1)\n",
    "                            started=True\n",
    "\n",
    "                        elif np.any((l_bound<(e_Time*256-1)) & ((e_Time*256-1)<=(u_bound-1))):\n",
    "                            seizure.append(1)\n",
    "                            started=False\n",
    "\n",
    "                        elif (started and np.any((e_Time*256-1)>u_bound-1)):\n",
    "                            seizure.append(1)\n",
    "                        else:\n",
    "                            seizure.append(0)\n",
    "                    else:\n",
    "                        seizure.append(0)\n",
    "            \n",
    "                signal_partition+=1\n",
    "\n",
    "        except:\n",
    "            pass\n",
    "\n",
    "signals=np.array(signals)\n",
    "seizure=np.array(seizure)\n",
    "np.save('../BraiNeoCare/Datasets/zenodo_data_common_4s.npy',signals)\n",
    "np.save('../BraiNeoCare/Datasets/zenodo_labels_common_4s.npy',seizure)"
   ]
  },
  {
   "cell_type": "code",
   "execution_count": 11,
   "metadata": {},
   "outputs": [],
   "source": [
    "from sklearn.model_selection import train_test_split\n",
    "x=np.load('../BraiNeoCare/Datasets/zenodo_data_common_1s.npy', mmap_mode='r')\n",
    "y=np.load('../BraiNeoCare/Datasets/zenodo_labels_common_1s.npy', mmap_mode='r')\n",
    "\n",
    "x_train, x_test, y_train, y_test = train_test_split(x, y, test_size=0.2, random_state=42)"
   ]
  },
  {
   "cell_type": "code",
   "execution_count": 10,
   "metadata": {},
   "outputs": [],
   "source": [
    "y_train_positive_pos=np.where(y_train==1)\n",
    "y_test_positive_pos=np.where(y_test==1)\n",
    "\n",
    "x_train_positive=x_train[y_train_positive_pos]\n",
    "x_test_positive=x_test[y_test_positive_pos]\n",
    "\n",
    "y_train_negative_pos=np.where(y_train==0)\n",
    "y_test_negative_pos=np.where(y_test==0)\n",
    "\n",
    "x_train_negative=x_train[y_train_negative_pos][0:x_train_positive.shape[0],...]\n",
    "x_test_negative=x_test[y_test_negative_pos][0:x_test_positive.shape[0],...]\n",
    "\n",
    "new_x_train=np.concatenate((x_train_positive,x_train_negative),axis=0)\n",
    "new_y_train=np.concatenate((np.ones((x_train_positive.shape[0],)),np.zeros((x_train_negative.shape[0],))),axis=0)\n",
    "\n",
    "new_x_test=np.concatenate((x_test_positive,x_test_negative),axis=0)\n",
    "new_y_test=np.concatenate((np.ones((x_test_positive.shape[0],)),np.zeros((x_test_negative.shape[0],))),axis=0)\n",
    "\n",
    "np.save('../BraiNeoCare/Datasets/balanced_x_train_common_1s.npy',new_x_train)\n",
    "np.save('../BraiNeoCare/Datasets/balanced_y_train_common_1s.npy',new_y_train)\n",
    "\n",
    "np.save('../BraiNeoCare/Datasets/balanced_x_test_common_1s.npy',new_x_test)\n",
    "np.save('../BraiNeoCare/Datasets/balanced_y_test_common_1s.npy',new_y_test)"
   ]
  },
  {
   "cell_type": "code",
   "execution_count": null,
   "metadata": {},
   "outputs": [],
   "source": [
    "a=np.load('../BraiNeoCare/Datasets/zenodo_labels_common_1s.npy', mmap_mode='r')\n"
   ]
  },
  {
   "cell_type": "markdown",
   "metadata": {},
   "source": [
    "# Read chb-mit dataset "
   ]
  },
  {
   "cell_type": "code",
   "execution_count": null,
   "metadata": {},
   "outputs": [],
   "source": [
    "seizure_files=[]\n",
    "folder='../ML_codes/chb01/'\n",
    "for file in os.listdir(folder):\n",
    "    if file.endswith(\".seizures\"):\n",
    "        seizure_files.append(file.split('.')[0])\n",
    "print(seizure_files)"
   ]
  },
  {
   "cell_type": "code",
   "execution_count": null,
   "metadata": {},
   "outputs": [],
   "source": [
    "def open_annotations(file,name):\n",
    "    f=open(file,'r')\n",
    "    lines_list=[]\n",
    "    for lines in f:\n",
    "       lines_list.append(lines.strip())\n",
    "    # print(lines_list)\n",
    "    index_of_file=lines_list.index(\"File Name: \"+name+\".edf\")\n",
    "    start=int(lines_list[index_of_file+4].split(\" \")[-2])\n",
    "    end=int(lines_list[index_of_file+4+1].split(\" \")[-2])\n",
    "    return start,end"
   ]
  },
  {
   "cell_type": "code",
   "execution_count": null,
   "metadata": {},
   "outputs": [],
   "source": [
    "signals=[]\n",
    "seizure=[]\n",
    "summary_file='../ML_codes/chb01/chb01-summary.txt'\n",
    "start, end= 0, 0\n",
    "\n",
    "for file in os.listdir(folder):\n",
    "    if file.split('.')[-1]=='edf':       \n",
    "        data = mne.io.read_raw_edf(folder+file)\n",
    "        data=data.pick_channels(['FP1-F7','P7-O1','F3-C3','C3-P3','FP2-F8','P8-O2','F4-C4','C4-P4','FZ-CZ','CZ-PZ'])\n",
    "        raw_data=data.get_data()\n",
    "        \n",
    "        if file.split('.')[0] in seizure_files:\n",
    "            start,end=open_annotations(summary_file,file.split('.')[0])\n",
    "\n",
    "        signal_partition=0\n",
    "        started=False\n",
    "\n",
    "        while signal_partition*1024<raw_data.shape[1]:\n",
    "\n",
    "            u_bound=(signal_partition+1)*1024\n",
    "            l_bound=signal_partition*1024\n",
    "            partition=raw_data[:,l_bound:u_bound]\n",
    "\n",
    "            if partition.shape[1]==1024:\n",
    "                signals.append(partition)\n",
    "\n",
    "                if (start!=0 and end!=0):\n",
    "                    if ((start*256>=l_bound) and (start*256<=u_bound-1)):\n",
    "                        seizure.append(1)\n",
    "                        started=True\n",
    "                    elif ((l_bound<(end*256-1)) and ((end*256-1)<=(u_bound-1))):\n",
    "                        seizure.append(1)\n",
    "                        started=False\n",
    "                    elif (started and ((end*256-1)>u_bound-1)):\n",
    "                        seizure.append(1)\n",
    "                    else:\n",
    "                        seizure.append(0)\n",
    "                else:\n",
    "                    seizure.append(0)\n",
    "        \n",
    "            signal_partition+=1\n",
    "\n",
    "signals=np.array(signals)\n",
    "seizure=np.array(seizure)\n",
    "np.save('chb001_data',signals)\n",
    "np.save('chb001_labels',seizure)"
   ]
  }
 ],
 "metadata": {
  "kernelspec": {
   "display_name": "tf",
   "language": "python",
   "name": "python3"
  },
  "language_info": {
   "codemirror_mode": {
    "name": "ipython",
    "version": 3
   },
   "file_extension": ".py",
   "mimetype": "text/x-python",
   "name": "python",
   "nbconvert_exporter": "python",
   "pygments_lexer": "ipython3",
   "version": "3.9.18"
  },
  "orig_nbformat": 4
 },
 "nbformat": 4,
 "nbformat_minor": 2
}
