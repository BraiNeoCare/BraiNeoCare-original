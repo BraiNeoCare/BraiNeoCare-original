{
 "cells": [
  {
   "cell_type": "code",
   "execution_count": 1,
   "metadata": {},
   "outputs": [
    {
     "name": "stderr",
     "output_type": "stream",
     "text": [
      "2024-01-24 14:47:26.172094: I tensorflow/core/util/port.cc:111] oneDNN custom operations are on. You may see slightly different numerical results due to floating-point round-off errors from different computation orders. To turn them off, set the environment variable `TF_ENABLE_ONEDNN_OPTS=0`.\n",
      "2024-01-24 14:47:26.217414: E tensorflow/compiler/xla/stream_executor/cuda/cuda_dnn.cc:9342] Unable to register cuDNN factory: Attempting to register factory for plugin cuDNN when one has already been registered\n",
      "2024-01-24 14:47:26.217442: E tensorflow/compiler/xla/stream_executor/cuda/cuda_fft.cc:609] Unable to register cuFFT factory: Attempting to register factory for plugin cuFFT when one has already been registered\n",
      "2024-01-24 14:47:26.217469: E tensorflow/compiler/xla/stream_executor/cuda/cuda_blas.cc:1518] Unable to register cuBLAS factory: Attempting to register factory for plugin cuBLAS when one has already been registered\n",
      "2024-01-24 14:47:26.226010: I tensorflow/core/platform/cpu_feature_guard.cc:182] This TensorFlow binary is optimized to use available CPU instructions in performance-critical operations.\n",
      "To enable the following instructions: AVX2 AVX512F AVX512_VNNI FMA, in other operations, rebuild TensorFlow with the appropriate compiler flags.\n",
      "/home/nima/miniconda3/envs/BrainNeoCare/lib/python3.9/site-packages/tensorflow_addons/utils/tfa_eol_msg.py:23: UserWarning: \n",
      "\n",
      "TensorFlow Addons (TFA) has ended development and introduction of new features.\n",
      "TFA has entered a minimal maintenance and release mode until a planned end of life in May 2024.\n",
      "Please modify downstream libraries to take dependencies from other repositories in our TensorFlow community (e.g. Keras, Keras-CV, and Keras-NLP). \n",
      "\n",
      "For more information see: https://github.com/tensorflow/addons/issues/2807 \n",
      "\n",
      "  warnings.warn(\n"
     ]
    }
   ],
   "source": [
    "import tensorflow as tf\n",
    "from tensorflow import keras\n",
    "from keras import layers\n",
    "import numpy as np \n",
    "from scipy import signal \n",
    "import pandas as pd\n",
    "import os\n",
    "import matplotlib.pyplot as plt\n",
    "from sklearn.model_selection import train_test_split\n",
    "import tensorflow_addons as tfa"
   ]
  },
  {
   "cell_type": "code",
   "execution_count": 4,
   "metadata": {},
   "outputs": [],
   "source": [
    "x_train = np.load('../BraiNeoCare/Datasets/GAT/traindata.npy',mmap_mode='r')\n",
    "y_train = np.load('../BraiNeoCare/Datasets/GAT/trainlabels.npy',mmap_mode='r')\n",
    "x_test = np.load('../BraiNeoCare/Datasets/GAT/testdata.npy',mmap_mode='r')\n",
    "y_test = np.load('../BraiNeoCare/Datasets/GAT/testlabels.npy',mmap_mode='r')"
   ]
  },
  {
   "cell_type": "code",
   "execution_count": 5,
   "metadata": {},
   "outputs": [],
   "source": [
    "mean=x_train.mean()\n",
    "std=x_train.std()\n",
    "x_train=(x_train-mean)/std\n",
    "x_test=(x_test-mean)/std\n",
    "# x1=(x1-mean)/std\n",
    "\n",
    "x_train=np.expand_dims(x_train,axis=-1)\n",
    "x_test=np.expand_dims(x_test,axis=-1)\n",
    "# x1=np.expand_dims(x1,axis=-1)\n",
    "\n",
    "np.random.seed(42)\n",
    "train_indices = np.arange(x_train.shape[0])\n",
    "np.random.shuffle(train_indices)\n",
    "x_train = x_train[train_indices]\n",
    "y_train = y_train[train_indices]\n",
    "# test_indices = np.arange(x_test.shape[0])   \n",
    "# np.random.shuffle(test_indices)\n",
    "# x_test = x_test[test_indices]\n",
    "# y_test = y_test[test_indices]"
   ]
  },
  {
   "cell_type": "code",
   "execution_count": 6,
   "metadata": {},
   "outputs": [
    {
     "name": "stderr",
     "output_type": "stream",
     "text": [
      "2024-01-24 14:49:20.148014: I tensorflow/core/common_runtime/gpu/gpu_device.cc:1886] Created device /job:localhost/replica:0/task:0/device:GPU:0 with 14947 MB memory:  -> device: 0, name: Quadro RTX 5000, pci bus id: 0000:17:00.0, compute capability: 7.5\n",
      "2024-01-24 14:49:20.148769: I tensorflow/core/common_runtime/gpu/gpu_device.cc:1886] Created device /job:localhost/replica:0/task:0/device:GPU:1 with 14946 MB memory:  -> device: 1, name: Quadro RTX 5000, pci bus id: 0000:73:00.0, compute capability: 7.5\n"
     ]
    },
    {
     "data": {
      "text/plain": [
       "<tf.Tensor: shape=(12, 12), dtype=float32, numpy=\n",
       "array([[1., 1., 1., 0., 0., 0., 0., 0., 1., 0., 0., 0.],\n",
       "       [1., 1., 0., 1., 0., 0., 0., 0., 1., 0., 0., 0.],\n",
       "       [1., 0., 1., 1., 0., 0., 0., 0., 1., 1., 0., 0.],\n",
       "       [0., 1., 1., 1., 0., 0., 0., 0., 1., 1., 0., 0.],\n",
       "       [0., 0., 0., 0., 1., 1., 1., 0., 0., 0., 1., 1.],\n",
       "       [0., 0., 0., 0., 1., 1., 0., 1., 0., 0., 1., 1.],\n",
       "       [0., 0., 0., 0., 1., 0., 1., 1., 0., 0., 0., 1.],\n",
       "       [0., 0., 0., 0., 0., 1., 1., 1., 0., 0., 0., 1.],\n",
       "       [1., 1., 1., 1., 0., 0., 0., 0., 1., 1., 0., 0.],\n",
       "       [0., 0., 1., 1., 0., 0., 0., 0., 1., 1., 1., 0.],\n",
       "       [0., 0., 0., 0., 1., 1., 0., 0., 0., 1., 1., 1.],\n",
       "       [0., 0., 0., 0., 1., 1., 1., 1., 0., 0., 1., 1.]], dtype=float32)>"
      ]
     },
     "execution_count": 6,
     "metadata": {},
     "output_type": "execute_result"
    }
   ],
   "source": [
    "channel_names=[\"Fp1-T3\",\"T3-O1\",\"Fp1-C3\",\"C3-O1\",\"Fp2-C4\",\"C4-O2\",\"Fp2-T4\",\"T4-O2\",\"T3-C3\",\"C3-Cz\",\"Cz-C4\",\"C4-T4\"]\n",
    "indices =[[r,i] for r,c1 in enumerate(channel_names) for i,c2 in enumerate(channel_names) if (c1.split(\"-\")[0]==c2.split(\"-\")[1] or c1.split(\"-\")[1]==c2.split(\"-\")[1] \n",
    "          or c1.split(\"-\")[0]==c2.split(\"-\")[0] or c1.split(\"-\")[1]==c2.split(\"-\")[0])]\n",
    "adj=np.zeros((12,12))\n",
    "for i in indices:\n",
    "    adj[i[0]][i[1]]=1\n",
    "adj=tf.constant(adj,dtype=tf.float32)\n",
    "adj"
   ]
  },
  {
   "cell_type": "code",
   "execution_count": 8,
   "metadata": {},
   "outputs": [],
   "source": [
    "class GATLayer(layers.Layer):\n",
    "\n",
    "    def __init__(self,output_dim):\n",
    "        super(GATLayer, self).__init__()\n",
    "        self.output_dim = output_dim\n",
    "        self.LeakyReLU = layers.LeakyReLU(alpha=0.2)\n",
    "    \n",
    "    def build(self, input_shape):\n",
    "        self.W = self.add_weight(name='W',shape=(input_shape[-1], self.output_dim), initializer='random_normal',trainable=True)\n",
    "        self.a = self.add_weight(name='a',shape=(2*self.output_dim, 1), initializer='random_normal',trainable=True)\n",
    "    \n",
    "    def call(self,input,adj):\n",
    "        H= tf.matmul(input, self.W)\n",
    "        h1=tf.tile(tf.expand_dims(H, axis=1), [1,12,1,1])\n",
    "        h2=tf.tile(tf.expand_dims(H, axis=2), [1,1,12,1])\n",
    "        result =tf.concat([h1 , h2], axis=-1)\n",
    "        e=self.LeakyReLU(tf.squeeze(tf.matmul(result, self.a),axis=-1))\n",
    "        zero_mat=-1e20*tf.zeros_like(e)\n",
    "        msked_e=tf.where(adj==1,e,zero_mat)\n",
    "        alpha=tf.nn.softmax(msked_e,axis=-1)\n",
    "        HPrime=tf.matmul(alpha,H)\n",
    "        return tf.nn.elu(HPrime)\n",
    "\n",
    "\n",
    "Input= keras.Input(shape=(12,384,1))\n",
    "\n",
    "x= layers.Conv2D(8,(1,3),activation='swish',padding='same')(Input)\n",
    "y= layers.Conv2D(8,(1,5),activation='swish',padding='same')(Input)\n",
    "x= layers.add([x,y])\n",
    "x= layers.MaxPooling2D((1,2))(x)\n",
    "x= layers.BatchNormalization()(x)\n",
    "x= layers.SpatialDropout2D(0.1)(x)\n",
    "\n",
    "x= layers.Conv2D(32,(1,3),activation='swish',padding='same')(x)\n",
    "y= layers.Conv2D(32,(1,5),activation='swish',padding='same')(x)\n",
    "x= layers.add([x,y])\n",
    "x= layers.MaxPooling2D((1,2))(x)\n",
    "x= layers.BatchNormalization()(x)\n",
    "x= layers.SpatialDropout2D(0.1)(x)\n",
    "\n",
    "x= layers.Conv2D(8,(1,3),activation='swish',padding='same')(x)\n",
    "y= layers.Conv2D(8,(1,5),activation='swish',padding='same')(x)\n",
    "x= layers.add([x,y])\n",
    "x= layers.MaxPooling2D((1,2))(x)\n",
    "x= layers.BatchNormalization()(x)\n",
    "x= layers.SpatialDropout2D(0.1)(x)\n",
    "\n",
    "x= layers.Conv2D(1,(1,3),activation='swish',padding='same')(x)\n",
    "y= layers.Conv2D(1,(1,5),activation='swish',padding='same')(x)\n",
    "x= layers.add([x,y])\n",
    "x= layers.MaxPooling2D((1,2))(x)\n",
    "x= layers.Reshape((12,24))(x)\n",
    "\n",
    "x= GATLayer(37)(x,adj)\n",
    "x= GATLayer(32)(x,adj)\n",
    "x= GATLayer(16)(x,adj)\n",
    "\n",
    "x = layers.GlobalAveragePooling1D()(x)\n",
    "x = layers.Dropout(0.1)(x)\n",
    "x= layers.Dense(32,activation='swish')(x)\n",
    "x= layers.Dropout(0.1)(x)\n",
    "x = layers.Dense(16,activation='swish')(x)\n",
    "x = layers.Dense(1,activation='sigmoid')(x)\n",
    "\n",
    "model = keras.Model(inputs=Input, outputs=x)"
   ]
  },
  {
   "cell_type": "code",
   "execution_count": 9,
   "metadata": {},
   "outputs": [],
   "source": [
    "optimizer=keras.optimizers.Adam(learning_rate=0.002,weight_decay=0.0025)\n",
    "loss=keras.losses.BinaryFocalCrossentropy(from_logits=False,gamma=2,alpha=0.4,apply_class_balancing=True)\n",
    "# loss=keras.losses.BinaryCrossentropy(from_logits=False)  \n",
    "kappa=tfa.metrics.CohenKappa(num_classes=2)\n",
    "fp=keras.metrics.FalsePositives()\n",
    "tn=keras.metrics.TrueNegatives()\n",
    "precision = keras.metrics.Precision()\n",
    "recall = keras.metrics.Recall()\n",
    "AUROC = keras.metrics.AUC(curve='ROC', name = 'AUROC')\n",
    "AUPRC = keras.metrics.AUC(curve='PR', name = 'AUPRC')\n",
    "model.compile(optimizer=optimizer,loss=loss,metrics=['accuracy', AUROC, AUPRC,fp,tn, precision, recall,kappa])    "
   ]
  },
  {
   "cell_type": "code",
   "execution_count": 10,
   "metadata": {},
   "outputs": [
    {
     "name": "stdout",
     "output_type": "stream",
     "text": [
      "Epoch 1/200\n"
     ]
    },
    {
     "name": "stderr",
     "output_type": "stream",
     "text": [
      "2024-01-24 14:54:24.597337: E tensorflow/core/grappler/optimizers/meta_optimizer.cc:961] layout failed: INVALID_ARGUMENT: Size of values 0 does not match size of permutation 4 @ fanin shape inmodel/spatial_dropout2d_1/dropout/SelectV2-2-TransposeNHWCToNCHW-LayoutOptimizer\n",
      "2024-01-24 14:54:25.348616: I tensorflow/compiler/xla/stream_executor/cuda/cuda_dnn.cc:442] Loaded cuDNN version 8700\n",
      "2024-01-24 14:54:28.586442: I tensorflow/compiler/xla/service/service.cc:168] XLA service 0x7fb7dc37b330 initialized for platform CUDA (this does not guarantee that XLA will be used). Devices:\n",
      "2024-01-24 14:54:28.586477: I tensorflow/compiler/xla/service/service.cc:176]   StreamExecutor device (0): Quadro RTX 5000, Compute Capability 7.5\n",
      "2024-01-24 14:54:28.586482: I tensorflow/compiler/xla/service/service.cc:176]   StreamExecutor device (1): Quadro RTX 5000, Compute Capability 7.5\n",
      "2024-01-24 14:54:28.591543: I tensorflow/compiler/mlir/tensorflow/utils/dump_mlir_util.cc:269] disabling MLIR crash reproducer, set env var `MLIR_CRASH_REPRODUCER_DIRECTORY` to enable.\n",
      "2024-01-24 14:54:28.736093: I ./tensorflow/compiler/jit/device_compiler.h:186] Compiled cluster using XLA!  This line is logged at most once for the lifetime of the process.\n"
     ]
    },
    {
     "name": "stdout",
     "output_type": "stream",
     "text": [
      "213/213 [==============================] - ETA: 0s - loss: 0.0665 - accuracy: 0.7316 - AUROC: 0.7244 - AUPRC: 0.6316 - false_positives: 1326.0000 - true_negatives: 71026.0000 - precision: 0.8646 - recall: 0.2332 - cohen_kappa: 0.2626INFO:tensorflow:Assets written to: GAT_model_correct_5/cp_0001.ckpt/assets\n"
     ]
    },
    {
     "name": "stderr",
     "output_type": "stream",
     "text": [
      "INFO:tensorflow:Assets written to: GAT_model_correct_5/cp_0001.ckpt/assets\n"
     ]
    },
    {
     "name": "stdout",
     "output_type": "stream",
     "text": [
      "213/213 [==============================] - 42s 139ms/step - loss: 0.0665 - accuracy: 0.7316 - AUROC: 0.7244 - AUPRC: 0.6316 - false_positives: 1326.0000 - true_negatives: 71026.0000 - precision: 0.8646 - recall: 0.2332 - cohen_kappa: 0.2626 - val_loss: 0.0638 - val_accuracy: 0.7432 - val_AUROC: 0.8460 - val_AUPRC: 0.7787 - val_false_positives: 132.0000 - val_true_negatives: 14173.0000 - val_precision: 0.8983 - val_recall: 0.1841 - val_cohen_kappa: 0.2246\n",
      "Epoch 2/200\n",
      "213/213 [==============================] - 23s 109ms/step - loss: 0.0494 - accuracy: 0.8427 - AUROC: 0.8452 - AUPRC: 0.8207 - false_positives: 2348.0000 - true_negatives: 70004.0000 - precision: 0.9018 - recall: 0.5938 - cohen_kappa: 0.6136 - val_loss: 0.0858 - val_accuracy: 0.7245 - val_AUROC: 0.7543 - val_AUPRC: 0.6093 - val_false_positives: 152.0000 - val_true_negatives: 14153.0000 - val_precision: 0.8403 - val_recall: 0.1263 - val_cohen_kappa: 0.1515\n",
      "Epoch 3/200\n",
      "212/213 [============================>.] - ETA: 0s - loss: 0.0437 - accuracy: 0.8672 - AUROC: 0.8793 - AUPRC: 0.8612 - false_positives: 2144.0000 - true_negatives: 70126.0000 - precision: 0.9180 - recall: 0.6618 - cohen_kappa: 0.6793INFO:tensorflow:Assets written to: GAT_model_correct_5/cp_0003.ckpt/assets\n"
     ]
    },
    {
     "name": "stderr",
     "output_type": "stream",
     "text": [
      "INFO:tensorflow:Assets written to: GAT_model_correct_5/cp_0003.ckpt/assets\n"
     ]
    },
    {
     "name": "stdout",
     "output_type": "stream",
     "text": [
      "213/213 [==============================] - 136s 640ms/step - loss: 0.0437 - accuracy: 0.8672 - AUROC: 0.8794 - AUPRC: 0.8613 - false_positives: 2148.0000 - true_negatives: 70204.0000 - precision: 0.9180 - recall: 0.6619 - cohen_kappa: 0.6794 - val_loss: 0.0727 - val_accuracy: 0.7797 - val_AUROC: 0.7788 - val_AUPRC: 0.6521 - val_false_positives: 183.0000 - val_true_negatives: 14122.0000 - val_precision: 0.9151 - val_recall: 0.3113 - val_cohen_kappa: 0.3657\n",
      "Epoch 4/200\n",
      "212/213 [============================>.] - ETA: 0s - loss: 0.0414 - accuracy: 0.8775 - AUROC: 0.8929 - AUPRC: 0.8762 - false_positives: 2136.0000 - true_negatives: 70134.0000 - precision: 0.9216 - recall: 0.6925 - cohen_kappa: 0.7067INFO:tensorflow:Assets written to: GAT_model_correct_5/cp_0004.ckpt/assets\n"
     ]
    },
    {
     "name": "stderr",
     "output_type": "stream",
     "text": [
      "INFO:tensorflow:Assets written to: GAT_model_correct_5/cp_0004.ckpt/assets\n"
     ]
    },
    {
     "name": "stdout",
     "output_type": "stream",
     "text": [
      "213/213 [==============================] - 27s 128ms/step - loss: 0.0414 - accuracy: 0.8775 - AUROC: 0.8928 - AUPRC: 0.8759 - false_positives: 2143.0000 - true_negatives: 70209.0000 - precision: 0.9215 - recall: 0.6923 - cohen_kappa: 0.7064 - val_loss: 0.0706 - val_accuracy: 0.7978 - val_AUROC: 0.7572 - val_AUPRC: 0.6277 - val_false_positives: 246.0000 - val_true_negatives: 14059.0000 - val_precision: 0.9073 - val_recall: 0.3801 - val_cohen_kappa: 0.4330\n",
      "Epoch 5/200\n",
      "212/213 [============================>.] - ETA: 0s - loss: 0.0400 - accuracy: 0.8821 - AUROC: 0.9004 - AUPRC: 0.8846 - false_positives: 2097.0000 - true_negatives: 70177.0000 - precision: 0.9242 - recall: 0.7051 - cohen_kappa: 0.7185INFO:tensorflow:Assets written to: GAT_model_correct_5/cp_0005.ckpt/assets\n"
     ]
    },
    {
     "name": "stderr",
     "output_type": "stream",
     "text": [
      "INFO:tensorflow:Assets written to: GAT_model_correct_5/cp_0005.ckpt/assets\n"
     ]
    },
    {
     "name": "stdout",
     "output_type": "stream",
     "text": [
      "213/213 [==============================] - 27s 127ms/step - loss: 0.0400 - accuracy: 0.8821 - AUROC: 0.9004 - AUPRC: 0.8845 - false_positives: 2101.0000 - true_negatives: 70251.0000 - precision: 0.9242 - recall: 0.7051 - cohen_kappa: 0.7185 - val_loss: 0.0669 - val_accuracy: 0.8133 - val_AUROC: 0.8171 - val_AUPRC: 0.6973 - val_false_positives: 293.0000 - val_true_negatives: 14012.0000 - val_precision: 0.9045 - val_recall: 0.4380 - val_cohen_kappa: 0.4876\n",
      "Epoch 6/200\n",
      "213/213 [==============================] - 23s 109ms/step - loss: 0.0389 - accuracy: 0.8861 - AUROC: 0.9068 - AUPRC: 0.8910 - false_positives: 2070.0000 - true_negatives: 70282.0000 - precision: 0.9263 - recall: 0.7161 - cohen_kappa: 0.7286 - val_loss: 0.0674 - val_accuracy: 0.8062 - val_AUROC: 0.8325 - val_AUPRC: 0.7157 - val_false_positives: 188.0000 - val_true_negatives: 14117.0000 - val_precision: 0.9307 - val_recall: 0.3984 - val_cohen_kappa: 0.4583\n",
      "Epoch 7/200\n",
      "212/213 [============================>.] - ETA: 0s - loss: 0.0379 - accuracy: 0.8898 - AUROC: 0.9128 - AUPRC: 0.8968 - false_positives: 2002.0000 - true_negatives: 70269.0000 - precision: 0.9293 - recall: 0.7254 - cohen_kappa: 0.7381INFO:tensorflow:Assets written to: GAT_model_correct_5/cp_0007.ckpt/assets\n"
     ]
    },
    {
     "name": "stderr",
     "output_type": "stream",
     "text": [
      "INFO:tensorflow:Assets written to: GAT_model_correct_5/cp_0007.ckpt/assets\n"
     ]
    },
    {
     "name": "stdout",
     "output_type": "stream",
     "text": [
      "213/213 [==============================] - 27s 127ms/step - loss: 0.0379 - accuracy: 0.8898 - AUROC: 0.9128 - AUPRC: 0.8968 - false_positives: 2003.0000 - true_negatives: 70349.0000 - precision: 0.9293 - recall: 0.7255 - cohen_kappa: 0.7381 - val_loss: 0.0555 - val_accuracy: 0.8499 - val_AUROC: 0.8694 - val_AUPRC: 0.7670 - val_false_positives: 246.0000 - val_true_negatives: 14059.0000 - val_precision: 0.9340 - val_recall: 0.5496 - val_cohen_kappa: 0.6014\n",
      "Epoch 8/200\n",
      "213/213 [==============================] - 23s 110ms/step - loss: 0.0374 - accuracy: 0.8903 - AUROC: 0.9156 - AUPRC: 0.9000 - false_positives: 2018.0000 - true_negatives: 70334.0000 - precision: 0.9290 - recall: 0.7273 - cohen_kappa: 0.7394 - val_loss: 0.0634 - val_accuracy: 0.8320 - val_AUROC: 0.8148 - val_AUPRC: 0.6876 - val_false_positives: 597.0000 - val_true_negatives: 13708.0000 - val_precision: 0.8530 - val_recall: 0.5468 - val_cohen_kappa: 0.5612\n",
      "Epoch 9/200\n",
      "212/213 [============================>.] - ETA: 0s - loss: 0.0368 - accuracy: 0.8923 - AUROC: 0.9197 - AUPRC: 0.9033 - false_positives: 2032.0000 - true_negatives: 70238.0000 - precision: 0.9291 - recall: 0.7337 - cohen_kappa: 0.7446INFO:tensorflow:Assets written to: GAT_model_correct_5/cp_0009.ckpt/assets\n"
     ]
    },
    {
     "name": "stderr",
     "output_type": "stream",
     "text": [
      "INFO:tensorflow:Assets written to: GAT_model_correct_5/cp_0009.ckpt/assets\n"
     ]
    },
    {
     "name": "stdout",
     "output_type": "stream",
     "text": [
      "213/213 [==============================] - 28s 129ms/step - loss: 0.0368 - accuracy: 0.8923 - AUROC: 0.9197 - AUPRC: 0.9033 - false_positives: 2034.0000 - true_negatives: 70318.0000 - precision: 0.9291 - recall: 0.7337 - cohen_kappa: 0.7446 - val_loss: 0.0552 - val_accuracy: 0.8520 - val_AUROC: 0.8527 - val_AUPRC: 0.7512 - val_false_positives: 374.0000 - val_true_negatives: 13931.0000 - val_precision: 0.9072 - val_recall: 0.5770 - val_cohen_kappa: 0.6130\n",
      "Epoch 10/200\n",
      "213/213 [==============================] - 23s 109ms/step - loss: 0.0361 - accuracy: 0.8937 - AUROC: 0.9244 - AUPRC: 0.9077 - false_positives: 2066.0000 - true_negatives: 70286.0000 - precision: 0.9285 - recall: 0.7388 - cohen_kappa: 0.7483 - val_loss: 0.0599 - val_accuracy: 0.8499 - val_AUROC: 0.8403 - val_AUPRC: 0.7276 - val_false_positives: 535.0000 - val_true_negatives: 13770.0000 - val_precision: 0.8758 - val_recall: 0.5954 - val_cohen_kappa: 0.6127\n",
      "Epoch 11/200\n",
      "212/213 [============================>.] - ETA: 0s - loss: 0.0357 - accuracy: 0.8944 - AUROC: 0.9258 - AUPRC: 0.9096 - false_positives: 1934.0000 - true_negatives: 70336.0000 - precision: 0.9326 - recall: 0.7374 - cohen_kappa: 0.7497INFO:tensorflow:Assets written to: GAT_model_correct_5/cp_0011.ckpt/assets\n"
     ]
    },
    {
     "name": "stderr",
     "output_type": "stream",
     "text": [
      "INFO:tensorflow:Assets written to: GAT_model_correct_5/cp_0011.ckpt/assets\n"
     ]
    },
    {
     "name": "stdout",
     "output_type": "stream",
     "text": [
      "213/213 [==============================] - 26s 124ms/step - loss: 0.0357 - accuracy: 0.8944 - AUROC: 0.9258 - AUPRC: 0.9096 - false_positives: 1937.0000 - true_negatives: 70415.0000 - precision: 0.9325 - recall: 0.7373 - cohen_kappa: 0.7496 - val_loss: 0.0561 - val_accuracy: 0.8581 - val_AUROC: 0.8456 - val_AUPRC: 0.7579 - val_false_positives: 384.0000 - val_true_negatives: 13921.0000 - val_precision: 0.9080 - val_recall: 0.5984 - val_cohen_kappa: 0.6316\n",
      "Epoch 12/200\n",
      "212/213 [============================>.] - ETA: 0s - loss: 0.0351 - accuracy: 0.8969 - AUROC: 0.9292 - AUPRC: 0.9126 - false_positives: 1977.0000 - true_negatives: 70293.0000 - precision: 0.9319 - recall: 0.7460 - cohen_kappa: 0.7562INFO:tensorflow:Assets written to: GAT_model_correct_5/cp_0012.ckpt/assets\n"
     ]
    },
    {
     "name": "stderr",
     "output_type": "stream",
     "text": [
      "INFO:tensorflow:Assets written to: GAT_model_correct_5/cp_0012.ckpt/assets\n"
     ]
    },
    {
     "name": "stdout",
     "output_type": "stream",
     "text": [
      "213/213 [==============================] - 27s 125ms/step - loss: 0.0351 - accuracy: 0.8969 - AUROC: 0.9292 - AUPRC: 0.9125 - false_positives: 1979.0000 - true_negatives: 70373.0000 - precision: 0.9319 - recall: 0.7459 - cohen_kappa: 0.7561 - val_loss: 0.0504 - val_accuracy: 0.8651 - val_AUROC: 0.8583 - val_AUPRC: 0.7686 - val_false_positives: 453.0000 - val_true_negatives: 13852.0000 - val_precision: 0.8983 - val_recall: 0.6319 - val_cohen_kappa: 0.6543\n",
      "Epoch 13/200\n",
      "212/213 [============================>.] - ETA: 0s - loss: 0.0345 - accuracy: 0.8986 - AUROC: 0.9317 - AUPRC: 0.9154 - false_positives: 1928.0000 - true_negatives: 70344.0000 - precision: 0.9338 - recall: 0.7498 - cohen_kappa: 0.7604INFO:tensorflow:Assets written to: GAT_model_correct_5/cp_0013.ckpt/assets\n"
     ]
    },
    {
     "name": "stderr",
     "output_type": "stream",
     "text": [
      "INFO:tensorflow:Assets written to: GAT_model_correct_5/cp_0013.ckpt/assets\n"
     ]
    },
    {
     "name": "stdout",
     "output_type": "stream",
     "text": [
      "213/213 [==============================] - 27s 127ms/step - loss: 0.0345 - accuracy: 0.8986 - AUROC: 0.9317 - AUPRC: 0.9155 - false_positives: 1929.0000 - true_negatives: 70423.0000 - precision: 0.9338 - recall: 0.7498 - cohen_kappa: 0.7605 - val_loss: 0.0546 - val_accuracy: 0.8692 - val_AUROC: 0.8739 - val_AUPRC: 0.7844 - val_false_positives: 278.0000 - val_true_negatives: 14027.0000 - val_precision: 0.9337 - val_recall: 0.6177 - val_cohen_kappa: 0.6605\n",
      "Epoch 14/200\n",
      "213/213 [==============================] - 23s 107ms/step - loss: 0.0341 - accuracy: 0.8999 - AUROC: 0.9350 - AUPRC: 0.9179 - false_positives: 2021.0000 - true_negatives: 70331.0000 - precision: 0.9314 - recall: 0.7560 - cohen_kappa: 0.7639 - val_loss: 0.0517 - val_accuracy: 0.8680 - val_AUROC: 0.8878 - val_AUPRC: 0.8004 - val_false_positives: 223.0000 - val_true_negatives: 14082.0000 - val_precision: 0.9450 - val_recall: 0.6051 - val_cohen_kappa: 0.6551\n",
      "Epoch 15/200\n",
      "212/213 [============================>.] - ETA: 0s - loss: 0.0334 - accuracy: 0.9028 - AUROC: 0.9366 - AUPRC: 0.9211 - false_positives: 1915.0000 - true_negatives: 70357.0000 - precision: 0.9352 - recall: 0.7620 - cohen_kappa: 0.7711INFO:tensorflow:Assets written to: GAT_model_correct_5/cp_0015.ckpt/assets\n"
     ]
    },
    {
     "name": "stderr",
     "output_type": "stream",
     "text": [
      "INFO:tensorflow:Assets written to: GAT_model_correct_5/cp_0015.ckpt/assets\n"
     ]
    },
    {
     "name": "stdout",
     "output_type": "stream",
     "text": [
      "213/213 [==============================] - 26s 124ms/step - loss: 0.0334 - accuracy: 0.9028 - AUROC: 0.9367 - AUPRC: 0.9211 - false_positives: 1920.0000 - true_negatives: 70432.0000 - precision: 0.9351 - recall: 0.7620 - cohen_kappa: 0.7710 - val_loss: 0.0494 - val_accuracy: 0.8794 - val_AUROC: 0.8925 - val_AUPRC: 0.7970 - val_false_positives: 783.0000 - val_true_negatives: 13522.0000 - val_precision: 0.8553 - val_recall: 0.7307 - val_cohen_kappa: 0.7046\n",
      "Epoch 16/200\n",
      "213/213 [==============================] - 23s 107ms/step - loss: 0.0334 - accuracy: 0.9021 - AUROC: 0.9379 - AUPRC: 0.9210 - false_positives: 1994.0000 - true_negatives: 70358.0000 - precision: 0.9328 - recall: 0.7620 - cohen_kappa: 0.7696 - val_loss: 0.0558 - val_accuracy: 0.8575 - val_AUROC: 0.8342 - val_AUPRC: 0.7358 - val_false_positives: 380.0000 - val_true_negatives: 13925.0000 - val_precision: 0.9085 - val_recall: 0.5956 - val_cohen_kappa: 0.6294\n",
      "Epoch 17/200\n",
      "213/213 [==============================] - 23s 107ms/step - loss: 0.0330 - accuracy: 0.9030 - AUROC: 0.9390 - AUPRC: 0.9230 - false_positives: 1967.0000 - true_negatives: 70385.0000 - precision: 0.9338 - recall: 0.7640 - cohen_kappa: 0.7718 - val_loss: 0.0538 - val_accuracy: 0.8731 - val_AUROC: 0.8634 - val_AUPRC: 0.7735 - val_false_positives: 743.0000 - val_true_negatives: 13562.0000 - val_precision: 0.8572 - val_recall: 0.7039 - val_cohen_kappa: 0.6861\n",
      "Epoch 18/200\n",
      "213/213 [==============================] - 23s 108ms/step - loss: 0.0324 - accuracy: 0.9041 - AUROC: 0.9420 - AUPRC: 0.9257 - false_positives: 1973.0000 - true_negatives: 70379.0000 - precision: 0.9339 - recall: 0.7674 - cohen_kappa: 0.7745 - val_loss: 0.0651 - val_accuracy: 0.8306 - val_AUROC: 0.8744 - val_AUPRC: 0.7760 - val_false_positives: 2114.0000 - val_true_negatives: 12191.0000 - val_precision: 0.7008 - val_recall: 0.7817 - val_cohen_kappa: 0.6142\n",
      "Epoch 19/200\n",
      "212/213 [============================>.] - ETA: 0s - loss: 0.0324 - accuracy: 0.9055 - AUROC: 0.9412 - AUPRC: 0.9255 - false_positives: 1908.0000 - true_negatives: 70365.0000 - precision: 0.9360 - recall: 0.7699 - cohen_kappa: 0.7779INFO:tensorflow:Assets written to: GAT_model_correct_5/cp_0019.ckpt/assets\n"
     ]
    },
    {
     "name": "stderr",
     "output_type": "stream",
     "text": [
      "INFO:tensorflow:Assets written to: GAT_model_correct_5/cp_0019.ckpt/assets\n"
     ]
    },
    {
     "name": "stdout",
     "output_type": "stream",
     "text": [
      "213/213 [==============================] - 27s 126ms/step - loss: 0.0324 - accuracy: 0.9055 - AUROC: 0.9412 - AUPRC: 0.9255 - false_positives: 1909.0000 - true_negatives: 70443.0000 - precision: 0.9361 - recall: 0.7699 - cohen_kappa: 0.7779 - val_loss: 0.0504 - val_accuracy: 0.8803 - val_AUROC: 0.8768 - val_AUPRC: 0.7786 - val_false_positives: 523.0000 - val_true_negatives: 13782.0000 - val_precision: 0.8935 - val_recall: 0.6925 - val_cohen_kappa: 0.6998\n",
      "Epoch 20/200\n",
      "212/213 [============================>.] - ETA: 0s - loss: 0.0322 - accuracy: 0.9056 - AUROC: 0.9426 - AUPRC: 0.9269 - false_positives: 1876.0000 - true_negatives: 70398.0000 - precision: 0.9370 - recall: 0.7692 - cohen_kappa: 0.7780INFO:tensorflow:Assets written to: GAT_model_correct_5/cp_0020.ckpt/assets\n"
     ]
    },
    {
     "name": "stderr",
     "output_type": "stream",
     "text": [
      "INFO:tensorflow:Assets written to: GAT_model_correct_5/cp_0020.ckpt/assets\n"
     ]
    },
    {
     "name": "stdout",
     "output_type": "stream",
     "text": [
      "213/213 [==============================] - 27s 125ms/step - loss: 0.0322 - accuracy: 0.9055 - AUROC: 0.9425 - AUPRC: 0.9269 - false_positives: 1877.0000 - true_negatives: 70475.0000 - precision: 0.9370 - recall: 0.7690 - cohen_kappa: 0.7778 - val_loss: 0.0456 - val_accuracy: 0.8866 - val_AUROC: 0.9028 - val_AUPRC: 0.8116 - val_false_positives: 300.0000 - val_true_negatives: 14005.0000 - val_precision: 0.9347 - val_recall: 0.6778 - val_cohen_kappa: 0.7113\n",
      "Epoch 21/200\n",
      "213/213 [==============================] - 23s 108ms/step - loss: 0.0319 - accuracy: 0.9069 - AUROC: 0.9437 - AUPRC: 0.9282 - false_positives: 1875.0000 - true_negatives: 70477.0000 - precision: 0.9374 - recall: 0.7729 - cohen_kappa: 0.7812 - val_loss: 0.0554 - val_accuracy: 0.8663 - val_AUROC: 0.8687 - val_AUPRC: 0.7694 - val_false_positives: 332.0000 - val_true_negatives: 13973.0000 - val_precision: 0.9217 - val_recall: 0.6167 - val_cohen_kappa: 0.6538\n",
      "Epoch 22/200\n",
      "213/213 [==============================] - 23s 107ms/step - loss: 0.0317 - accuracy: 0.9059 - AUROC: 0.9452 - AUPRC: 0.9291 - false_positives: 1921.0000 - true_negatives: 70431.0000 - precision: 0.9358 - recall: 0.7714 - cohen_kappa: 0.7789 - val_loss: 0.0539 - val_accuracy: 0.8761 - val_AUROC: 0.8607 - val_AUPRC: 0.7759 - val_false_positives: 512.0000 - val_true_negatives: 13793.0000 - val_precision: 0.8934 - val_recall: 0.6772 - val_cohen_kappa: 0.6878\n",
      "Epoch 23/200\n",
      "213/213 [==============================] - 23s 108ms/step - loss: 0.0313 - accuracy: 0.9080 - AUROC: 0.9459 - AUPRC: 0.9304 - false_positives: 1896.0000 - true_negatives: 70456.0000 - precision: 0.9370 - recall: 0.7770 - cohen_kappa: 0.7842 - val_loss: 0.0523 - val_accuracy: 0.8712 - val_AUROC: 0.8715 - val_AUPRC: 0.7811 - val_false_positives: 266.0000 - val_true_negatives: 14039.0000 - val_precision: 0.9368 - val_recall: 0.6224 - val_cohen_kappa: 0.6661\n",
      "Epoch 24/200\n",
      "213/213 [==============================] - 23s 108ms/step - loss: 0.0313 - accuracy: 0.9074 - AUROC: 0.9467 - AUPRC: 0.9311 - false_positives: 1900.0000 - true_negatives: 70452.0000 - precision: 0.9368 - recall: 0.7751 - cohen_kappa: 0.7825 - val_loss: 0.0528 - val_accuracy: 0.8638 - val_AUROC: 0.8758 - val_AUPRC: 0.7793 - val_false_positives: 253.0000 - val_true_negatives: 14052.0000 - val_precision: 0.9372 - val_recall: 0.5962 - val_cohen_kappa: 0.6438\n",
      "Epoch 25/200\n",
      "213/213 [==============================] - 23s 107ms/step - loss: 0.0310 - accuracy: 0.9089 - AUROC: 0.9476 - AUPRC: 0.9324 - false_positives: 1951.0000 - true_negatives: 70401.0000 - precision: 0.9356 - recall: 0.7812 - cohen_kappa: 0.7866 - val_loss: 0.0507 - val_accuracy: 0.8811 - val_AUROC: 0.8703 - val_AUPRC: 0.7834 - val_false_positives: 572.0000 - val_true_negatives: 13733.0000 - val_precision: 0.8862 - val_recall: 0.7029 - val_cohen_kappa: 0.7035\n",
      "Epoch 26/200\n",
      "212/213 [============================>.] - ETA: 0s - loss: 0.0308 - accuracy: 0.9094 - AUROC: 0.9485 - AUPRC: 0.9327 - false_positives: 1851.0000 - true_negatives: 70419.0000 - precision: 0.9386 - recall: 0.7800 - cohen_kappa: 0.7875INFO:tensorflow:Assets written to: GAT_model_correct_5/cp_0026.ckpt/assets\n"
     ]
    },
    {
     "name": "stderr",
     "output_type": "stream",
     "text": [
      "INFO:tensorflow:Assets written to: GAT_model_correct_5/cp_0026.ckpt/assets\n"
     ]
    },
    {
     "name": "stdout",
     "output_type": "stream",
     "text": [
      "213/213 [==============================] - 26s 124ms/step - loss: 0.0308 - accuracy: 0.9095 - AUROC: 0.9485 - AUPRC: 0.9327 - false_positives: 1854.0000 - true_negatives: 70498.0000 - precision: 0.9386 - recall: 0.7802 - cohen_kappa: 0.7876 - val_loss: 0.0483 - val_accuracy: 0.8867 - val_AUROC: 0.8840 - val_AUPRC: 0.7957 - val_false_positives: 673.0000 - val_true_negatives: 13632.0000 - val_precision: 0.8740 - val_recall: 0.7370 - val_cohen_kappa: 0.7215\n",
      "Epoch 27/200\n",
      "213/213 [==============================] - 23s 106ms/step - loss: 0.0304 - accuracy: 0.9102 - AUROC: 0.9499 - AUPRC: 0.9344 - false_positives: 1921.0000 - true_negatives: 70431.0000 - precision: 0.9368 - recall: 0.7843 - cohen_kappa: 0.7898 - val_loss: 0.0525 - val_accuracy: 0.8779 - val_AUROC: 0.8798 - val_AUPRC: 0.7975 - val_false_positives: 451.0000 - val_true_negatives: 13854.0000 - val_precision: 0.9044 - val_recall: 0.6732 - val_cohen_kappa: 0.6909\n",
      "Epoch 28/200\n",
      "212/213 [============================>.] - ETA: 0s - loss: 0.0302 - accuracy: 0.9099 - AUROC: 0.9505 - AUPRC: 0.9357 - false_positives: 1869.0000 - true_negatives: 70397.0000 - precision: 0.9382 - recall: 0.7819 - cohen_kappa: 0.7887INFO:tensorflow:Assets written to: GAT_model_correct_5/cp_0028.ckpt/assets\n"
     ]
    },
    {
     "name": "stderr",
     "output_type": "stream",
     "text": [
      "INFO:tensorflow:Assets written to: GAT_model_correct_5/cp_0028.ckpt/assets\n"
     ]
    },
    {
     "name": "stdout",
     "output_type": "stream",
     "text": [
      "213/213 [==============================] - 27s 128ms/step - loss: 0.0302 - accuracy: 0.9098 - AUROC: 0.9505 - AUPRC: 0.9356 - false_positives: 1877.0000 - true_negatives: 70475.0000 - precision: 0.9380 - recall: 0.7819 - cohen_kappa: 0.7886 - val_loss: 0.0450 - val_accuracy: 0.8921 - val_AUROC: 0.8959 - val_AUPRC: 0.8071 - val_false_positives: 340.0000 - val_true_negatives: 13965.0000 - val_precision: 0.9290 - val_recall: 0.7020 - val_cohen_kappa: 0.7277\n",
      "Epoch 29/200\n",
      "213/213 [==============================] - 23s 107ms/step - loss: 0.0300 - accuracy: 0.9116 - AUROC: 0.9512 - AUPRC: 0.9363 - false_positives: 1847.0000 - true_negatives: 70505.0000 - precision: 0.9392 - recall: 0.7862 - cohen_kappa: 0.7929 - val_loss: 0.0514 - val_accuracy: 0.8803 - val_AUROC: 0.8708 - val_AUPRC: 0.7738 - val_false_positives: 315.0000 - val_true_negatives: 13990.0000 - val_precision: 0.9299 - val_recall: 0.6597 - val_cohen_kappa: 0.6938\n",
      "Epoch 30/200\n",
      "213/213 [==============================] - 23s 107ms/step - loss: 0.0294 - accuracy: 0.9134 - AUROC: 0.9526 - AUPRC: 0.9386 - false_positives: 1768.0000 - true_negatives: 70584.0000 - precision: 0.9419 - recall: 0.7897 - cohen_kappa: 0.7973 - val_loss: 0.0471 - val_accuracy: 0.8866 - val_AUROC: 0.8932 - val_AUPRC: 0.8049 - val_false_positives: 283.0000 - val_true_negatives: 14022.0000 - val_precision: 0.9380 - val_recall: 0.6753 - val_cohen_kappa: 0.7110\n",
      "Epoch 31/200\n",
      "213/213 [==============================] - 23s 109ms/step - loss: 0.0295 - accuracy: 0.9124 - AUROC: 0.9530 - AUPRC: 0.9385 - false_positives: 1873.0000 - true_negatives: 70479.0000 - precision: 0.9387 - recall: 0.7893 - cohen_kappa: 0.7949 - val_loss: 0.0529 - val_accuracy: 0.8831 - val_AUROC: 0.8760 - val_AUPRC: 0.7962 - val_false_positives: 339.0000 - val_true_negatives: 13966.0000 - val_precision: 0.9263 - val_recall: 0.6728 - val_cohen_kappa: 0.7026\n",
      "Epoch 32/200\n",
      "213/213 [==============================] - 23s 107ms/step - loss: 0.0294 - accuracy: 0.9129 - AUROC: 0.9530 - AUPRC: 0.9387 - false_positives: 1755.0000 - true_negatives: 70597.0000 - precision: 0.9422 - recall: 0.7876 - cohen_kappa: 0.7959 - val_loss: 0.0483 - val_accuracy: 0.8908 - val_AUROC: 0.8891 - val_AUPRC: 0.7988 - val_false_positives: 353.0000 - val_true_negatives: 13952.0000 - val_precision: 0.9263 - val_recall: 0.7001 - val_cohen_kappa: 0.7247\n",
      "Epoch 33/200\n",
      "213/213 [==============================] - 23s 107ms/step - loss: 0.0291 - accuracy: 0.9129 - AUROC: 0.9543 - AUPRC: 0.9402 - false_positives: 1814.0000 - true_negatives: 70538.0000 - precision: 0.9405 - recall: 0.7894 - cohen_kappa: 0.7962 - val_loss: 0.0519 - val_accuracy: 0.8803 - val_AUROC: 0.8894 - val_AUPRC: 0.7983 - val_false_positives: 273.0000 - val_true_negatives: 14032.0000 - val_precision: 0.9381 - val_recall: 0.6530 - val_cohen_kappa: 0.6926\n",
      "Epoch 34/200\n",
      "213/213 [==============================] - 23s 109ms/step - loss: 0.0299 - accuracy: 0.9112 - AUROC: 0.9511 - AUPRC: 0.9368 - false_positives: 1798.0000 - true_negatives: 70554.0000 - precision: 0.9406 - recall: 0.7839 - cohen_kappa: 0.7919 - val_loss: 0.0542 - val_accuracy: 0.8875 - val_AUROC: 0.8817 - val_AUPRC: 0.7886 - val_false_positives: 332.0000 - val_true_negatives: 13973.0000 - val_precision: 0.9290 - val_recall: 0.6860 - val_cohen_kappa: 0.7149\n",
      "Epoch 35/200\n",
      "213/213 [==============================] - 23s 107ms/step - loss: 0.0295 - accuracy: 0.9123 - AUROC: 0.9533 - AUPRC: 0.9388 - false_positives: 1817.0000 - true_negatives: 70535.0000 - precision: 0.9403 - recall: 0.7876 - cohen_kappa: 0.7946 - val_loss: 0.0480 - val_accuracy: 0.8867 - val_AUROC: 0.8979 - val_AUPRC: 0.8069 - val_false_positives: 424.0000 - val_true_negatives: 13881.0000 - val_precision: 0.9125 - val_recall: 0.6977 - val_cohen_kappa: 0.7149\n",
      "Epoch 36/200\n",
      "213/213 [==============================] - 23s 107ms/step - loss: 0.0291 - accuracy: 0.9140 - AUROC: 0.9542 - AUPRC: 0.9404 - false_positives: 1778.0000 - true_negatives: 70574.0000 - precision: 0.9417 - recall: 0.7915 - cohen_kappa: 0.7987 - val_loss: 0.0529 - val_accuracy: 0.8806 - val_AUROC: 0.8816 - val_AUPRC: 0.7868 - val_false_positives: 369.0000 - val_true_negatives: 13936.0000 - val_precision: 0.9199 - val_recall: 0.6691 - val_cohen_kappa: 0.6962\n",
      "Epoch 37/200\n",
      "213/213 [==============================] - 23s 107ms/step - loss: 0.0290 - accuracy: 0.9136 - AUROC: 0.9547 - AUPRC: 0.9405 - false_positives: 1810.0000 - true_negatives: 70542.0000 - precision: 0.9407 - recall: 0.7911 - cohen_kappa: 0.7977 - val_loss: 0.0520 - val_accuracy: 0.8781 - val_AUROC: 0.8943 - val_AUPRC: 0.8175 - val_false_positives: 247.0000 - val_true_negatives: 14058.0000 - val_precision: 0.9427 - val_recall: 0.6418 - val_cohen_kappa: 0.6855\n",
      "Epoch 38/200\n",
      "213/213 [==============================] - 23s 109ms/step - loss: 0.0284 - accuracy: 0.9157 - AUROC: 0.9561 - AUPRC: 0.9428 - false_positives: 1763.0000 - true_negatives: 70589.0000 - precision: 0.9425 - recall: 0.7963 - cohen_kappa: 0.8029 - val_loss: 0.0544 - val_accuracy: 0.8762 - val_AUROC: 0.8760 - val_AUPRC: 0.7837 - val_false_positives: 324.0000 - val_true_negatives: 13981.0000 - val_precision: 0.9268 - val_recall: 0.6478 - val_cohen_kappa: 0.6824\n",
      "Epoch 39/200\n",
      "213/213 [==============================] - 23s 107ms/step - loss: 0.0284 - accuracy: 0.9147 - AUROC: 0.9561 - AUPRC: 0.9428 - false_positives: 1733.0000 - true_negatives: 70619.0000 - precision: 0.9432 - recall: 0.7925 - cohen_kappa: 0.8004 - val_loss: 0.0499 - val_accuracy: 0.8778 - val_AUROC: 0.8915 - val_AUPRC: 0.7958 - val_false_positives: 657.0000 - val_true_negatives: 13648.0000 - val_precision: 0.8719 - val_recall: 0.7056 - val_cohen_kappa: 0.6967\n",
      "Epoch 40/200\n",
      "213/213 [==============================] - 23s 107ms/step - loss: 0.0285 - accuracy: 0.9146 - AUROC: 0.9564 - AUPRC: 0.9425 - false_positives: 1761.0000 - true_negatives: 70591.0000 - precision: 0.9424 - recall: 0.7929 - cohen_kappa: 0.8002 - val_loss: 0.0549 - val_accuracy: 0.8734 - val_AUROC: 0.8950 - val_AUPRC: 0.8094 - val_false_positives: 212.0000 - val_true_negatives: 14093.0000 - val_precision: 0.9489 - val_recall: 0.6212 - val_cohen_kappa: 0.6709\n",
      "Epoch 41/200\n",
      "213/213 [==============================] - 23s 107ms/step - loss: 0.0281 - accuracy: 0.9157 - AUROC: 0.9576 - AUPRC: 0.9439 - false_positives: 1730.0000 - true_negatives: 70622.0000 - precision: 0.9435 - recall: 0.7955 - cohen_kappa: 0.8030 - val_loss: 0.0501 - val_accuracy: 0.8894 - val_AUROC: 0.9149 - val_AUPRC: 0.8264 - val_false_positives: 272.0000 - val_true_negatives: 14033.0000 - val_precision: 0.9408 - val_recall: 0.6826 - val_cohen_kappa: 0.7185\n",
      "Epoch 42/200\n",
      "213/213 [==============================] - 23s 107ms/step - loss: 0.0283 - accuracy: 0.9151 - AUROC: 0.9567 - AUPRC: 0.9435 - false_positives: 1744.0000 - true_negatives: 70608.0000 - precision: 0.9430 - recall: 0.7941 - cohen_kappa: 0.8015 - val_loss: 0.0495 - val_accuracy: 0.8883 - val_AUROC: 0.9054 - val_AUPRC: 0.8146 - val_false_positives: 535.0000 - val_true_negatives: 13770.0000 - val_precision: 0.8951 - val_recall: 0.7204 - val_cohen_kappa: 0.7223\n",
      "Epoch 43/200\n",
      "213/213 [==============================] - 23s 109ms/step - loss: 0.0281 - accuracy: 0.9157 - AUROC: 0.9572 - AUPRC: 0.9439 - false_positives: 1758.0000 - true_negatives: 70594.0000 - precision: 0.9427 - recall: 0.7963 - cohen_kappa: 0.8031 - val_loss: 0.0592 - val_accuracy: 0.8688 - val_AUROC: 0.8803 - val_AUPRC: 0.7875 - val_false_positives: 537.0000 - val_true_negatives: 13768.0000 - val_precision: 0.8858 - val_recall: 0.6573 - val_cohen_kappa: 0.6677\n",
      "Epoch 44/200\n",
      "213/213 [==============================] - 23s 107ms/step - loss: 0.0280 - accuracy: 0.9161 - AUROC: 0.9581 - AUPRC: 0.9446 - false_positives: 1775.0000 - true_negatives: 70577.0000 - precision: 0.9423 - recall: 0.7977 - cohen_kappa: 0.8039 - val_loss: 0.0557 - val_accuracy: 0.8765 - val_AUROC: 0.9006 - val_AUPRC: 0.8139 - val_false_positives: 256.0000 - val_true_negatives: 14049.0000 - val_precision: 0.9404 - val_recall: 0.6379 - val_cohen_kappa: 0.6810\n",
      "Epoch 45/200\n",
      "213/213 [==============================] - 23s 106ms/step - loss: 0.0277 - accuracy: 0.9173 - AUROC: 0.9584 - AUPRC: 0.9455 - false_positives: 1732.0000 - true_negatives: 70620.0000 - precision: 0.9437 - recall: 0.8001 - cohen_kappa: 0.8067 - val_loss: 0.0496 - val_accuracy: 0.8872 - val_AUROC: 0.8939 - val_AUPRC: 0.8108 - val_false_positives: 324.0000 - val_true_negatives: 13981.0000 - val_precision: 0.9304 - val_recall: 0.6835 - val_cohen_kappa: 0.7136\n",
      "Epoch 46/200\n",
      "213/213 [==============================] - 23s 107ms/step - loss: 0.0276 - accuracy: 0.9167 - AUROC: 0.9590 - AUPRC: 0.9458 - false_positives: 1715.0000 - true_negatives: 70637.0000 - precision: 0.9441 - recall: 0.7981 - cohen_kappa: 0.8054 - val_loss: 0.0582 - val_accuracy: 0.8843 - val_AUROC: 0.8885 - val_AUPRC: 0.7955 - val_false_positives: 448.0000 - val_true_negatives: 13857.0000 - val_precision: 0.9075 - val_recall: 0.6938 - val_cohen_kappa: 0.7090\n",
      "Epoch 47/200\n",
      "213/213 [==============================] - 23s 108ms/step - loss: 0.0275 - accuracy: 0.9177 - AUROC: 0.9592 - AUPRC: 0.9463 - false_positives: 1737.0000 - true_negatives: 70615.0000 - precision: 0.9437 - recall: 0.8014 - cohen_kappa: 0.8078 - val_loss: 0.0505 - val_accuracy: 0.8875 - val_AUROC: 0.9194 - val_AUPRC: 0.8238 - val_false_positives: 290.0000 - val_true_negatives: 14015.0000 - val_precision: 0.9369 - val_recall: 0.6792 - val_cohen_kappa: 0.7136\n",
      "Epoch 48/200\n",
      "213/213 [==============================] - 23s 107ms/step - loss: 0.0278 - accuracy: 0.9170 - AUROC: 0.9582 - AUPRC: 0.9452 - false_positives: 1686.0000 - true_negatives: 70666.0000 - precision: 0.9450 - recall: 0.7981 - cohen_kappa: 0.8060 - val_loss: 0.0475 - val_accuracy: 0.8870 - val_AUROC: 0.9217 - val_AUPRC: 0.8227 - val_false_positives: 432.0000 - val_true_negatives: 13873.0000 - val_precision: 0.9112 - val_recall: 0.6999 - val_cohen_kappa: 0.7160\n",
      "Epoch 49/200\n",
      "213/213 [==============================] - 23s 107ms/step - loss: 0.0278 - accuracy: 0.9171 - AUROC: 0.9582 - AUPRC: 0.9451 - false_positives: 1739.0000 - true_negatives: 70613.0000 - precision: 0.9435 - recall: 0.7998 - cohen_kappa: 0.8064 - val_loss: 0.0530 - val_accuracy: 0.8817 - val_AUROC: 0.9060 - val_AUPRC: 0.8086 - val_false_positives: 283.0000 - val_true_negatives: 14022.0000 - val_precision: 0.9365 - val_recall: 0.6592 - val_cohen_kappa: 0.6969\n",
      "Epoch 50/200\n",
      "213/213 [==============================] - 23s 107ms/step - loss: 0.0269 - accuracy: 0.9195 - AUROC: 0.9609 - AUPRC: 0.9486 - false_positives: 1670.0000 - true_negatives: 70682.0000 - precision: 0.9460 - recall: 0.8050 - cohen_kappa: 0.8120 - val_loss: 0.0546 - val_accuracy: 0.8743 - val_AUROC: 0.8928 - val_AUPRC: 0.8102 - val_false_positives: 307.0000 - val_true_negatives: 13998.0000 - val_precision: 0.9295 - val_recall: 0.6390 - val_cohen_kappa: 0.6764\n",
      "Epoch 51/200\n",
      "213/213 [==============================] - 23s 107ms/step - loss: 0.0270 - accuracy: 0.9200 - AUROC: 0.9607 - AUPRC: 0.9480 - false_positives: 1612.0000 - true_negatives: 70740.0000 - precision: 0.9477 - recall: 0.8049 - cohen_kappa: 0.8132 - val_loss: 0.0648 - val_accuracy: 0.8688 - val_AUROC: 0.8708 - val_AUPRC: 0.7684 - val_false_positives: 271.0000 - val_true_negatives: 14034.0000 - val_precision: 0.9350 - val_recall: 0.6153 - val_cohen_kappa: 0.6591\n",
      "Epoch 52/200\n",
      "213/213 [==============================] - 23s 108ms/step - loss: 0.0270 - accuracy: 0.9193 - AUROC: 0.9606 - AUPRC: 0.9481 - false_positives: 1613.0000 - true_negatives: 70739.0000 - precision: 0.9476 - recall: 0.8030 - cohen_kappa: 0.8115 - val_loss: 0.0530 - val_accuracy: 0.8854 - val_AUROC: 0.9042 - val_AUPRC: 0.8105 - val_false_positives: 330.0000 - val_true_negatives: 13975.0000 - val_precision: 0.9287 - val_recall: 0.6786 - val_cohen_kappa: 0.7087\n",
      "Epoch 53/200\n",
      "212/213 [============================>.] - ETA: 0s - loss: 0.0265 - accuracy: 0.9202 - AUROC: 0.9625 - AUPRC: 0.9498 - false_positives: 1688.0000 - true_negatives: 70586.0000 - precision: 0.9455 - recall: 0.8077 - cohen_kappa: 0.8139INFO:tensorflow:Assets written to: GAT_model_correct_5/cp_0053.ckpt/assets\n"
     ]
    },
    {
     "name": "stderr",
     "output_type": "stream",
     "text": [
      "INFO:tensorflow:Assets written to: GAT_model_correct_5/cp_0053.ckpt/assets\n"
     ]
    },
    {
     "name": "stdout",
     "output_type": "stream",
     "text": [
      "213/213 [==============================] - 26s 123ms/step - loss: 0.0265 - accuracy: 0.9202 - AUROC: 0.9625 - AUPRC: 0.9499 - false_positives: 1689.0000 - true_negatives: 70663.0000 - precision: 0.9455 - recall: 0.8077 - cohen_kappa: 0.8139 - val_loss: 0.0517 - val_accuracy: 0.8923 - val_AUROC: 0.9165 - val_AUPRC: 0.8190 - val_false_positives: 373.0000 - val_true_negatives: 13932.0000 - val_precision: 0.9232 - val_recall: 0.7081 - val_cohen_kappa: 0.7294\n",
      "Epoch 54/200\n",
      "213/213 [==============================] - 23s 106ms/step - loss: 0.0265 - accuracy: 0.9202 - AUROC: 0.9625 - AUPRC: 0.9499 - false_positives: 1628.0000 - true_negatives: 70724.0000 - precision: 0.9473 - recall: 0.8059 - cohen_kappa: 0.8137 - val_loss: 0.0548 - val_accuracy: 0.8780 - val_AUROC: 0.9098 - val_AUPRC: 0.8127 - val_false_positives: 304.0000 - val_true_negatives: 14001.0000 - val_precision: 0.9313 - val_recall: 0.6505 - val_cohen_kappa: 0.6870\n",
      "Epoch 55/200\n",
      "213/213 [==============================] - 23s 107ms/step - loss: 0.0268 - accuracy: 0.9193 - AUROC: 0.9615 - AUPRC: 0.9489 - false_positives: 1682.0000 - true_negatives: 70670.0000 - precision: 0.9456 - recall: 0.8048 - cohen_kappa: 0.8117 - val_loss: 0.0543 - val_accuracy: 0.8739 - val_AUROC: 0.9088 - val_AUPRC: 0.8101 - val_false_positives: 295.0000 - val_true_negatives: 14010.0000 - val_precision: 0.9318 - val_recall: 0.6358 - val_cohen_kappa: 0.6749\n",
      "Epoch 56/200\n",
      "213/213 [==============================] - 23s 108ms/step - loss: 0.0265 - accuracy: 0.9207 - AUROC: 0.9629 - AUPRC: 0.9501 - false_positives: 1621.0000 - true_negatives: 70731.0000 - precision: 0.9476 - recall: 0.8073 - cohen_kappa: 0.8150 - val_loss: 0.0553 - val_accuracy: 0.8835 - val_AUROC: 0.9087 - val_AUPRC: 0.8074 - val_false_positives: 486.0000 - val_true_negatives: 13819.0000 - val_precision: 0.9009 - val_recall: 0.6971 - val_cohen_kappa: 0.7077\n",
      "Epoch 57/200\n",
      "213/213 [==============================] - 23s 107ms/step - loss: 0.0264 - accuracy: 0.9208 - AUROC: 0.9631 - AUPRC: 0.9504 - false_positives: 1646.0000 - true_negatives: 70706.0000 - precision: 0.9469 - recall: 0.8083 - cohen_kappa: 0.8153 - val_loss: 0.0635 - val_accuracy: 0.8685 - val_AUROC: 0.8875 - val_AUPRC: 0.7933 - val_false_positives: 264.0000 - val_true_negatives: 14041.0000 - val_precision: 0.9364 - val_recall: 0.6133 - val_cohen_kappa: 0.6581\n",
      "Epoch 58/200\n",
      "213/213 [==============================] - 23s 107ms/step - loss: 0.0262 - accuracy: 0.9216 - AUROC: 0.9635 - AUPRC: 0.9510 - false_positives: 1640.0000 - true_negatives: 70712.0000 - precision: 0.9472 - recall: 0.8105 - cohen_kappa: 0.8172 - val_loss: 0.0647 - val_accuracy: 0.8652 - val_AUROC: 0.8780 - val_AUPRC: 0.7743 - val_false_positives: 392.0000 - val_true_negatives: 13913.0000 - val_precision: 0.9096 - val_recall: 0.6227 - val_cohen_kappa: 0.6527\n",
      "Epoch 59/200\n",
      "213/213 [==============================] - 23s 107ms/step - loss: 0.0268 - accuracy: 0.9191 - AUROC: 0.9619 - AUPRC: 0.9490 - false_positives: 1678.0000 - true_negatives: 70674.0000 - precision: 0.9456 - recall: 0.8040 - cohen_kappa: 0.8110 - val_loss: 0.0585 - val_accuracy: 0.8797 - val_AUROC: 0.9019 - val_AUPRC: 0.8002 - val_false_positives: 452.0000 - val_true_negatives: 13853.0000 - val_precision: 0.9050 - val_recall: 0.6794 - val_cohen_kappa: 0.6961\n",
      "Epoch 60/200\n",
      "213/213 [==============================] - 23s 107ms/step - loss: 0.0260 - accuracy: 0.9214 - AUROC: 0.9643 - AUPRC: 0.9520 - false_positives: 1683.0000 - true_negatives: 70669.0000 - precision: 0.9460 - recall: 0.8112 - cohen_kappa: 0.8169 - val_loss: 0.0521 - val_accuracy: 0.8811 - val_AUROC: 0.9095 - val_AUPRC: 0.8088 - val_false_positives: 396.0000 - val_true_negatives: 13909.0000 - val_precision: 0.9152 - val_recall: 0.6750 - val_cohen_kappa: 0.6984\n",
      "Epoch 61/200\n",
      "212/213 [============================>.] - ETA: 0s - loss: 0.0260 - accuracy: 0.9220 - AUROC: 0.9642 - AUPRC: 0.9516 - false_positives: 1654.0000 - true_negatives: 70617.0000 - precision: 0.9468 - recall: 0.8121 - cohen_kappa: 0.8182INFO:tensorflow:Assets written to: GAT_model_correct_5/cp_0061.ckpt/assets\n"
     ]
    },
    {
     "name": "stderr",
     "output_type": "stream",
     "text": [
      "INFO:tensorflow:Assets written to: GAT_model_correct_5/cp_0061.ckpt/assets\n"
     ]
    },
    {
     "name": "stdout",
     "output_type": "stream",
     "text": [
      "213/213 [==============================] - 27s 127ms/step - loss: 0.0260 - accuracy: 0.9220 - AUROC: 0.9642 - AUPRC: 0.9517 - false_positives: 1656.0000 - true_negatives: 70696.0000 - precision: 0.9468 - recall: 0.8121 - cohen_kappa: 0.8182 - val_loss: 0.0477 - val_accuracy: 0.8955 - val_AUROC: 0.9267 - val_AUPRC: 0.8298 - val_false_positives: 357.0000 - val_true_negatives: 13948.0000 - val_precision: 0.9270 - val_recall: 0.7160 - val_cohen_kappa: 0.7379\n",
      "Epoch 62/200\n",
      "213/213 [==============================] - 23s 108ms/step - loss: 0.0260 - accuracy: 0.9226 - AUROC: 0.9638 - AUPRC: 0.9517 - false_positives: 1641.0000 - true_negatives: 70711.0000 - precision: 0.9474 - recall: 0.8136 - cohen_kappa: 0.8198 - val_loss: 0.0594 - val_accuracy: 0.8651 - val_AUROC: 0.9118 - val_AUPRC: 0.8142 - val_false_positives: 275.0000 - val_true_negatives: 14030.0000 - val_precision: 0.9329 - val_recall: 0.6038 - val_cohen_kappa: 0.6483\n",
      "Epoch 63/200\n",
      "213/213 [==============================] - 23s 107ms/step - loss: 0.0258 - accuracy: 0.9225 - AUROC: 0.9645 - AUPRC: 0.9525 - false_positives: 1627.0000 - true_negatives: 70725.0000 - precision: 0.9478 - recall: 0.8128 - cohen_kappa: 0.8194 - val_loss: 0.0513 - val_accuracy: 0.8887 - val_AUROC: 0.9154 - val_AUPRC: 0.8228 - val_false_positives: 392.0000 - val_true_negatives: 13913.0000 - val_precision: 0.9187 - val_recall: 0.6993 - val_cohen_kappa: 0.7198\n",
      "Epoch 64/200\n",
      "213/213 [==============================] - 23s 107ms/step - loss: 0.0255 - accuracy: 0.9225 - AUROC: 0.9658 - AUPRC: 0.9535 - false_positives: 1661.0000 - true_negatives: 70691.0000 - precision: 0.9468 - recall: 0.8139 - cohen_kappa: 0.8196 - val_loss: 0.0551 - val_accuracy: 0.8688 - val_AUROC: 0.9082 - val_AUPRC: 0.8148 - val_false_positives: 272.0000 - val_true_negatives: 14033.0000 - val_precision: 0.9348 - val_recall: 0.6156 - val_cohen_kappa: 0.6593\n",
      "Epoch 65/200\n",
      "213/213 [==============================] - 23s 109ms/step - loss: 0.0257 - accuracy: 0.9227 - AUROC: 0.9652 - AUPRC: 0.9527 - false_positives: 1640.0000 - true_negatives: 70712.0000 - precision: 0.9474 - recall: 0.8140 - cohen_kappa: 0.8201 - val_loss: 0.0640 - val_accuracy: 0.8669 - val_AUROC: 0.9001 - val_AUPRC: 0.8082 - val_false_positives: 245.0000 - val_true_negatives: 14060.0000 - val_precision: 0.9399 - val_recall: 0.6051 - val_cohen_kappa: 0.6527\n",
      "Epoch 66/200\n",
      "213/213 [==============================] - 23s 107ms/step - loss: 0.0254 - accuracy: 0.9248 - AUROC: 0.9652 - AUPRC: 0.9538 - false_positives: 1543.0000 - true_negatives: 70809.0000 - precision: 0.9506 - recall: 0.8174 - cohen_kappa: 0.8248 - val_loss: 0.0527 - val_accuracy: 0.8742 - val_AUROC: 0.9151 - val_AUPRC: 0.8204 - val_false_positives: 269.0000 - val_true_negatives: 14036.0000 - val_precision: 0.9371 - val_recall: 0.6327 - val_cohen_kappa: 0.6750\n",
      "Epoch 67/200\n",
      "213/213 [==============================] - 23s 107ms/step - loss: 0.0258 - accuracy: 0.9221 - AUROC: 0.9647 - AUPRC: 0.9525 - false_positives: 1639.0000 - true_negatives: 70713.0000 - precision: 0.9473 - recall: 0.8119 - cohen_kappa: 0.8184 - val_loss: 0.0539 - val_accuracy: 0.8772 - val_AUROC: 0.9030 - val_AUPRC: 0.8210 - val_false_positives: 254.0000 - val_true_negatives: 14051.0000 - val_precision: 0.9410 - val_recall: 0.6399 - val_cohen_kappa: 0.6831\n",
      "Epoch 68/200\n",
      "213/213 [==============================] - 23s 107ms/step - loss: 0.0254 - accuracy: 0.9234 - AUROC: 0.9659 - AUPRC: 0.9538 - false_positives: 1619.0000 - true_negatives: 70733.0000 - precision: 0.9482 - recall: 0.8154 - cohen_kappa: 0.8216 - val_loss: 0.0532 - val_accuracy: 0.8818 - val_AUROC: 0.9009 - val_AUPRC: 0.8131 - val_false_positives: 408.0000 - val_true_negatives: 13897.0000 - val_precision: 0.9134 - val_recall: 0.6792 - val_cohen_kappa: 0.7008\n",
      "Epoch 69/200\n",
      "213/213 [==============================] - 23s 109ms/step - loss: 0.0252 - accuracy: 0.9238 - AUROC: 0.9664 - AUPRC: 0.9545 - false_positives: 1642.0000 - true_negatives: 70710.0000 - precision: 0.9476 - recall: 0.8173 - cohen_kappa: 0.8228 - val_loss: 0.0515 - val_accuracy: 0.8785 - val_AUROC: 0.9026 - val_AUPRC: 0.8303 - val_false_positives: 270.0000 - val_true_negatives: 14035.0000 - val_precision: 0.9382 - val_recall: 0.6469 - val_cohen_kappa: 0.6875\n",
      "Epoch 70/200\n",
      "213/213 [==============================] - 23s 107ms/step - loss: 0.0252 - accuracy: 0.9243 - AUROC: 0.9665 - AUPRC: 0.9546 - false_positives: 1616.0000 - true_negatives: 70736.0000 - precision: 0.9484 - recall: 0.8180 - cohen_kappa: 0.8239 - val_loss: 0.0529 - val_accuracy: 0.8807 - val_AUROC: 0.9111 - val_AUPRC: 0.8246 - val_false_positives: 382.0000 - val_true_negatives: 13923.0000 - val_precision: 0.9176 - val_recall: 0.6715 - val_cohen_kappa: 0.6969\n",
      "Epoch 71/200\n",
      "213/213 [==============================] - 23s 107ms/step - loss: 0.0253 - accuracy: 0.9239 - AUROC: 0.9660 - AUPRC: 0.9540 - false_positives: 1550.0000 - true_negatives: 70802.0000 - precision: 0.9502 - recall: 0.8149 - cohen_kappa: 0.8227 - val_loss: 0.0603 - val_accuracy: 0.8755 - val_AUROC: 0.8943 - val_AUPRC: 0.8050 - val_false_positives: 274.0000 - val_true_negatives: 14031.0000 - val_precision: 0.9365 - val_recall: 0.6376 - val_cohen_kappa: 0.6788\n",
      "Epoch 72/200\n",
      "213/213 [==============================] - 23s 107ms/step - loss: 0.0252 - accuracy: 0.9245 - AUROC: 0.9667 - AUPRC: 0.9545 - false_positives: 1581.0000 - true_negatives: 70771.0000 - precision: 0.9494 - recall: 0.8177 - cohen_kappa: 0.8243 - val_loss: 0.0511 - val_accuracy: 0.8784 - val_AUROC: 0.9228 - val_AUPRC: 0.8309 - val_false_positives: 374.0000 - val_true_negatives: 13931.0000 - val_precision: 0.9182 - val_recall: 0.6630 - val_cohen_kappa: 0.6903\n",
      "Epoch 73/200\n",
      "213/213 [==============================] - 23s 107ms/step - loss: 0.0251 - accuracy: 0.9247 - AUROC: 0.9667 - AUPRC: 0.9549 - false_positives: 1639.0000 - true_negatives: 70713.0000 - precision: 0.9478 - recall: 0.8198 - cohen_kappa: 0.8249 - val_loss: 0.0484 - val_accuracy: 0.8869 - val_AUROC: 0.9237 - val_AUPRC: 0.8427 - val_false_positives: 399.0000 - val_true_negatives: 13906.0000 - val_precision: 0.9168 - val_recall: 0.6944 - val_cohen_kappa: 0.7148\n",
      "Epoch 74/200\n",
      "213/213 [==============================] - 23s 109ms/step - loss: 0.0249 - accuracy: 0.9252 - AUROC: 0.9676 - AUPRC: 0.9556 - false_positives: 1629.0000 - true_negatives: 70723.0000 - precision: 0.9482 - recall: 0.8212 - cohen_kappa: 0.8262 - val_loss: 0.0441 - val_accuracy: 0.8876 - val_AUROC: 0.9221 - val_AUPRC: 0.8460 - val_false_positives: 359.0000 - val_true_negatives: 13946.0000 - val_precision: 0.9241 - val_recall: 0.6904 - val_cohen_kappa: 0.7158\n",
      "Epoch 75/200\n",
      "213/213 [==============================] - 23s 107ms/step - loss: 0.0250 - accuracy: 0.9253 - AUROC: 0.9672 - AUPRC: 0.9552 - false_positives: 1603.0000 - true_negatives: 70749.0000 - precision: 0.9490 - recall: 0.8206 - cohen_kappa: 0.8263 - val_loss: 0.0687 - val_accuracy: 0.8679 - val_AUROC: 0.9102 - val_AUPRC: 0.8300 - val_false_positives: 223.0000 - val_true_negatives: 14082.0000 - val_precision: 0.9450 - val_recall: 0.6047 - val_cohen_kappa: 0.6548\n",
      "Epoch 76/200\n",
      "213/213 [==============================] - 23s 107ms/step - loss: 0.0246 - accuracy: 0.9259 - AUROC: 0.9685 - AUPRC: 0.9568 - false_positives: 1645.0000 - true_negatives: 70707.0000 - precision: 0.9479 - recall: 0.8237 - cohen_kappa: 0.8280 - val_loss: 0.0634 - val_accuracy: 0.8712 - val_AUROC: 0.8955 - val_AUPRC: 0.8180 - val_false_positives: 256.0000 - val_true_negatives: 14049.0000 - val_precision: 0.9389 - val_recall: 0.6208 - val_cohen_kappa: 0.6658\n",
      "Epoch 77/200\n",
      "213/213 [==============================] - 23s 107ms/step - loss: 0.0247 - accuracy: 0.9260 - AUROC: 0.9678 - AUPRC: 0.9561 - false_positives: 1607.0000 - true_negatives: 70745.0000 - precision: 0.9490 - recall: 0.8228 - cohen_kappa: 0.8280 - val_loss: 0.0571 - val_accuracy: 0.8697 - val_AUROC: 0.8970 - val_AUPRC: 0.8162 - val_false_positives: 232.0000 - val_true_negatives: 14073.0000 - val_precision: 0.9436 - val_recall: 0.6122 - val_cohen_kappa: 0.6606\n",
      "Epoch 78/200\n",
      "213/213 [==============================] - 23s 109ms/step - loss: 0.0244 - accuracy: 0.9265 - AUROC: 0.9684 - AUPRC: 0.9569 - false_positives: 1513.0000 - true_negatives: 70839.0000 - precision: 0.9517 - recall: 0.8217 - cohen_kappa: 0.8290 - val_loss: 0.0480 - val_accuracy: 0.8873 - val_AUROC: 0.9291 - val_AUPRC: 0.8550 - val_false_positives: 342.0000 - val_true_negatives: 13963.0000 - val_precision: 0.9271 - val_recall: 0.6868 - val_cohen_kappa: 0.7145\n",
      "Epoch 79/200\n",
      "213/213 [==============================] - 23s 107ms/step - loss: 0.0246 - accuracy: 0.9257 - AUROC: 0.9685 - AUPRC: 0.9567 - false_positives: 1605.0000 - true_negatives: 70747.0000 - precision: 0.9490 - recall: 0.8220 - cohen_kappa: 0.8274 - val_loss: 0.0489 - val_accuracy: 0.8880 - val_AUROC: 0.9077 - val_AUPRC: 0.8298 - val_false_positives: 335.0000 - val_true_negatives: 13970.0000 - val_precision: 0.9286 - val_recall: 0.6881 - val_cohen_kappa: 0.7164\n",
      "Epoch 80/200\n",
      "213/213 [==============================] - 23s 107ms/step - loss: 0.0245 - accuracy: 0.9258 - AUROC: 0.9686 - AUPRC: 0.9569 - false_positives: 1528.0000 - true_negatives: 70824.0000 - precision: 0.9512 - recall: 0.8200 - cohen_kappa: 0.8273 - val_loss: 0.0465 - val_accuracy: 0.8950 - val_AUROC: 0.9308 - val_AUPRC: 0.8602 - val_false_positives: 457.0000 - val_true_negatives: 13848.0000 - val_precision: 0.9101 - val_recall: 0.7301 - val_cohen_kappa: 0.7388\n",
      "Epoch 81/200\n",
      "213/213 [==============================] - 23s 107ms/step - loss: 0.0246 - accuracy: 0.9266 - AUROC: 0.9682 - AUPRC: 0.9564 - false_positives: 1573.0000 - true_negatives: 70779.0000 - precision: 0.9500 - recall: 0.8236 - cohen_kappa: 0.8293 - val_loss: 0.0567 - val_accuracy: 0.8766 - val_AUROC: 0.9066 - val_AUPRC: 0.8456 - val_false_positives: 264.0000 - val_true_negatives: 14041.0000 - val_precision: 0.9388 - val_recall: 0.6395 - val_cohen_kappa: 0.6815\n",
      "Epoch 82/200\n",
      "213/213 [==============================] - 23s 108ms/step - loss: 0.0243 - accuracy: 0.9264 - AUROC: 0.9697 - AUPRC: 0.9579 - false_positives: 1649.0000 - true_negatives: 70703.0000 - precision: 0.9478 - recall: 0.8251 - cohen_kappa: 0.8291 - val_loss: 0.0460 - val_accuracy: 0.8922 - val_AUROC: 0.9231 - val_AUPRC: 0.8417 - val_false_positives: 412.0000 - val_true_negatives: 13893.0000 - val_precision: 0.9165 - val_recall: 0.7138 - val_cohen_kappa: 0.7300\n",
      "Epoch 83/200\n",
      "213/213 [==============================] - 23s 106ms/step - loss: 0.0241 - accuracy: 0.9274 - AUROC: 0.9692 - AUPRC: 0.9580 - false_positives: 1520.0000 - true_negatives: 70832.0000 - precision: 0.9517 - recall: 0.8247 - cohen_kappa: 0.8313 - val_loss: 0.0600 - val_accuracy: 0.8739 - val_AUROC: 0.9087 - val_AUPRC: 0.8187 - val_false_positives: 332.0000 - val_true_negatives: 13973.0000 - val_precision: 0.9245 - val_recall: 0.6417 - val_cohen_kappa: 0.6761\n",
      "Epoch 84/200\n",
      "213/213 [==============================] - 23s 107ms/step - loss: 0.0243 - accuracy: 0.9272 - AUROC: 0.9692 - AUPRC: 0.9577 - false_positives: 1611.0000 - true_negatives: 70741.0000 - precision: 0.9490 - recall: 0.8264 - cohen_kappa: 0.8308 - val_loss: 0.0466 - val_accuracy: 0.8881 - val_AUROC: 0.9227 - val_AUPRC: 0.8469 - val_false_positives: 316.0000 - val_true_negatives: 13989.0000 - val_precision: 0.9322 - val_recall: 0.6854 - val_cohen_kappa: 0.7161\n",
      "Epoch 85/200\n",
      "213/213 [==============================] - 23s 107ms/step - loss: 0.0245 - accuracy: 0.9258 - AUROC: 0.9686 - AUPRC: 0.9569 - false_positives: 1565.0000 - true_negatives: 70787.0000 - precision: 0.9501 - recall: 0.8212 - cohen_kappa: 0.8275 - val_loss: 0.0575 - val_accuracy: 0.8735 - val_AUROC: 0.9076 - val_AUPRC: 0.8164 - val_false_positives: 270.0000 - val_true_negatives: 14035.0000 - val_precision: 0.9367 - val_recall: 0.6306 - val_cohen_kappa: 0.6730\n",
      "Epoch 86/200\n",
      "213/213 [==============================] - 23s 109ms/step - loss: 0.0243 - accuracy: 0.9266 - AUROC: 0.9693 - AUPRC: 0.9575 - false_positives: 1564.0000 - true_negatives: 70788.0000 - precision: 0.9503 - recall: 0.8234 - cohen_kappa: 0.8294 - val_loss: 0.0489 - val_accuracy: 0.8852 - val_AUROC: 0.9157 - val_AUPRC: 0.8378 - val_false_positives: 325.0000 - val_true_negatives: 13980.0000 - val_precision: 0.9296 - val_recall: 0.6772 - val_cohen_kappa: 0.7080\n",
      "Epoch 87/200\n",
      "213/213 [==============================] - 23s 106ms/step - loss: 0.0240 - accuracy: 0.9269 - AUROC: 0.9698 - AUPRC: 0.9584 - false_positives: 1614.0000 - true_negatives: 70738.0000 - precision: 0.9489 - recall: 0.8257 - cohen_kappa: 0.8302 - val_loss: 0.0494 - val_accuracy: 0.8890 - val_AUROC: 0.9218 - val_AUPRC: 0.8495 - val_false_positives: 364.0000 - val_true_negatives: 13941.0000 - val_precision: 0.9237 - val_recall: 0.6958 - val_cohen_kappa: 0.7198\n",
      "Epoch 88/200\n",
      "213/213 [==============================] - 23s 107ms/step - loss: 0.0239 - accuracy: 0.9275 - AUROC: 0.9702 - AUPRC: 0.9588 - false_positives: 1562.0000 - true_negatives: 70790.0000 - precision: 0.9505 - recall: 0.8260 - cohen_kappa: 0.8316 - val_loss: 0.0495 - val_accuracy: 0.8797 - val_AUROC: 0.9253 - val_AUPRC: 0.8429 - val_false_positives: 318.0000 - val_true_negatives: 13987.0000 - val_precision: 0.9291 - val_recall: 0.6581 - val_cohen_kappa: 0.6921\n",
      "Epoch 89/200\n",
      "213/213 [==============================] - 23s 107ms/step - loss: 0.0239 - accuracy: 0.9281 - AUROC: 0.9702 - AUPRC: 0.9588 - false_positives: 1603.0000 - true_negatives: 70749.0000 - precision: 0.9494 - recall: 0.8291 - cohen_kappa: 0.8333 - val_loss: 0.0572 - val_accuracy: 0.8708 - val_AUROC: 0.8972 - val_AUPRC: 0.8329 - val_false_positives: 270.0000 - val_true_negatives: 14035.0000 - val_precision: 0.9359 - val_recall: 0.6218 - val_cohen_kappa: 0.6651\n",
      "Epoch 90/200\n",
      "213/213 [==============================] - 23s 108ms/step - loss: 0.0239 - accuracy: 0.9276 - AUROC: 0.9702 - AUPRC: 0.9589 - false_positives: 1594.0000 - true_negatives: 70758.0000 - precision: 0.9496 - recall: 0.8273 - cohen_kappa: 0.8320 - val_loss: 0.0501 - val_accuracy: 0.8860 - val_AUROC: 0.9156 - val_AUPRC: 0.8500 - val_false_positives: 328.0000 - val_true_negatives: 13977.0000 - val_precision: 0.9293 - val_recall: 0.6805 - val_cohen_kappa: 0.7106\n",
      "Epoch 91/200\n",
      "213/213 [==============================] - 23s 107ms/step - loss: 0.0237 - accuracy: 0.9281 - AUROC: 0.9712 - AUPRC: 0.9597 - false_positives: 1549.0000 - true_negatives: 70803.0000 - precision: 0.9510 - recall: 0.8274 - cohen_kappa: 0.8329 - val_loss: 0.0510 - val_accuracy: 0.8830 - val_AUROC: 0.9193 - val_AUPRC: 0.8417 - val_false_positives: 369.0000 - val_true_negatives: 13936.0000 - val_precision: 0.9208 - val_recall: 0.6770 - val_cohen_kappa: 0.7031\n",
      "Epoch 92/200\n",
      "213/213 [==============================] - 23s 107ms/step - loss: 0.0235 - accuracy: 0.9292 - AUROC: 0.9716 - AUPRC: 0.9603 - false_positives: 1578.0000 - true_negatives: 70774.0000 - precision: 0.9503 - recall: 0.8316 - cohen_kappa: 0.8358 - val_loss: 0.0568 - val_accuracy: 0.8685 - val_AUROC: 0.9097 - val_AUPRC: 0.8367 - val_false_positives: 241.0000 - val_true_negatives: 14064.0000 - val_precision: 0.9413 - val_recall: 0.6096 - val_cohen_kappa: 0.6573\n",
      "Epoch 93/200\n",
      "213/213 [==============================] - 23s 107ms/step - loss: 0.0237 - accuracy: 0.9282 - AUROC: 0.9710 - AUPRC: 0.9597 - false_positives: 1534.0000 - true_negatives: 70818.0000 - precision: 0.9514 - recall: 0.8275 - cohen_kappa: 0.8333 - val_loss: 0.0461 - val_accuracy: 0.8895 - val_AUROC: 0.9165 - val_AUPRC: 0.8442 - val_false_positives: 647.0000 - val_true_negatives: 13658.0000 - val_precision: 0.8790 - val_recall: 0.7421 - val_cohen_kappa: 0.7285\n",
      "Epoch 94/200\n",
      "213/213 [==============================] - 23s 107ms/step - loss: 0.0237 - accuracy: 0.9283 - AUROC: 0.9710 - AUPRC: 0.9595 - false_positives: 1583.0000 - true_negatives: 70769.0000 - precision: 0.9500 - recall: 0.8291 - cohen_kappa: 0.8336 - val_loss: 0.0590 - val_accuracy: 0.8715 - val_AUROC: 0.9169 - val_AUPRC: 0.8469 - val_false_positives: 255.0000 - val_true_negatives: 14050.0000 - val_precision: 0.9392 - val_recall: 0.6215 - val_cohen_kappa: 0.6664\n",
      "Epoch 95/200\n",
      "213/213 [==============================] - 23s 107ms/step - loss: 0.0234 - accuracy: 0.9295 - AUROC: 0.9716 - AUPRC: 0.9606 - false_positives: 1527.0000 - true_negatives: 70825.0000 - precision: 0.9518 - recall: 0.8309 - cohen_kappa: 0.8363 - val_loss: 0.0523 - val_accuracy: 0.8817 - val_AUROC: 0.9092 - val_AUPRC: 0.8568 - val_false_positives: 309.0000 - val_true_negatives: 13996.0000 - val_precision: 0.9315 - val_recall: 0.6633 - val_cohen_kappa: 0.6977\n",
      "Epoch 96/200\n",
      "213/213 [==============================] - 23s 107ms/step - loss: 0.0236 - accuracy: 0.9281 - AUROC: 0.9710 - AUPRC: 0.9598 - false_positives: 1582.0000 - true_negatives: 70770.0000 - precision: 0.9500 - recall: 0.8283 - cohen_kappa: 0.8330 - val_loss: 0.0505 - val_accuracy: 0.8727 - val_AUROC: 0.9026 - val_AUPRC: 0.8554 - val_false_positives: 250.0000 - val_true_negatives: 14055.0000 - val_precision: 0.9406 - val_recall: 0.6246 - val_cohen_kappa: 0.6698\n",
      "Epoch 97/200\n",
      "213/213 [==============================] - 23s 107ms/step - loss: 0.0233 - accuracy: 0.9295 - AUROC: 0.9721 - AUPRC: 0.9608 - false_positives: 1533.0000 - true_negatives: 70819.0000 - precision: 0.9517 - recall: 0.8314 - cohen_kappa: 0.8365 - val_loss: 0.0572 - val_accuracy: 0.8784 - val_AUROC: 0.9100 - val_AUPRC: 0.8534 - val_false_positives: 291.0000 - val_true_negatives: 14014.0000 - val_precision: 0.9340 - val_recall: 0.6497 - val_cohen_kappa: 0.6877\n",
      "Epoch 98/200\n",
      "213/213 [==============================] - 23s 106ms/step - loss: 0.0233 - accuracy: 0.9298 - AUROC: 0.9720 - AUPRC: 0.9608 - false_positives: 1549.0000 - true_negatives: 70803.0000 - precision: 0.9513 - recall: 0.8326 - cohen_kappa: 0.8372 - val_loss: 0.0520 - val_accuracy: 0.8794 - val_AUROC: 0.9170 - val_AUPRC: 0.8428 - val_false_positives: 320.0000 - val_true_negatives: 13985.0000 - val_precision: 0.9287 - val_recall: 0.6576 - val_cohen_kappa: 0.6915\n",
      "Epoch 99/200\n",
      "213/213 [==============================] - 23s 107ms/step - loss: 0.0235 - accuracy: 0.9293 - AUROC: 0.9715 - AUPRC: 0.9602 - false_positives: 1579.0000 - true_negatives: 70773.0000 - precision: 0.9503 - recall: 0.8319 - cohen_kappa: 0.8360 - val_loss: 0.0479 - val_accuracy: 0.8810 - val_AUROC: 0.9187 - val_AUPRC: 0.8512 - val_false_positives: 342.0000 - val_true_negatives: 13963.0000 - val_precision: 0.9250 - val_recall: 0.6663 - val_cohen_kappa: 0.6967\n",
      "Epoch 100/200\n",
      "213/213 [==============================] - 23s 107ms/step - loss: 0.0232 - accuracy: 0.9295 - AUROC: 0.9724 - AUPRC: 0.9614 - false_positives: 1540.0000 - true_negatives: 70812.0000 - precision: 0.9515 - recall: 0.8314 - cohen_kappa: 0.8364 - val_loss: 0.0576 - val_accuracy: 0.8797 - val_AUROC: 0.9034 - val_AUPRC: 0.8302 - val_false_positives: 339.0000 - val_true_negatives: 13966.0000 - val_precision: 0.9251 - val_recall: 0.6614 - val_cohen_kappa: 0.6927\n",
      "Epoch 101/200\n",
      "213/213 [==============================] - 23s 108ms/step - loss: 0.0230 - accuracy: 0.9308 - AUROC: 0.9725 - AUPRC: 0.9617 - false_positives: 1554.0000 - true_negatives: 70798.0000 - precision: 0.9513 - recall: 0.8358 - cohen_kappa: 0.8397 - val_loss: 0.0514 - val_accuracy: 0.8817 - val_AUROC: 0.9139 - val_AUPRC: 0.8569 - val_false_positives: 285.0000 - val_true_negatives: 14020.0000 - val_precision: 0.9361 - val_recall: 0.6595 - val_cohen_kappa: 0.6970\n",
      "Epoch 102/200\n",
      "213/213 [==============================] - 23s 106ms/step - loss: 0.0230 - accuracy: 0.9300 - AUROC: 0.9728 - AUPRC: 0.9619 - false_positives: 1608.0000 - true_negatives: 70744.0000 - precision: 0.9496 - recall: 0.8348 - cohen_kappa: 0.8378 - val_loss: 0.0486 - val_accuracy: 0.8840 - val_AUROC: 0.9204 - val_AUPRC: 0.8512 - val_false_positives: 303.0000 - val_true_negatives: 14002.0000 - val_precision: 0.9334 - val_recall: 0.6699 - val_cohen_kappa: 0.7041\n",
      "Epoch 103/200\n",
      "213/213 [==============================] - 23s 107ms/step - loss: 0.0232 - accuracy: 0.9309 - AUROC: 0.9724 - AUPRC: 0.9613 - false_positives: 1561.0000 - true_negatives: 70791.0000 - precision: 0.9511 - recall: 0.8361 - cohen_kappa: 0.8398 - val_loss: 0.0502 - val_accuracy: 0.8828 - val_AUROC: 0.9114 - val_AUPRC: 0.8605 - val_false_positives: 421.0000 - val_true_negatives: 13884.0000 - val_precision: 0.9115 - val_recall: 0.6845 - val_cohen_kappa: 0.7039\n",
      "Epoch 104/200\n",
      "213/213 [==============================] - 23s 107ms/step - loss: 0.0232 - accuracy: 0.9301 - AUROC: 0.9724 - AUPRC: 0.9612 - false_positives: 1609.0000 - true_negatives: 70743.0000 - precision: 0.9496 - recall: 0.8352 - cohen_kappa: 0.8381 - val_loss: 0.0610 - val_accuracy: 0.8635 - val_AUROC: 0.8889 - val_AUPRC: 0.8100 - val_false_positives: 284.0000 - val_true_negatives: 14021.0000 - val_precision: 0.9305 - val_recall: 0.6000 - val_cohen_kappa: 0.6438\n",
      "Epoch 105/200\n",
      "213/213 [==============================] - 23s 109ms/step - loss: 0.0231 - accuracy: 0.9298 - AUROC: 0.9727 - AUPRC: 0.9615 - false_positives: 1552.0000 - true_negatives: 70800.0000 - precision: 0.9512 - recall: 0.8328 - cohen_kappa: 0.8373 - val_loss: 0.0519 - val_accuracy: 0.8865 - val_AUROC: 0.9144 - val_AUPRC: 0.8512 - val_false_positives: 329.0000 - val_true_negatives: 13976.0000 - val_precision: 0.9292 - val_recall: 0.6821 - val_cohen_kappa: 0.7118\n",
      "Epoch 106/200\n",
      "213/213 [==============================] - 23s 106ms/step - loss: 0.0231 - accuracy: 0.9302 - AUROC: 0.9726 - AUPRC: 0.9614 - false_positives: 1593.0000 - true_negatives: 70759.0000 - precision: 0.9501 - recall: 0.8349 - cohen_kappa: 0.8382 - val_loss: 0.0500 - val_accuracy: 0.8784 - val_AUROC: 0.9076 - val_AUPRC: 0.8249 - val_false_positives: 433.0000 - val_true_negatives: 13872.0000 - val_precision: 0.9077 - val_recall: 0.6723 - val_cohen_kappa: 0.6920\n",
      "Epoch 107/200\n",
      "213/213 [==============================] - 23s 106ms/step - loss: 0.0229 - accuracy: 0.9306 - AUROC: 0.9729 - AUPRC: 0.9620 - false_positives: 1527.0000 - true_negatives: 70825.0000 - precision: 0.9520 - recall: 0.8344 - cohen_kappa: 0.8391 - val_loss: 0.0551 - val_accuracy: 0.8870 - val_AUROC: 0.9078 - val_AUPRC: 0.8299 - val_false_positives: 366.0000 - val_true_negatives: 13939.0000 - val_precision: 0.9227 - val_recall: 0.6895 - val_cohen_kappa: 0.7142\n",
      "Epoch 108/200\n",
      "213/213 [==============================] - 23s 106ms/step - loss: 0.0230 - accuracy: 0.9306 - AUROC: 0.9726 - AUPRC: 0.9616 - false_positives: 1528.0000 - true_negatives: 70824.0000 - precision: 0.9520 - recall: 0.8343 - cohen_kappa: 0.8390 - val_loss: 0.0642 - val_accuracy: 0.8593 - val_AUROC: 0.8718 - val_AUPRC: 0.7846 - val_false_positives: 234.0000 - val_true_negatives: 14071.0000 - val_precision: 0.9400 - val_recall: 0.5784 - val_cohen_kappa: 0.6295\n",
      "Epoch 109/200\n",
      "213/213 [==============================] - 23s 108ms/step - loss: 0.0228 - accuracy: 0.9308 - AUROC: 0.9733 - AUPRC: 0.9624 - false_positives: 1524.0000 - true_negatives: 70828.0000 - precision: 0.9521 - recall: 0.8348 - cohen_kappa: 0.8395 - val_loss: 0.0540 - val_accuracy: 0.8813 - val_AUROC: 0.9072 - val_AUPRC: 0.8370 - val_false_positives: 301.0000 - val_true_negatives: 14004.0000 - val_precision: 0.9329 - val_recall: 0.6606 - val_cohen_kappa: 0.6962\n",
      "Epoch 110/200\n",
      "213/213 [==============================] - 23s 106ms/step - loss: 0.0226 - accuracy: 0.9322 - AUROC: 0.9738 - AUPRC: 0.9631 - false_positives: 1541.0000 - true_negatives: 70811.0000 - precision: 0.9519 - recall: 0.8395 - cohen_kappa: 0.8430 - val_loss: 0.0504 - val_accuracy: 0.8842 - val_AUROC: 0.9124 - val_AUPRC: 0.8401 - val_false_positives: 330.0000 - val_true_negatives: 13975.0000 - val_precision: 0.9283 - val_recall: 0.6748 - val_cohen_kappa: 0.7054\n",
      "Epoch 111/200\n",
      "213/213 [==============================] - 23s 107ms/step - loss: 0.0228 - accuracy: 0.9313 - AUROC: 0.9734 - AUPRC: 0.9625 - false_positives: 1595.0000 - true_negatives: 70757.0000 - precision: 0.9502 - recall: 0.8383 - cohen_kappa: 0.8409 - val_loss: 0.0621 - val_accuracy: 0.8742 - val_AUROC: 0.8939 - val_AUPRC: 0.8179 - val_false_positives: 295.0000 - val_true_negatives: 14010.0000 - val_precision: 0.9319 - val_recall: 0.6368 - val_cohen_kappa: 0.6758\n",
      "Epoch 112/200\n",
      "213/213 [==============================] - 23s 107ms/step - loss: 0.0230 - accuracy: 0.9303 - AUROC: 0.9729 - AUPRC: 0.9617 - false_positives: 1584.0000 - true_negatives: 70768.0000 - precision: 0.9504 - recall: 0.8350 - cohen_kappa: 0.8385 - val_loss: 0.0528 - val_accuracy: 0.8810 - val_AUROC: 0.9172 - val_AUPRC: 0.8415 - val_false_positives: 354.0000 - val_true_negatives: 13951.0000 - val_precision: 0.9228 - val_recall: 0.6682 - val_cohen_kappa: 0.6970\n",
      "Epoch 113/200\n",
      "213/213 [==============================] - 23s 107ms/step - loss: 0.0228 - accuracy: 0.9314 - AUROC: 0.9735 - AUPRC: 0.9625 - false_positives: 1576.0000 - true_negatives: 70776.0000 - precision: 0.9508 - recall: 0.8380 - cohen_kappa: 0.8411 - val_loss: 0.0623 - val_accuracy: 0.8710 - val_AUROC: 0.8865 - val_AUPRC: 0.8072 - val_false_positives: 296.0000 - val_true_negatives: 14009.0000 - val_precision: 0.9306 - val_recall: 0.6265 - val_cohen_kappa: 0.6665\n",
      "Epoch 114/200\n",
      "213/213 [==============================] - 23s 108ms/step - loss: 0.0229 - accuracy: 0.9310 - AUROC: 0.9731 - AUPRC: 0.9621 - false_positives: 1551.0000 - true_negatives: 70801.0000 - precision: 0.9514 - recall: 0.8363 - cohen_kappa: 0.8402 - val_loss: 0.0571 - val_accuracy: 0.8719 - val_AUROC: 0.9105 - val_AUPRC: 0.8509 - val_false_positives: 243.0000 - val_true_negatives: 14062.0000 - val_precision: 0.9418 - val_recall: 0.6212 - val_cohen_kappa: 0.6675\n",
      "Epoch 115/200\n",
      "213/213 [==============================] - 23s 107ms/step - loss: 0.0225 - accuracy: 0.9312 - AUROC: 0.9745 - AUPRC: 0.9633 - false_positives: 1584.0000 - true_negatives: 70768.0000 - precision: 0.9505 - recall: 0.8377 - cohen_kappa: 0.8407 - val_loss: 0.0513 - val_accuracy: 0.8809 - val_AUROC: 0.9113 - val_AUPRC: 0.8382 - val_false_positives: 289.0000 - val_true_negatives: 14016.0000 - val_precision: 0.9351 - val_recall: 0.6575 - val_cohen_kappa: 0.6947\n",
      "Epoch 116/200\n",
      "213/213 [==============================] - 23s 107ms/step - loss: 0.0225 - accuracy: 0.9312 - AUROC: 0.9742 - AUPRC: 0.9632 - false_positives: 1571.0000 - true_negatives: 70781.0000 - precision: 0.9509 - recall: 0.8375 - cohen_kappa: 0.8407 - val_loss: 0.0527 - val_accuracy: 0.8814 - val_AUROC: 0.9039 - val_AUPRC: 0.8440 - val_false_positives: 316.0000 - val_true_negatives: 13989.0000 - val_precision: 0.9301 - val_recall: 0.6636 - val_cohen_kappa: 0.6972\n",
      "Epoch 117/200\n",
      "213/213 [==============================] - 23s 107ms/step - loss: 0.0226 - accuracy: 0.9320 - AUROC: 0.9739 - AUPRC: 0.9632 - false_positives: 1575.0000 - true_negatives: 70777.0000 - precision: 0.9509 - recall: 0.8400 - cohen_kappa: 0.8427 - val_loss: 0.0668 - val_accuracy: 0.8623 - val_AUROC: 0.8928 - val_AUPRC: 0.8052 - val_false_positives: 263.0000 - val_true_negatives: 14042.0000 - val_precision: 0.9345 - val_recall: 0.5927 - val_cohen_kappa: 0.6395\n",
      "Epoch 118/200\n",
      "213/213 [==============================] - 23s 106ms/step - loss: 0.0228 - accuracy: 0.9315 - AUROC: 0.9734 - AUPRC: 0.9626 - false_positives: 1583.0000 - true_negatives: 70769.0000 - precision: 0.9506 - recall: 0.8387 - cohen_kappa: 0.8415 - val_loss: 0.0481 - val_accuracy: 0.8829 - val_AUROC: 0.9274 - val_AUPRC: 0.8681 - val_false_positives: 266.0000 - val_true_negatives: 14039.0000 - val_precision: 0.9402 - val_recall: 0.6605 - val_cohen_kappa: 0.6999\n",
      "Epoch 119/200\n",
      "213/213 [==============================] - 23s 108ms/step - loss: 0.0226 - accuracy: 0.9314 - AUROC: 0.9743 - AUPRC: 0.9632 - false_positives: 1615.0000 - true_negatives: 70737.0000 - precision: 0.9497 - recall: 0.8392 - cohen_kappa: 0.8413 - val_loss: 0.0499 - val_accuracy: 0.8833 - val_AUROC: 0.9122 - val_AUPRC: 0.8441 - val_false_positives: 349.0000 - val_true_negatives: 13956.0000 - val_precision: 0.9245 - val_recall: 0.6748 - val_cohen_kappa: 0.7033\n",
      "Epoch 120/200\n",
      "213/213 [==============================] - 23s 107ms/step - loss: 0.0223 - accuracy: 0.9324 - AUROC: 0.9747 - AUPRC: 0.9640 - false_positives: 1549.0000 - true_negatives: 70803.0000 - precision: 0.9517 - recall: 0.8404 - cohen_kappa: 0.8435 - val_loss: 0.0642 - val_accuracy: 0.8651 - val_AUROC: 0.8925 - val_AUPRC: 0.8243 - val_false_positives: 242.0000 - val_true_negatives: 14063.0000 - val_precision: 0.9400 - val_recall: 0.5986 - val_cohen_kappa: 0.6471\n",
      "Epoch 121/200\n",
      "213/213 [==============================] - 23s 106ms/step - loss: 0.0226 - accuracy: 0.9315 - AUROC: 0.9739 - AUPRC: 0.9630 - false_positives: 1529.0000 - true_negatives: 70823.0000 - precision: 0.9521 - recall: 0.8371 - cohen_kappa: 0.8412 - val_loss: 0.0602 - val_accuracy: 0.8700 - val_AUROC: 0.8965 - val_AUPRC: 0.8235 - val_false_positives: 292.0000 - val_true_negatives: 14013.0000 - val_precision: 0.9311 - val_recall: 0.6226 - val_cohen_kappa: 0.6634\n",
      "Epoch 122/200\n",
      "213/213 [==============================] - 23s 107ms/step - loss: 0.0224 - accuracy: 0.9331 - AUROC: 0.9743 - AUPRC: 0.9635 - false_positives: 1570.0000 - true_negatives: 70782.0000 - precision: 0.9512 - recall: 0.8429 - cohen_kappa: 0.8452 - val_loss: 0.0499 - val_accuracy: 0.8834 - val_AUROC: 0.9225 - val_AUPRC: 0.8608 - val_false_positives: 278.0000 - val_true_negatives: 14027.0000 - val_precision: 0.9380 - val_recall: 0.6641 - val_cohen_kappa: 0.7017\n",
      "Epoch 123/200\n",
      "213/213 [==============================] - 23s 108ms/step - loss: 0.0224 - accuracy: 0.9325 - AUROC: 0.9744 - AUPRC: 0.9636 - false_positives: 1535.0000 - true_negatives: 70817.0000 - precision: 0.9521 - recall: 0.8403 - cohen_kappa: 0.8438 - val_loss: 0.0556 - val_accuracy: 0.8849 - val_AUROC: 0.9123 - val_AUPRC: 0.8353 - val_false_positives: 353.0000 - val_true_negatives: 13952.0000 - val_precision: 0.9243 - val_recall: 0.6808 - val_cohen_kappa: 0.7081\n",
      "Epoch 124/200\n",
      "213/213 [==============================] - 23s 106ms/step - loss: 0.0223 - accuracy: 0.9323 - AUROC: 0.9749 - AUPRC: 0.9641 - false_positives: 1589.0000 - true_negatives: 70763.0000 - precision: 0.9505 - recall: 0.8411 - cohen_kappa: 0.8433 - val_loss: 0.0650 - val_accuracy: 0.8647 - val_AUROC: 0.9052 - val_AUPRC: 0.8190 - val_false_positives: 258.0000 - val_true_negatives: 14047.0000 - val_precision: 0.9364 - val_recall: 0.6000 - val_cohen_kappa: 0.6467\n",
      "Epoch 125/200\n",
      "213/213 [==============================] - 23s 106ms/step - loss: 0.0221 - accuracy: 0.9331 - AUROC: 0.9752 - AUPRC: 0.9647 - false_positives: 1509.0000 - true_negatives: 70843.0000 - precision: 0.9529 - recall: 0.8413 - cohen_kappa: 0.8451 - val_loss: 0.0605 - val_accuracy: 0.8825 - val_AUROC: 0.9092 - val_AUPRC: 0.8297 - val_false_positives: 307.0000 - val_true_negatives: 13998.0000 - val_precision: 0.9321 - val_recall: 0.6657 - val_cohen_kappa: 0.6999\n",
      "Epoch 126/200\n",
      "213/213 [==============================] - 23s 106ms/step - loss: 0.0224 - accuracy: 0.9319 - AUROC: 0.9746 - AUPRC: 0.9637 - false_positives: 1590.0000 - true_negatives: 70762.0000 - precision: 0.9505 - recall: 0.8401 - cohen_kappa: 0.8425 - val_loss: 0.0536 - val_accuracy: 0.8828 - val_AUROC: 0.9182 - val_AUPRC: 0.8513 - val_false_positives: 292.0000 - val_true_negatives: 14013.0000 - val_precision: 0.9351 - val_recall: 0.6644 - val_cohen_kappa: 0.7005\n",
      "Epoch 127/200\n",
      "213/213 [==============================] - 23s 108ms/step - loss: 0.0221 - accuracy: 0.9341 - AUROC: 0.9753 - AUPRC: 0.9647 - false_positives: 1567.0000 - true_negatives: 70785.0000 - precision: 0.9515 - recall: 0.8460 - cohen_kappa: 0.8477 - val_loss: 0.0524 - val_accuracy: 0.8825 - val_AUROC: 0.9176 - val_AUPRC: 0.8346 - val_false_positives: 324.0000 - val_true_negatives: 13981.0000 - val_precision: 0.9289 - val_recall: 0.6682 - val_cohen_kappa: 0.7003\n",
      "Epoch 128/200\n",
      "213/213 [==============================] - 23s 107ms/step - loss: 0.0222 - accuracy: 0.9334 - AUROC: 0.9751 - AUPRC: 0.9644 - false_positives: 1554.0000 - true_negatives: 70798.0000 - precision: 0.9517 - recall: 0.8435 - cohen_kappa: 0.8460 - val_loss: 0.0471 - val_accuracy: 0.8875 - val_AUROC: 0.9173 - val_AUPRC: 0.8434 - val_false_positives: 376.0000 - val_true_negatives: 13929.0000 - val_precision: 0.9211 - val_recall: 0.6928 - val_cohen_kappa: 0.7160\n",
      "Epoch 129/200\n",
      "213/213 [==============================] - 23s 107ms/step - loss: 0.0221 - accuracy: 0.9329 - AUROC: 0.9751 - AUPRC: 0.9646 - false_positives: 1551.0000 - true_negatives: 70801.0000 - precision: 0.9517 - recall: 0.8418 - cohen_kappa: 0.8447 - val_loss: 0.0657 - val_accuracy: 0.8690 - val_AUROC: 0.9013 - val_AUPRC: 0.8165 - val_false_positives: 237.0000 - val_true_negatives: 14068.0000 - val_precision: 0.9423 - val_recall: 0.6107 - val_cohen_kappa: 0.6587\n",
      "Epoch 130/200\n",
      "213/213 [==============================] - 23s 107ms/step - loss: 0.0224 - accuracy: 0.9319 - AUROC: 0.9746 - AUPRC: 0.9637 - false_positives: 1546.0000 - true_negatives: 70806.0000 - precision: 0.9517 - recall: 0.8387 - cohen_kappa: 0.8423 - val_loss: 0.0554 - val_accuracy: 0.8800 - val_AUROC: 0.8951 - val_AUPRC: 0.8057 - val_false_positives: 386.0000 - val_true_negatives: 13919.0000 - val_precision: 0.9166 - val_recall: 0.6701 - val_cohen_kappa: 0.6952\n",
      "Epoch 131/200\n",
      "213/213 [==============================] - 23s 107ms/step - loss: 0.0219 - accuracy: 0.9337 - AUROC: 0.9756 - AUPRC: 0.9652 - false_positives: 1548.0000 - true_negatives: 70804.0000 - precision: 0.9519 - recall: 0.8444 - cohen_kappa: 0.8468 - val_loss: 0.0563 - val_accuracy: 0.8844 - val_AUROC: 0.9188 - val_AUPRC: 0.8396 - val_false_positives: 337.0000 - val_true_negatives: 13968.0000 - val_precision: 0.9271 - val_recall: 0.6766 - val_cohen_kappa: 0.7062\n",
      "Epoch 132/200\n",
      "213/213 [==============================] - 23s 108ms/step - loss: 0.0221 - accuracy: 0.9334 - AUROC: 0.9753 - AUPRC: 0.9647 - false_positives: 1567.0000 - true_negatives: 70785.0000 - precision: 0.9513 - recall: 0.8438 - cohen_kappa: 0.8459 - val_loss: 0.0621 - val_accuracy: 0.8726 - val_AUROC: 0.8957 - val_AUPRC: 0.8259 - val_false_positives: 266.0000 - val_true_negatives: 14039.0000 - val_precision: 0.9372 - val_recall: 0.6270 - val_cohen_kappa: 0.6702\n",
      "Epoch 133/200\n",
      "213/213 [==============================] - 23s 107ms/step - loss: 0.0222 - accuracy: 0.9325 - AUROC: 0.9753 - AUPRC: 0.9645 - false_positives: 1593.0000 - true_negatives: 70759.0000 - precision: 0.9505 - recall: 0.8418 - cohen_kappa: 0.8438 - val_loss: 0.0846 - val_accuracy: 0.8414 - val_AUROC: 0.8720 - val_AUPRC: 0.7910 - val_false_positives: 205.0000 - val_true_negatives: 14100.0000 - val_precision: 0.9410 - val_recall: 0.5157 - val_cohen_kappa: 0.5736\n",
      "Epoch 134/200\n",
      "213/213 [==============================] - 23s 106ms/step - loss: 0.0221 - accuracy: 0.9337 - AUROC: 0.9753 - AUPRC: 0.9647 - false_positives: 1525.0000 - true_negatives: 70827.0000 - precision: 0.9526 - recall: 0.8436 - cohen_kappa: 0.8467 - val_loss: 0.0600 - val_accuracy: 0.8686 - val_AUROC: 0.8902 - val_AUPRC: 0.8066 - val_false_positives: 273.0000 - val_true_negatives: 14032.0000 - val_precision: 0.9345 - val_recall: 0.6148 - val_cohen_kappa: 0.6585\n",
      "Epoch 135/200\n",
      "213/213 [==============================] - 23s 106ms/step - loss: 0.0218 - accuracy: 0.9340 - AUROC: 0.9758 - AUPRC: 0.9655 - false_positives: 1569.0000 - true_negatives: 70783.0000 - precision: 0.9514 - recall: 0.8456 - cohen_kappa: 0.8474 - val_loss: 0.0478 - val_accuracy: 0.8921 - val_AUROC: 0.9169 - val_AUPRC: 0.8489 - val_false_positives: 405.0000 - val_true_negatives: 13900.0000 - val_precision: 0.9176 - val_recall: 0.7124 - val_cohen_kappa: 0.7295\n",
      "Epoch 136/200\n",
      "213/213 [==============================] - 23s 106ms/step - loss: 0.0218 - accuracy: 0.9344 - AUROC: 0.9761 - AUPRC: 0.9657 - false_positives: 1520.0000 - true_negatives: 70832.0000 - precision: 0.9528 - recall: 0.8456 - cohen_kappa: 0.8483 - val_loss: 0.0567 - val_accuracy: 0.8812 - val_AUROC: 0.8959 - val_AUPRC: 0.8110 - val_false_positives: 332.0000 - val_true_negatives: 13973.0000 - val_precision: 0.9270 - val_recall: 0.6654 - val_cohen_kappa: 0.6969\n",
      "Epoch 137/200\n",
      "213/213 [==============================] - 23s 107ms/step - loss: 0.0218 - accuracy: 0.9344 - AUROC: 0.9759 - AUPRC: 0.9654 - false_positives: 1544.0000 - true_negatives: 70808.0000 - precision: 0.9522 - recall: 0.8462 - cohen_kappa: 0.8484 - val_loss: 0.0748 - val_accuracy: 0.8588 - val_AUROC: 0.8857 - val_AUPRC: 0.8215 - val_false_positives: 223.0000 - val_true_negatives: 14082.0000 - val_precision: 0.9423 - val_recall: 0.5752 - val_cohen_kappa: 0.6278\n",
      "Epoch 138/200\n",
      "213/213 [==============================] - 23s 106ms/step - loss: 0.0218 - accuracy: 0.9337 - AUROC: 0.9761 - AUPRC: 0.9657 - false_positives: 1517.0000 - true_negatives: 70835.0000 - precision: 0.9528 - recall: 0.8434 - cohen_kappa: 0.8467 - val_loss: 0.0485 - val_accuracy: 0.8887 - val_AUROC: 0.9131 - val_AUPRC: 0.8581 - val_false_positives: 295.0000 - val_true_negatives: 14010.0000 - val_precision: 0.9362 - val_recall: 0.6838 - val_cohen_kappa: 0.7171\n",
      "Epoch 139/200\n",
      "213/213 [==============================] - 23s 106ms/step - loss: 0.0215 - accuracy: 0.9344 - AUROC: 0.9767 - AUPRC: 0.9665 - false_positives: 1533.0000 - true_negatives: 70819.0000 - precision: 0.9525 - recall: 0.8458 - cohen_kappa: 0.8483 - val_loss: 0.0498 - val_accuracy: 0.8932 - val_AUROC: 0.9234 - val_AUPRC: 0.8666 - val_false_positives: 282.0000 - val_true_negatives: 14023.0000 - val_precision: 0.9399 - val_recall: 0.6964 - val_cohen_kappa: 0.7294\n",
      "Epoch 140/200\n",
      "213/213 [==============================] - 23s 107ms/step - loss: 0.0217 - accuracy: 0.9336 - AUROC: 0.9763 - AUPRC: 0.9657 - false_positives: 1504.0000 - true_negatives: 70848.0000 - precision: 0.9531 - recall: 0.8426 - cohen_kappa: 0.8463 - val_loss: 0.0707 - val_accuracy: 0.8658 - val_AUROC: 0.8940 - val_AUPRC: 0.7982 - val_false_positives: 262.0000 - val_true_negatives: 14043.0000 - val_precision: 0.9359 - val_recall: 0.6041 - val_cohen_kappa: 0.6500\n",
      "Epoch 141/200\n",
      "213/213 [==============================] - 23s 107ms/step - loss: 0.0215 - accuracy: 0.9357 - AUROC: 0.9768 - AUPRC: 0.9666 - false_positives: 1485.0000 - true_negatives: 70867.0000 - precision: 0.9540 - recall: 0.8485 - cohen_kappa: 0.8514 - val_loss: 0.0615 - val_accuracy: 0.8753 - val_AUROC: 0.8997 - val_AUPRC: 0.8128 - val_false_positives: 318.0000 - val_true_negatives: 13987.0000 - val_precision: 0.9277 - val_recall: 0.6440 - val_cohen_kappa: 0.6797\n",
      "Epoch 142/200\n",
      "213/213 [==============================] - 23s 108ms/step - loss: 0.0217 - accuracy: 0.9349 - AUROC: 0.9764 - AUPRC: 0.9660 - false_positives: 1534.0000 - true_negatives: 70818.0000 - precision: 0.9525 - recall: 0.8474 - cohen_kappa: 0.8495 - val_loss: 0.0621 - val_accuracy: 0.8702 - val_AUROC: 0.8832 - val_AUPRC: 0.8044 - val_false_positives: 359.0000 - val_true_negatives: 13946.0000 - val_precision: 0.9179 - val_recall: 0.6336 - val_cohen_kappa: 0.6660\n",
      "Epoch 143/200\n",
      "213/213 [==============================] - 23s 106ms/step - loss: 0.0218 - accuracy: 0.9338 - AUROC: 0.9761 - AUPRC: 0.9657 - false_positives: 1531.0000 - true_negatives: 70821.0000 - precision: 0.9524 - recall: 0.8441 - cohen_kappa: 0.8469 - val_loss: 0.0557 - val_accuracy: 0.8770 - val_AUROC: 0.9039 - val_AUPRC: 0.8309 - val_false_positives: 280.0000 - val_true_negatives: 14025.0000 - val_precision: 0.9357 - val_recall: 0.6436 - val_cohen_kappa: 0.6834\n",
      "Epoch 144/200\n",
      "213/213 [==============================] - 23s 107ms/step - loss: 0.0215 - accuracy: 0.9344 - AUROC: 0.9767 - AUPRC: 0.9665 - false_positives: 1525.0000 - true_negatives: 70827.0000 - precision: 0.9527 - recall: 0.8458 - cohen_kappa: 0.8484 - val_loss: 0.0646 - val_accuracy: 0.8710 - val_AUROC: 0.8999 - val_AUPRC: 0.8204 - val_false_positives: 249.0000 - val_true_negatives: 14056.0000 - val_precision: 0.9403 - val_recall: 0.6191 - val_cohen_kappa: 0.6650\n",
      "Epoch 145/200\n",
      "213/213 [==============================] - 23s 107ms/step - loss: 0.0218 - accuracy: 0.9339 - AUROC: 0.9762 - AUPRC: 0.9657 - false_positives: 1537.0000 - true_negatives: 70815.0000 - precision: 0.9523 - recall: 0.8445 - cohen_kappa: 0.8471 - val_loss: 0.0526 - val_accuracy: 0.8896 - val_AUROC: 0.9226 - val_AUPRC: 0.8511 - val_false_positives: 345.0000 - val_true_negatives: 13960.0000 - val_precision: 0.9273 - val_recall: 0.6947 - val_cohen_kappa: 0.7210\n",
      "Epoch 146/200\n",
      "213/213 [==============================] - 23s 107ms/step - loss: 0.0213 - accuracy: 0.9353 - AUROC: 0.9772 - AUPRC: 0.9669 - false_positives: 1551.0000 - true_negatives: 70801.0000 - precision: 0.9521 - recall: 0.8491 - cohen_kappa: 0.8506 - val_loss: 0.0453 - val_accuracy: 0.8948 - val_AUROC: 0.9209 - val_AUPRC: 0.8587 - val_false_positives: 294.0000 - val_true_negatives: 14011.0000 - val_precision: 0.9381 - val_recall: 0.7036 - val_cohen_kappa: 0.7341\n",
      "Epoch 147/200\n",
      "213/213 [==============================] - 23s 106ms/step - loss: 0.0217 - accuracy: 0.9343 - AUROC: 0.9767 - AUPRC: 0.9661 - false_positives: 1599.0000 - true_negatives: 70753.0000 - precision: 0.9506 - recall: 0.8474 - cohen_kappa: 0.8482 - val_loss: 0.0656 - val_accuracy: 0.8701 - val_AUROC: 0.9071 - val_AUPRC: 0.8331 - val_false_positives: 250.0000 - val_true_negatives: 14055.0000 - val_precision: 0.9398 - val_recall: 0.6163 - val_cohen_kappa: 0.6623\n",
      "Epoch 148/200\n",
      "213/213 [==============================] - 23s 106ms/step - loss: 0.0213 - accuracy: 0.9356 - AUROC: 0.9770 - AUPRC: 0.9669 - false_positives: 1520.0000 - true_negatives: 70832.0000 - precision: 0.9530 - recall: 0.8491 - cohen_kappa: 0.8512 - val_loss: 0.0517 - val_accuracy: 0.8824 - val_AUROC: 0.9147 - val_AUPRC: 0.8461 - val_false_positives: 323.0000 - val_true_negatives: 13982.0000 - val_precision: 0.9291 - val_recall: 0.6679 - val_cohen_kappa: 0.7001\n",
      "Epoch 149/200\n",
      "213/213 [==============================] - 23s 108ms/step - loss: 0.0213 - accuracy: 0.9352 - AUROC: 0.9773 - AUPRC: 0.9671 - false_positives: 1560.0000 - true_negatives: 70792.0000 - precision: 0.9518 - recall: 0.8490 - cohen_kappa: 0.8503 - val_loss: 0.0569 - val_accuracy: 0.8795 - val_AUROC: 0.8957 - val_AUPRC: 0.8137 - val_false_positives: 332.0000 - val_true_negatives: 13973.0000 - val_precision: 0.9264 - val_recall: 0.6597 - val_cohen_kappa: 0.6920\n",
      "Epoch 150/200\n",
      "213/213 [==============================] - 23s 107ms/step - loss: 0.0215 - accuracy: 0.9350 - AUROC: 0.9768 - AUPRC: 0.9665 - false_positives: 1544.0000 - true_negatives: 70808.0000 - precision: 0.9523 - recall: 0.8481 - cohen_kappa: 0.8499 - val_loss: 0.0538 - val_accuracy: 0.8750 - val_AUROC: 0.9109 - val_AUPRC: 0.8384 - val_false_positives: 287.0000 - val_true_negatives: 14018.0000 - val_precision: 0.9337 - val_recall: 0.6379 - val_cohen_kappa: 0.6776\n",
      "Epoch 151/200\n",
      "213/213 [==============================] - 23s 107ms/step - loss: 0.0217 - accuracy: 0.9344 - AUROC: 0.9761 - AUPRC: 0.9660 - false_positives: 1554.0000 - true_negatives: 70798.0000 - precision: 0.9519 - recall: 0.8464 - cohen_kappa: 0.8483 - val_loss: 0.0476 - val_accuracy: 0.8912 - val_AUROC: 0.9271 - val_AUPRC: 0.8538 - val_false_positives: 326.0000 - val_true_negatives: 13979.0000 - val_precision: 0.9312 - val_recall: 0.6969 - val_cohen_kappa: 0.7249\n",
      "Epoch 152/200\n",
      "213/213 [==============================] - 23s 106ms/step - loss: 0.0212 - accuracy: 0.9358 - AUROC: 0.9773 - AUPRC: 0.9672 - false_positives: 1490.0000 - true_negatives: 70862.0000 - precision: 0.9539 - recall: 0.8489 - cohen_kappa: 0.8517 - val_loss: 0.0526 - val_accuracy: 0.8828 - val_AUROC: 0.9154 - val_AUPRC: 0.8300 - val_false_positives: 380.0000 - val_true_negatives: 13925.0000 - val_precision: 0.9187 - val_recall: 0.6781 - val_cohen_kappa: 0.7028\n",
      "Epoch 153/200\n",
      "213/213 [==============================] - 23s 108ms/step - loss: 0.0216 - accuracy: 0.9346 - AUROC: 0.9763 - AUPRC: 0.9661 - false_positives: 1516.0000 - true_negatives: 70836.0000 - precision: 0.9530 - recall: 0.8460 - cohen_kappa: 0.8488 - val_loss: 0.0564 - val_accuracy: 0.8736 - val_AUROC: 0.8925 - val_AUPRC: 0.8072 - val_false_positives: 386.0000 - val_true_negatives: 13919.0000 - val_precision: 0.9142 - val_recall: 0.6493 - val_cohen_kappa: 0.6769\n",
      "Epoch 154/200\n",
      "213/213 [==============================] - 23s 107ms/step - loss: 0.0214 - accuracy: 0.9345 - AUROC: 0.9771 - AUPRC: 0.9668 - false_positives: 1558.0000 - true_negatives: 70794.0000 - precision: 0.9518 - recall: 0.8468 - cohen_kappa: 0.8486 - val_loss: 0.0569 - val_accuracy: 0.8869 - val_AUROC: 0.9021 - val_AUPRC: 0.8206 - val_false_positives: 564.0000 - val_true_negatives: 13741.0000 - val_precision: 0.8900 - val_recall: 0.7206 - val_cohen_kappa: 0.7193\n",
      "Epoch 155/200\n",
      "213/213 [==============================] - 23s 107ms/step - loss: 0.0213 - accuracy: 0.9354 - AUROC: 0.9772 - AUPRC: 0.9669 - false_positives: 1497.0000 - true_negatives: 70855.0000 - precision: 0.9536 - recall: 0.8478 - cohen_kappa: 0.8506 - val_loss: 0.0705 - val_accuracy: 0.8658 - val_AUROC: 0.8879 - val_AUPRC: 0.8140 - val_false_positives: 257.0000 - val_true_negatives: 14048.0000 - val_precision: 0.9370 - val_recall: 0.6035 - val_cohen_kappa: 0.6500\n",
      "Epoch 156/200\n",
      "213/213 [==============================] - 23s 107ms/step - loss: 0.0214 - accuracy: 0.9351 - AUROC: 0.9770 - AUPRC: 0.9668 - false_positives: 1551.0000 - true_negatives: 70801.0000 - precision: 0.9521 - recall: 0.8486 - cohen_kappa: 0.8502 - val_loss: 0.0582 - val_accuracy: 0.8795 - val_AUROC: 0.8897 - val_AUPRC: 0.8153 - val_false_positives: 263.0000 - val_true_negatives: 14042.0000 - val_precision: 0.9399 - val_recall: 0.6488 - val_cohen_kappa: 0.6899\n",
      "Epoch 157/200\n",
      "213/213 [==============================] - 23s 107ms/step - loss: 0.0215 - accuracy: 0.9347 - AUROC: 0.9769 - AUPRC: 0.9665 - false_positives: 1535.0000 - true_negatives: 70817.0000 - precision: 0.9525 - recall: 0.8468 - cohen_kappa: 0.8490 - val_loss: 0.0610 - val_accuracy: 0.8717 - val_AUROC: 0.8969 - val_AUPRC: 0.8217 - val_false_positives: 248.0000 - val_true_negatives: 14057.0000 - val_precision: 0.9407 - val_recall: 0.6210 - val_cohen_kappa: 0.6668\n",
      "Epoch 158/200\n",
      "213/213 [==============================] - 23s 107ms/step - loss: 0.0214 - accuracy: 0.9351 - AUROC: 0.9772 - AUPRC: 0.9668 - false_positives: 1578.0000 - true_negatives: 70774.0000 - precision: 0.9513 - recall: 0.8494 - cohen_kappa: 0.8502 - val_loss: 0.0552 - val_accuracy: 0.8780 - val_AUROC: 0.9130 - val_AUPRC: 0.8298 - val_false_positives: 306.0000 - val_true_negatives: 13999.0000 - val_precision: 0.9309 - val_recall: 0.6507 - val_cohen_kappa: 0.6869\n",
      "Epoch 159/200\n",
      "213/213 [==============================] - 23s 107ms/step - loss: 0.0211 - accuracy: 0.9363 - AUROC: 0.9775 - AUPRC: 0.9677 - false_positives: 1530.0000 - true_negatives: 70822.0000 - precision: 0.9529 - recall: 0.8515 - cohen_kappa: 0.8530 - val_loss: 0.0576 - val_accuracy: 0.8741 - val_AUROC: 0.9008 - val_AUPRC: 0.8263 - val_false_positives: 261.0000 - val_true_negatives: 14044.0000 - val_precision: 0.9387 - val_recall: 0.6311 - val_cohen_kappa: 0.6744\n",
      "Epoch 160/200\n",
      "213/213 [==============================] - 23s 107ms/step - loss: 0.0211 - accuracy: 0.9358 - AUROC: 0.9776 - AUPRC: 0.9676 - false_positives: 1535.0000 - true_negatives: 70817.0000 - precision: 0.9526 - recall: 0.8503 - cohen_kappa: 0.8519 - val_loss: 0.0565 - val_accuracy: 0.8761 - val_AUROC: 0.9065 - val_AUPRC: 0.8252 - val_false_positives: 295.0000 - val_true_negatives: 14010.0000 - val_precision: 0.9324 - val_recall: 0.6428 - val_cohen_kappa: 0.6811\n",
      "Epoch 161/200\n",
      "213/213 [==============================] - 23s 107ms/step - loss: 0.0212 - accuracy: 0.9357 - AUROC: 0.9775 - AUPRC: 0.9674 - false_positives: 1575.0000 - true_negatives: 70777.0000 - precision: 0.9515 - recall: 0.8509 - cohen_kappa: 0.8516 - val_loss: 0.0598 - val_accuracy: 0.8611 - val_AUROC: 0.8971 - val_AUPRC: 0.8145 - val_false_positives: 226.0000 - val_true_negatives: 14079.0000 - val_precision: 0.9423 - val_recall: 0.5831 - val_cohen_kappa: 0.6347\n",
      "Epoch 162/200\n",
      "213/213 [==============================] - 23s 106ms/step - loss: 0.0212 - accuracy: 0.9356 - AUROC: 0.9777 - AUPRC: 0.9675 - false_positives: 1508.0000 - true_negatives: 70844.0000 - precision: 0.9534 - recall: 0.8488 - cohen_kappa: 0.8512 - val_loss: 0.0550 - val_accuracy: 0.8883 - val_AUROC: 0.9078 - val_AUPRC: 0.8393 - val_false_positives: 355.0000 - val_true_negatives: 13950.0000 - val_precision: 0.9251 - val_recall: 0.6920 - val_cohen_kappa: 0.7176\n",
      "Epoch 163/200\n",
      "213/213 [==============================] - 23s 107ms/step - loss: 0.0212 - accuracy: 0.9364 - AUROC: 0.9773 - AUPRC: 0.9671 - false_positives: 1509.0000 - true_negatives: 70843.0000 - precision: 0.9535 - recall: 0.8513 - cohen_kappa: 0.8532 - val_loss: 0.0618 - val_accuracy: 0.8744 - val_AUROC: 0.8942 - val_AUPRC: 0.8091 - val_false_positives: 283.0000 - val_true_negatives: 14022.0000 - val_precision: 0.9343 - val_recall: 0.6354 - val_cohen_kappa: 0.6758\n",
      "Epoch 164/200\n",
      "213/213 [==============================] - 23s 106ms/step - loss: 0.0211 - accuracy: 0.9365 - AUROC: 0.9775 - AUPRC: 0.9675 - false_positives: 1501.0000 - true_negatives: 70851.0000 - precision: 0.9537 - recall: 0.8513 - cohen_kappa: 0.8533 - val_loss: 0.0641 - val_accuracy: 0.8762 - val_AUROC: 0.9125 - val_AUPRC: 0.8301 - val_false_positives: 283.0000 - val_true_negatives: 14022.0000 - val_precision: 0.9349 - val_recall: 0.6414 - val_cohen_kappa: 0.6812\n",
      "Epoch 165/200\n",
      "213/213 [==============================] - 23s 108ms/step - loss: 0.0208 - accuracy: 0.9373 - AUROC: 0.9784 - AUPRC: 0.9686 - false_positives: 1496.0000 - true_negatives: 70856.0000 - precision: 0.9540 - recall: 0.8535 - cohen_kappa: 0.8552 - val_loss: 0.0765 - val_accuracy: 0.8577 - val_AUROC: 0.8856 - val_AUPRC: 0.7978 - val_false_positives: 248.0000 - val_true_negatives: 14057.0000 - val_precision: 0.9363 - val_recall: 0.5754 - val_cohen_kappa: 0.6252\n",
      "Epoch 166/200\n",
      "213/213 [==============================] - 23s 106ms/step - loss: 0.0210 - accuracy: 0.9367 - AUROC: 0.9777 - AUPRC: 0.9681 - false_positives: 1512.0000 - true_negatives: 70840.0000 - precision: 0.9534 - recall: 0.8522 - cohen_kappa: 0.8539 - val_loss: 0.0614 - val_accuracy: 0.8847 - val_AUROC: 0.9068 - val_AUPRC: 0.8192 - val_false_positives: 317.0000 - val_true_negatives: 13988.0000 - val_precision: 0.9309 - val_recall: 0.6743 - val_cohen_kappa: 0.7064\n",
      "Epoch 167/200\n",
      "213/213 [==============================] - 23s 107ms/step - loss: 0.0209 - accuracy: 0.9366 - AUROC: 0.9776 - AUPRC: 0.9681 - false_positives: 1455.0000 - true_negatives: 70897.0000 - precision: 0.9550 - recall: 0.8504 - cohen_kappa: 0.8535 - val_loss: 0.0548 - val_accuracy: 0.8828 - val_AUROC: 0.9131 - val_AUPRC: 0.8269 - val_false_positives: 371.0000 - val_true_negatives: 13934.0000 - val_precision: 0.9203 - val_recall: 0.6766 - val_cohen_kappa: 0.7025\n",
      "Epoch 168/200\n",
      "213/213 [==============================] - 23s 106ms/step - loss: 0.0210 - accuracy: 0.9367 - AUROC: 0.9778 - AUPRC: 0.9679 - false_positives: 1569.0000 - true_negatives: 70783.0000 - precision: 0.9518 - recall: 0.8538 - cohen_kappa: 0.8541 - val_loss: 0.0599 - val_accuracy: 0.8788 - val_AUROC: 0.9119 - val_AUPRC: 0.8265 - val_false_positives: 267.0000 - val_true_negatives: 14038.0000 - val_precision: 0.9389 - val_recall: 0.6474 - val_cohen_kappa: 0.6882\n",
      "Epoch 169/200\n",
      "213/213 [==============================] - 23s 106ms/step - loss: 0.0211 - accuracy: 0.9369 - AUROC: 0.9776 - AUPRC: 0.9676 - false_positives: 1516.0000 - true_negatives: 70836.0000 - precision: 0.9533 - recall: 0.8528 - cohen_kappa: 0.8543 - val_loss: 0.0554 - val_accuracy: 0.8852 - val_AUROC: 0.9186 - val_AUPRC: 0.8439 - val_false_positives: 345.0000 - val_true_negatives: 13960.0000 - val_precision: 0.9259 - val_recall: 0.6803 - val_cohen_kappa: 0.7086\n",
      "Epoch 170/200\n",
      "213/213 [==============================] - 23s 106ms/step - loss: 0.0209 - accuracy: 0.9369 - AUROC: 0.9781 - AUPRC: 0.9682 - false_positives: 1494.0000 - true_negatives: 70858.0000 - precision: 0.9540 - recall: 0.8524 - cohen_kappa: 0.8544 - val_loss: 0.0679 - val_accuracy: 0.8684 - val_AUROC: 0.8964 - val_AUPRC: 0.8228 - val_false_positives: 254.0000 - val_true_negatives: 14051.0000 - val_precision: 0.9384 - val_recall: 0.6112 - val_cohen_kappa: 0.6573\n",
      "Epoch 171/200\n",
      "213/213 [==============================] - 23s 108ms/step - loss: 0.0209 - accuracy: 0.9375 - AUROC: 0.9780 - AUPRC: 0.9682 - false_positives: 1464.0000 - true_negatives: 70888.0000 - precision: 0.9549 - recall: 0.8532 - cohen_kappa: 0.8557 - val_loss: 0.0621 - val_accuracy: 0.8752 - val_AUROC: 0.8939 - val_AUPRC: 0.8118 - val_false_positives: 316.0000 - val_true_negatives: 13989.0000 - val_precision: 0.9280 - val_recall: 0.6433 - val_cohen_kappa: 0.6792\n",
      "Epoch 172/200\n",
      "213/213 [==============================] - 23s 106ms/step - loss: 0.0209 - accuracy: 0.9359 - AUROC: 0.9782 - AUPRC: 0.9682 - false_positives: 1572.0000 - true_negatives: 70780.0000 - precision: 0.9516 - recall: 0.8514 - cohen_kappa: 0.8520 - val_loss: 0.0613 - val_accuracy: 0.8764 - val_AUROC: 0.8988 - val_AUPRC: 0.8181 - val_false_positives: 259.0000 - val_true_negatives: 14046.0000 - val_precision: 0.9398 - val_recall: 0.6382 - val_cohen_kappa: 0.6810\n",
      "Epoch 173/200\n",
      "213/213 [==============================] - 23s 107ms/step - loss: 0.0208 - accuracy: 0.9370 - AUROC: 0.9781 - AUPRC: 0.9683 - false_positives: 1478.0000 - true_negatives: 70874.0000 - precision: 0.9544 - recall: 0.8522 - cohen_kappa: 0.8545 - val_loss: 0.0646 - val_accuracy: 0.8673 - val_AUROC: 0.8877 - val_AUPRC: 0.8064 - val_false_positives: 276.0000 - val_true_negatives: 14029.0000 - val_precision: 0.9335 - val_recall: 0.6112 - val_cohen_kappa: 0.6549\n",
      "Epoch 174/200\n",
      "213/213 [==============================] - 23s 107ms/step - loss: 0.0210 - accuracy: 0.9361 - AUROC: 0.9781 - AUPRC: 0.9679 - false_positives: 1575.0000 - true_negatives: 70777.0000 - precision: 0.9516 - recall: 0.8521 - cohen_kappa: 0.8525 - val_loss: 0.0664 - val_accuracy: 0.8706 - val_AUROC: 0.9119 - val_AUPRC: 0.8282 - val_false_positives: 263.0000 - val_true_negatives: 14042.0000 - val_precision: 0.9372 - val_recall: 0.6199 - val_cohen_kappa: 0.6641\n",
      "Epoch 175/200\n",
      "213/213 [==============================] - 23s 107ms/step - loss: 0.0210 - accuracy: 0.9371 - AUROC: 0.9778 - AUPRC: 0.9679 - false_positives: 1537.0000 - true_negatives: 70815.0000 - precision: 0.9528 - recall: 0.8541 - cohen_kappa: 0.8549 - val_loss: 0.0619 - val_accuracy: 0.8725 - val_AUROC: 0.8851 - val_AUPRC: 0.7954 - val_false_positives: 336.0000 - val_true_negatives: 13969.0000 - val_precision: 0.9232 - val_recall: 0.6376 - val_cohen_kappa: 0.6720\n",
      "Epoch 176/200\n",
      "213/213 [==============================] - 23s 107ms/step - loss: 0.0207 - accuracy: 0.9379 - AUROC: 0.9786 - AUPRC: 0.9688 - false_positives: 1516.0000 - true_negatives: 70836.0000 - precision: 0.9535 - recall: 0.8558 - cohen_kappa: 0.8567 - val_loss: 0.0618 - val_accuracy: 0.8742 - val_AUROC: 0.8872 - val_AUPRC: 0.8148 - val_false_positives: 274.0000 - val_true_negatives: 14031.0000 - val_precision: 0.9361 - val_recall: 0.6335 - val_cohen_kappa: 0.6751\n",
      "Epoch 177/200\n",
      "213/213 [==============================] - 23s 106ms/step - loss: 0.0208 - accuracy: 0.9374 - AUROC: 0.9783 - AUPRC: 0.9684 - false_positives: 1492.0000 - true_negatives: 70860.0000 - precision: 0.9541 - recall: 0.8538 - cohen_kappa: 0.8556 - val_loss: 0.0633 - val_accuracy: 0.8651 - val_AUROC: 0.8922 - val_AUPRC: 0.8240 - val_false_positives: 243.0000 - val_true_negatives: 14062.0000 - val_precision: 0.9398 - val_recall: 0.5987 - val_cohen_kappa: 0.6472\n",
      "Epoch 178/200\n",
      "213/213 [==============================] - 23s 106ms/step - loss: 0.0209 - accuracy: 0.9366 - AUROC: 0.9783 - AUPRC: 0.9683 - false_positives: 1561.0000 - true_negatives: 70791.0000 - precision: 0.9520 - recall: 0.8532 - cohen_kappa: 0.8537 - val_loss: 0.0628 - val_accuracy: 0.8714 - val_AUROC: 0.8855 - val_AUPRC: 0.7985 - val_false_positives: 380.0000 - val_true_negatives: 13925.0000 - val_precision: 0.9144 - val_recall: 0.6409 - val_cohen_kappa: 0.6702\n",
      "Epoch 179/200\n",
      "213/213 [==============================] - 23s 106ms/step - loss: 0.0208 - accuracy: 0.9374 - AUROC: 0.9784 - AUPRC: 0.9686 - false_positives: 1430.0000 - true_negatives: 70922.0000 - precision: 0.9558 - recall: 0.8521 - cohen_kappa: 0.8555 - val_loss: 0.0595 - val_accuracy: 0.8726 - val_AUROC: 0.9022 - val_AUPRC: 0.8292 - val_false_positives: 266.0000 - val_true_negatives: 14039.0000 - val_precision: 0.9372 - val_recall: 0.6270 - val_cohen_kappa: 0.6702\n",
      "Epoch 180/200\n",
      "213/213 [==============================] - 23s 106ms/step - loss: 0.0210 - accuracy: 0.9363 - AUROC: 0.9779 - AUPRC: 0.9680 - false_positives: 1535.0000 - true_negatives: 70817.0000 - precision: 0.9527 - recall: 0.8518 - cohen_kappa: 0.8531 - val_loss: 0.0717 - val_accuracy: 0.8586 - val_AUROC: 0.8948 - val_AUPRC: 0.8117 - val_false_positives: 245.0000 - val_true_negatives: 14060.0000 - val_precision: 0.9373 - val_recall: 0.5781 - val_cohen_kappa: 0.6280\n",
      "Epoch 181/200\n",
      "213/213 [==============================] - 23s 108ms/step - loss: 0.0206 - accuracy: 0.9374 - AUROC: 0.9787 - AUPRC: 0.9689 - false_positives: 1434.0000 - true_negatives: 70918.0000 - precision: 0.9557 - recall: 0.8522 - cohen_kappa: 0.8555 - val_loss: 0.0614 - val_accuracy: 0.8792 - val_AUROC: 0.9127 - val_AUPRC: 0.8380 - val_false_positives: 251.0000 - val_true_negatives: 14054.0000 - val_precision: 0.9422 - val_recall: 0.6459 - val_cohen_kappa: 0.6887\n",
      "Epoch 182/200\n",
      "213/213 [==============================] - 23s 106ms/step - loss: 0.0205 - accuracy: 0.9379 - AUROC: 0.9788 - AUPRC: 0.9692 - false_positives: 1440.0000 - true_negatives: 70912.0000 - precision: 0.9556 - recall: 0.8537 - cohen_kappa: 0.8566 - val_loss: 0.0541 - val_accuracy: 0.8833 - val_AUROC: 0.9174 - val_AUPRC: 0.8233 - val_false_positives: 436.0000 - val_true_negatives: 13869.0000 - val_precision: 0.9091 - val_recall: 0.6887 - val_cohen_kappa: 0.7059\n",
      "Epoch 183/200\n",
      "213/213 [==============================] - 23s 106ms/step - loss: 0.0205 - accuracy: 0.9375 - AUROC: 0.9789 - AUPRC: 0.9693 - false_positives: 1492.0000 - true_negatives: 70860.0000 - precision: 0.9541 - recall: 0.8539 - cohen_kappa: 0.8557 - val_loss: 0.0735 - val_accuracy: 0.8630 - val_AUROC: 0.8868 - val_AUPRC: 0.8009 - val_false_positives: 242.0000 - val_true_negatives: 14063.0000 - val_precision: 0.9394 - val_recall: 0.5918 - val_cohen_kappa: 0.6409\n",
      "Epoch 184/200\n",
      "213/213 [==============================] - 23s 106ms/step - loss: 0.0207 - accuracy: 0.9381 - AUROC: 0.9785 - AUPRC: 0.9687 - false_positives: 1536.0000 - true_negatives: 70816.0000 - precision: 0.9530 - recall: 0.8571 - cohen_kappa: 0.8573 - val_loss: 0.0545 - val_accuracy: 0.8804 - val_AUROC: 0.9196 - val_AUPRC: 0.8453 - val_false_positives: 282.0000 - val_true_negatives: 14023.0000 - val_precision: 0.9363 - val_recall: 0.6548 - val_cohen_kappa: 0.6931\n",
      "Epoch 185/200\n",
      "213/213 [==============================] - 23s 106ms/step - loss: 0.0208 - accuracy: 0.9373 - AUROC: 0.9783 - AUPRC: 0.9685 - false_positives: 1489.0000 - true_negatives: 70863.0000 - precision: 0.9541 - recall: 0.8533 - cohen_kappa: 0.8552 - val_loss: 0.0595 - val_accuracy: 0.8778 - val_AUROC: 0.8991 - val_AUPRC: 0.8291 - val_false_positives: 305.0000 - val_true_negatives: 14000.0000 - val_precision: 0.9310 - val_recall: 0.6500 - val_cohen_kappa: 0.6864\n",
      "Epoch 186/200\n",
      "213/213 [==============================] - 23s 108ms/step - loss: 0.0207 - accuracy: 0.9367 - AUROC: 0.9786 - AUPRC: 0.9687 - false_positives: 1526.0000 - true_negatives: 70826.0000 - precision: 0.9530 - recall: 0.8527 - cohen_kappa: 0.8540 - val_loss: 0.0611 - val_accuracy: 0.8774 - val_AUROC: 0.9136 - val_AUPRC: 0.8388 - val_false_positives: 305.0000 - val_true_negatives: 14000.0000 - val_precision: 0.9309 - val_recall: 0.6486 - val_cohen_kappa: 0.6852\n",
      "Epoch 187/200\n",
      "213/213 [==============================] - 23s 107ms/step - loss: 0.0206 - accuracy: 0.9377 - AUROC: 0.9785 - AUPRC: 0.9691 - false_positives: 1536.0000 - true_negatives: 70816.0000 - precision: 0.9529 - recall: 0.8557 - cohen_kappa: 0.8562 - val_loss: 0.0682 - val_accuracy: 0.8654 - val_AUROC: 0.9035 - val_AUPRC: 0.8218 - val_false_positives: 227.0000 - val_true_negatives: 14078.0000 - val_precision: 0.9434 - val_recall: 0.5972 - val_cohen_kappa: 0.6475\n",
      "Epoch 188/200\n",
      "213/213 [==============================] - 23s 106ms/step - loss: 0.0204 - accuracy: 0.9385 - AUROC: 0.9791 - AUPRC: 0.9697 - false_positives: 1446.0000 - true_negatives: 70906.0000 - precision: 0.9555 - recall: 0.8558 - cohen_kappa: 0.8581 - val_loss: 0.0534 - val_accuracy: 0.8833 - val_AUROC: 0.9128 - val_AUPRC: 0.8502 - val_false_positives: 316.0000 - val_true_negatives: 13989.0000 - val_precision: 0.9307 - val_recall: 0.6698 - val_cohen_kappa: 0.7025\n",
      "Epoch 189/200\n",
      "213/213 [==============================] - 23s 106ms/step - loss: 0.0206 - accuracy: 0.9372 - AUROC: 0.9791 - AUPRC: 0.9691 - false_positives: 1568.0000 - true_negatives: 70784.0000 - precision: 0.9519 - recall: 0.8551 - cohen_kappa: 0.8551 - val_loss: 0.0567 - val_accuracy: 0.8814 - val_AUROC: 0.9074 - val_AUPRC: 0.8416 - val_false_positives: 302.0000 - val_true_negatives: 14003.0000 - val_precision: 0.9328 - val_recall: 0.6612 - val_cohen_kappa: 0.6966\n",
      "Epoch 190/200\n",
      "213/213 [==============================] - 23s 107ms/step - loss: 0.0206 - accuracy: 0.9381 - AUROC: 0.9787 - AUPRC: 0.9692 - false_positives: 1506.0000 - true_negatives: 70846.0000 - precision: 0.9538 - recall: 0.8561 - cohen_kappa: 0.8572 - val_loss: 0.0739 - val_accuracy: 0.8543 - val_AUROC: 0.8930 - val_AUPRC: 0.8136 - val_false_positives: 229.0000 - val_true_negatives: 14076.0000 - val_precision: 0.9395 - val_recall: 0.5615 - val_cohen_kappa: 0.6143\n",
      "Epoch 191/200\n",
      "213/213 [==============================] - 23s 107ms/step - loss: 0.0205 - accuracy: 0.9384 - AUROC: 0.9792 - AUPRC: 0.9695 - false_positives: 1494.0000 - true_negatives: 70858.0000 - precision: 0.9542 - recall: 0.8569 - cohen_kappa: 0.8580 - val_loss: 0.0695 - val_accuracy: 0.8620 - val_AUROC: 0.8875 - val_AUPRC: 0.8025 - val_false_positives: 246.0000 - val_true_negatives: 14059.0000 - val_precision: 0.9382 - val_recall: 0.5893 - val_cohen_kappa: 0.6382\n",
      "Epoch 192/200\n",
      "213/213 [==============================] - 23s 108ms/step - loss: 0.0203 - accuracy: 0.9390 - AUROC: 0.9794 - AUPRC: 0.9700 - false_positives: 1457.0000 - true_negatives: 70895.0000 - precision: 0.9553 - recall: 0.8576 - cohen_kappa: 0.8594 - val_loss: 0.0567 - val_accuracy: 0.8778 - val_AUROC: 0.9135 - val_AUPRC: 0.8452 - val_false_positives: 309.0000 - val_true_negatives: 13996.0000 - val_precision: 0.9302 - val_recall: 0.6505 - val_cohen_kappa: 0.6864\n",
      "Epoch 193/200\n",
      "213/213 [==============================] - 23s 107ms/step - loss: 0.0204 - accuracy: 0.9375 - AUROC: 0.9795 - AUPRC: 0.9698 - false_positives: 1581.0000 - true_negatives: 70771.0000 - precision: 0.9516 - recall: 0.8565 - cohen_kappa: 0.8559 - val_loss: 0.0661 - val_accuracy: 0.8675 - val_AUROC: 0.9099 - val_AUPRC: 0.8381 - val_false_positives: 239.0000 - val_true_negatives: 14066.0000 - val_precision: 0.9414 - val_recall: 0.6060 - val_cohen_kappa: 0.6542\n",
      "Epoch 194/200\n",
      "213/213 [==============================] - 23s 107ms/step - loss: 0.0205 - accuracy: 0.9383 - AUROC: 0.9788 - AUPRC: 0.9693 - false_positives: 1506.0000 - true_negatives: 70846.0000 - precision: 0.9538 - recall: 0.8567 - cohen_kappa: 0.8576 - val_loss: 0.0593 - val_accuracy: 0.8762 - val_AUROC: 0.9124 - val_AUPRC: 0.8379 - val_false_positives: 285.0000 - val_true_negatives: 14020.0000 - val_precision: 0.9345 - val_recall: 0.6415 - val_cohen_kappa: 0.6811\n",
      "Epoch 195/200\n",
      "213/213 [==============================] - 23s 106ms/step - loss: 0.0203 - accuracy: 0.9384 - AUROC: 0.9793 - AUPRC: 0.9698 - false_positives: 1454.0000 - true_negatives: 70898.0000 - precision: 0.9553 - recall: 0.8558 - cohen_kappa: 0.8580 - val_loss: 0.0658 - val_accuracy: 0.8703 - val_AUROC: 0.8814 - val_AUPRC: 0.7979 - val_false_positives: 302.0000 - val_true_negatives: 14003.0000 - val_precision: 0.9291 - val_recall: 0.6249 - val_cohen_kappa: 0.6644\n",
      "Epoch 196/200\n",
      "213/213 [==============================] - 23s 108ms/step - loss: 0.0203 - accuracy: 0.9392 - AUROC: 0.9794 - AUPRC: 0.9699 - false_positives: 1457.0000 - true_negatives: 70895.0000 - precision: 0.9553 - recall: 0.8580 - cohen_kappa: 0.8597 - val_loss: 0.0634 - val_accuracy: 0.8728 - val_AUROC: 0.9087 - val_AUPRC: 0.8326 - val_false_positives: 254.0000 - val_true_negatives: 14051.0000 - val_precision: 0.9398 - val_recall: 0.6256 - val_cohen_kappa: 0.6702\n",
      "Epoch 197/200\n",
      "213/213 [==============================] - 23s 106ms/step - loss: 0.0206 - accuracy: 0.9389 - AUROC: 0.9787 - AUPRC: 0.9692 - false_positives: 1482.0000 - true_negatives: 70870.0000 - precision: 0.9546 - recall: 0.8580 - cohen_kappa: 0.8592 - val_loss: 0.0552 - val_accuracy: 0.8880 - val_AUROC: 0.9123 - val_AUPRC: 0.8314 - val_false_positives: 376.0000 - val_true_negatives: 13929.0000 - val_precision: 0.9213 - val_recall: 0.6946 - val_cohen_kappa: 0.7175\n",
      "Epoch 198/200\n",
      "213/213 [==============================] - 23s 106ms/step - loss: 0.0207 - accuracy: 0.9377 - AUROC: 0.9785 - AUPRC: 0.9687 - false_positives: 1542.0000 - true_negatives: 70810.0000 - precision: 0.9527 - recall: 0.8562 - cohen_kappa: 0.8565 - val_loss: 0.0647 - val_accuracy: 0.8670 - val_AUROC: 0.8933 - val_AUPRC: 0.8148 - val_false_positives: 253.0000 - val_true_negatives: 14052.0000 - val_precision: 0.9382 - val_recall: 0.6066 - val_cohen_kappa: 0.6533\n",
      "Epoch 199/200\n",
      "213/213 [==============================] - 23s 107ms/step - loss: 0.0203 - accuracy: 0.9389 - AUROC: 0.9793 - AUPRC: 0.9698 - false_positives: 1485.0000 - true_negatives: 70867.0000 - precision: 0.9545 - recall: 0.8581 - cohen_kappa: 0.8592 - val_loss: 0.0547 - val_accuracy: 0.8857 - val_AUROC: 0.9100 - val_AUPRC: 0.8340 - val_false_positives: 389.0000 - val_true_negatives: 13916.0000 - val_precision: 0.9182 - val_recall: 0.6890 - val_cohen_kappa: 0.7113\n",
      "Epoch 200/200\n",
      "213/213 [==============================] - 23s 106ms/step - loss: 0.0204 - accuracy: 0.9381 - AUROC: 0.9792 - AUPRC: 0.9697 - false_positives: 1526.0000 - true_negatives: 70826.0000 - precision: 0.9533 - recall: 0.8569 - cohen_kappa: 0.8574 - val_loss: 0.0625 - val_accuracy: 0.8817 - val_AUROC: 0.9148 - val_AUPRC: 0.8465 - val_false_positives: 307.0000 - val_true_negatives: 13998.0000 - val_precision: 0.9319 - val_recall: 0.6630 - val_cohen_kappa: 0.6976\n"
     ]
    }
   ],
   "source": [
    "checkpoint_path = \"GAT_model_correct_5/cp_{epoch:04d}.ckpt\"\n",
    "checkpoint_dir = os.path.dirname(checkpoint_path) \n",
    "cp_callback=keras.callbacks.ModelCheckpoint(filepath=checkpoint_path,save_weights_only=False,verbose=0,save_best_only=True,monitor='val_accuracy')  \n",
    "history=model.fit(x_train,y_train,epochs=200,batch_size=512,verbose=1,validation_data=(x_test,y_test),callbacks=[cp_callback])"
   ]
  },
  {
   "cell_type": "code",
   "execution_count": null,
   "metadata": {},
   "outputs": [],
   "source": [
    "with open(\"history_GAT_rem_art_3.jason\", 'w') as f:\n",
    "    pd.DataFrame(history.history).to_json(f)"
   ]
  },
  {
   "cell_type": "code",
   "execution_count": null,
   "metadata": {},
   "outputs": [],
   "source": [
    "# Plot the training and validation loss and accuracy for each epoch for 4s partitions\n",
    "with open('history_GAT_rem_art_3.jason','r') as f:\n",
    "    history_1 = pd.read_json(f)\n",
    "\n",
    "# with open('history_GAT_rem_art.jason','r') as f:\n",
    "#     history_2 = pd.read_json(f)\n",
    "\n",
    "metrics=['accuracy','val_accuracy','loss','val_loss','val_AUROC','val_AUPRC','val_precision_1','val_recall_1','recall_1','precision_1','AUROC','AUPRC']\n",
    "\n",
    "epochs = range(1, 201)\n",
    "\n",
    "fig,ax=plt.subplots(4,3,figsize=(20,20))\n",
    "\n",
    "for r in range(12):\n",
    "    ax[r//3][r%3].plot(epochs,history_1[metrics[r]],label=metrics[r],color='r')\n",
    "    # ax[r//3][r%3].plot(epochs,history_2[metrics[r]],label=metrics[r],color='g')\n",
    "    ax[r//3][r%3].set_title(metrics[r])\n",
    "    ax[r//3][r%3].set_xlabel('Epochs')\n",
    "    # ax[r//3][r%3].axhline(y=0.975, color='r', linestyle='-')\n",
    "    ax[r//3][r%3].axvline(x=197, color='b', linestyle='-')\n",
    "    ax[r//3][r%3].grid()\n",
    "fig.tight_layout()\n",
    "plt.show()"
   ]
  },
  {
   "cell_type": "code",
   "execution_count": null,
   "metadata": {},
   "outputs": [],
   "source": [
    "history_1['val_accuracy'].max() "
   ]
  }
 ],
 "metadata": {
  "kernelspec": {
   "display_name": "BrainNeoCare",
   "language": "python",
   "name": "python3"
  },
  "language_info": {
   "codemirror_mode": {
    "name": "ipython",
    "version": 3
   },
   "file_extension": ".py",
   "mimetype": "text/x-python",
   "name": "python",
   "nbconvert_exporter": "python",
   "pygments_lexer": "ipython3",
   "version": "3.9.18"
  }
 },
 "nbformat": 4,
 "nbformat_minor": 2
}
