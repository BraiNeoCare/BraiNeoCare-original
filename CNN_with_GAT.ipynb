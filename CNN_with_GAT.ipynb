{
 "cells": [
  {
   "cell_type": "code",
   "execution_count": 1,
   "metadata": {},
   "outputs": [
    {
     "name": "stderr",
     "output_type": "stream",
     "text": [
      "2024-01-11 13:51:31.105758: I tensorflow/core/util/port.cc:111] oneDNN custom operations are on. You may see slightly different numerical results due to floating-point round-off errors from different computation orders. To turn them off, set the environment variable `TF_ENABLE_ONEDNN_OPTS=0`.\n",
      "2024-01-11 13:51:31.151678: E tensorflow/compiler/xla/stream_executor/cuda/cuda_dnn.cc:9342] Unable to register cuDNN factory: Attempting to register factory for plugin cuDNN when one has already been registered\n",
      "2024-01-11 13:51:31.151710: E tensorflow/compiler/xla/stream_executor/cuda/cuda_fft.cc:609] Unable to register cuFFT factory: Attempting to register factory for plugin cuFFT when one has already been registered\n",
      "2024-01-11 13:51:31.151732: E tensorflow/compiler/xla/stream_executor/cuda/cuda_blas.cc:1518] Unable to register cuBLAS factory: Attempting to register factory for plugin cuBLAS when one has already been registered\n",
      "2024-01-11 13:51:31.163088: I tensorflow/core/platform/cpu_feature_guard.cc:182] This TensorFlow binary is optimized to use available CPU instructions in performance-critical operations.\n",
      "To enable the following instructions: AVX2 AVX512F AVX512_VNNI FMA, in other operations, rebuild TensorFlow with the appropriate compiler flags.\n"
     ]
    }
   ],
   "source": [
    "import tensorflow as tf\n",
    "from tensorflow import keras\n",
    "from keras import layers\n",
    "import numpy as np \n",
    "from scipy import signal \n",
    "import pandas as pd\n",
    "import os\n",
    "import matplotlib.pyplot as plt\n",
    "from sklearn.model_selection import train_test_split"
   ]
  },
  {
   "cell_type": "code",
   "execution_count": 2,
   "metadata": {},
   "outputs": [],
   "source": [
    "x=np.load('../BraiNeoCare/Datasets/GAT/zenodo_data_consensus_GAT.npy', mmap_mode='r')\n",
    "y=np.load('../BraiNeoCare/Datasets/GAT/zenodo_labels_consensus_GAT.npy', mmap_mode='r')\n",
    "\n",
    "\n",
    "x_train, x_test, y_train, y_test = train_test_split(x, y, test_size=0.2, random_state=42)"
   ]
  },
  {
   "cell_type": "code",
   "execution_count": 3,
   "metadata": {},
   "outputs": [],
   "source": [
    "x1=np.load(\"../BraiNeoCare/Datasets/GAT/zenodo_data_non_GAT.npy\", mmap_mode='r')\n",
    "y1=np.load(\"../BraiNeoCare/Datasets/GAT/zenodo_labels_non_GAT.npy\", mmap_mode='r')\n"
   ]
  },
  {
   "cell_type": "code",
   "execution_count": 4,
   "metadata": {},
   "outputs": [],
   "source": [
    "mean=x_train.mean()\n",
    "std=x_train.std()\n",
    "x_train=(x_train-mean)/std\n",
    "x_test=(x_test-mean)/std\n",
    "x1=(x1-mean)/std\n",
    "\n",
    "x_train=np.expand_dims(x_train,axis=-1)\n",
    "x_test=np.expand_dims(x_test,axis=-1)\n",
    "x1=np.expand_dims(x1,axis=-1)"
   ]
  },
  {
   "cell_type": "code",
   "execution_count": 15,
   "metadata": {},
   "outputs": [],
   "source": [
    "y_train=y_train.astype(np.float32)\n",
    "y_test=y_test.astype(np.float32)"
   ]
  },
  {
   "cell_type": "code",
   "execution_count": 5,
   "metadata": {},
   "outputs": [
    {
     "name": "stderr",
     "output_type": "stream",
     "text": [
      "2024-01-11 13:53:15.574912: I tensorflow/core/common_runtime/gpu/gpu_device.cc:1886] Created device /job:localhost/replica:0/task:0/device:GPU:0 with 14947 MB memory:  -> device: 0, name: Quadro RTX 5000, pci bus id: 0000:17:00.0, compute capability: 7.5\n",
      "2024-01-11 13:53:15.575586: I tensorflow/core/common_runtime/gpu/gpu_device.cc:1886] Created device /job:localhost/replica:0/task:0/device:GPU:1 with 14946 MB memory:  -> device: 1, name: Quadro RTX 5000, pci bus id: 0000:73:00.0, compute capability: 7.5\n"
     ]
    }
   ],
   "source": [
    "channel_names=[\"Fp1-T3\",\"T3-O1\",\"Fp1-C3\",\"C3-O1\",\"Fp2-C4\",\"C4-O2\",\"Fp2-T4\",\"T4-O2\",\"T3-C3\",\"C3-Cz\",\"Cz-C4\",\"C4-T4\"]\n",
    "indices =[[r,i] for r,c1 in enumerate(channel_names) for i,c2 in enumerate(channel_names) if (c1.split(\"-\")[0]==c2.split(\"-\")[1] or c1.split(\"-\")[1]==c2.split(\"-\")[1] \n",
    "          or c1.split(\"-\")[0]==c2.split(\"-\")[0] or c1.split(\"-\")[1]==c2.split(\"-\")[0])]\n",
    "adj=np.zeros((12,12))\n",
    "for i in indices:\n",
    "    adj[i[0]][i[1]]=1\n",
    "adj=tf.constant(adj,dtype=tf.float32)"
   ]
  },
  {
   "cell_type": "code",
   "execution_count": 7,
   "metadata": {},
   "outputs": [],
   "source": [
    "class GATLayer(layers.Layer):\n",
    "\n",
    "    def __init__(self,output_dim):\n",
    "        super(GATLayer, self).__init__()\n",
    "        self.output_dim = output_dim\n",
    "        self.LeakyReLU = layers.LeakyReLU(alpha=0.2)\n",
    "    \n",
    "    def build(self, input_shape):\n",
    "        self.W = self.add_weight(name='W',shape=(input_shape[-1], self.output_dim), initializer='random_normal',trainable=True)\n",
    "        self.a = self.add_weight(name='a',shape=(2*self.output_dim, 1), initializer='random_normal',trainable=True)\n",
    "    \n",
    "    def call(self,input,adj):\n",
    "        H= tf.matmul(input, self.W)\n",
    "        h1=tf.tile(tf.expand_dims(H, axis=1), [1,12,1,1])\n",
    "        h2=tf.tile(tf.expand_dims(H, axis=2), [1,1,12,1])\n",
    "        result =tf.concat([h1 , h2], axis=-1)\n",
    "        e=self.LeakyReLU(tf.squeeze(tf.matmul(result, self.a),axis=-1))\n",
    "        zero_mat=-1e20*tf.zeros_like(e)\n",
    "        msked_e=tf.where(adj==1,e,zero_mat)\n",
    "        alpha=tf.nn.softmax(msked_e,axis=-1)\n",
    "        HPrime=tf.matmul(alpha,H)\n",
    "        return tf.nn.elu(HPrime)\n",
    "\n",
    "\n",
    "Input= keras.Input(shape=(12,384,1))\n",
    "\n",
    "x= layers.Conv2D(32,(1,3),activation='relu',padding='same')(Input)\n",
    "y= layers.Conv2D(32,(1,5),activation='relu',padding='same')(Input)\n",
    "x= layers.add([x,y])\n",
    "x= layers.MaxPooling2D((1,2))(x)\n",
    "x= layers.BatchNormalization()(x)\n",
    "x= layers.SpatialDropout2D(0.2)(x)\n",
    "\n",
    "x= layers.Conv2D(64,(1,3),activation='relu',padding='same')(x)\n",
    "y= layers.Conv2D(64,(1,5),activation='relu',padding='same')(x)\n",
    "x= layers.add([x,y])\n",
    "x= layers.MaxPooling2D((1,2))(x)\n",
    "x= layers.BatchNormalization()(x)\n",
    "x= layers.SpatialDropout2D(0.2)(x)\n",
    "\n",
    "x= layers.Conv2D(8,(1,3),activation='relu',padding='same')(x)\n",
    "y= layers.Conv2D(8,(1,5),activation='relu',padding='same')(x)\n",
    "x= layers.add([x,y])\n",
    "x= layers.MaxPooling2D((1,2))(x)\n",
    "x= layers.BatchNormalization()(x)\n",
    "x= layers.SpatialDropout2D(0.2)(x)\n",
    "\n",
    "x= layers.Conv2D(1,(1,3),activation='relu',padding='same')(x)\n",
    "y= layers.Conv2D(1,(1,5),activation='relu',padding='same')(x)\n",
    "x= layers.add([x,y])\n",
    "x= layers.MaxPooling2D((1,2))(x)\n",
    "x= layers.Reshape((12,24))(x)\n",
    "\n",
    "x= GATLayer(37)(x,adj)\n",
    "x= GATLayer(32)(x,adj)\n",
    "x= GATLayer(16)(x,adj)\n",
    "\n",
    "x = layers.GlobalAveragePooling1D()(x)\n",
    "x = layers.Dropout(0.2)(x)\n",
    "x= layers.Dense(32,activation='relu')(x)\n",
    "x= layers.Dropout(0.2)(x)\n",
    "x = layers.Dense(16,activation='relu')(x)\n",
    "x = layers.Dense(1,activation='sigmoid')(x)\n",
    "\n",
    "model = keras.Model(inputs=Input, outputs=x)"
   ]
  },
  {
   "cell_type": "code",
   "execution_count": 8,
   "metadata": {},
   "outputs": [
    {
     "name": "stdout",
     "output_type": "stream",
     "text": [
      "Model: \"model_1\"\n",
      "__________________________________________________________________________________________________\n",
      " Layer (type)                Output Shape                 Param #   Connected to                  \n",
      "==================================================================================================\n",
      " input_2 (InputLayer)        [(None, 12, 384, 1)]         0         []                            \n",
      "                                                                                                  \n",
      " conv2d_8 (Conv2D)           (None, 12, 384, 32)          128       ['input_2[0][0]']             \n",
      "                                                                                                  \n",
      " conv2d_9 (Conv2D)           (None, 12, 384, 32)          192       ['input_2[0][0]']             \n",
      "                                                                                                  \n",
      " add_4 (Add)                 (None, 12, 384, 32)          0         ['conv2d_8[0][0]',            \n",
      "                                                                     'conv2d_9[0][0]']            \n",
      "                                                                                                  \n",
      " max_pooling2d_4 (MaxPoolin  (None, 12, 192, 32)          0         ['add_4[0][0]']               \n",
      " g2D)                                                                                             \n",
      "                                                                                                  \n",
      " batch_normalization_3 (Bat  (None, 12, 192, 32)          128       ['max_pooling2d_4[0][0]']     \n",
      " chNormalization)                                                                                 \n",
      "                                                                                                  \n",
      " spatial_dropout2d_3 (Spati  (None, 12, 192, 32)          0         ['batch_normalization_3[0][0]'\n",
      " alDropout2D)                                                       ]                             \n",
      "                                                                                                  \n",
      " conv2d_10 (Conv2D)          (None, 12, 192, 64)          6208      ['spatial_dropout2d_3[0][0]'] \n",
      "                                                                                                  \n",
      " conv2d_11 (Conv2D)          (None, 12, 192, 64)          20544     ['conv2d_10[0][0]']           \n",
      "                                                                                                  \n",
      " add_5 (Add)                 (None, 12, 192, 64)          0         ['conv2d_10[0][0]',           \n",
      "                                                                     'conv2d_11[0][0]']           \n",
      "                                                                                                  \n",
      " max_pooling2d_5 (MaxPoolin  (None, 12, 96, 64)           0         ['add_5[0][0]']               \n",
      " g2D)                                                                                             \n",
      "                                                                                                  \n",
      " batch_normalization_4 (Bat  (None, 12, 96, 64)           256       ['max_pooling2d_5[0][0]']     \n",
      " chNormalization)                                                                                 \n",
      "                                                                                                  \n",
      " spatial_dropout2d_4 (Spati  (None, 12, 96, 64)           0         ['batch_normalization_4[0][0]'\n",
      " alDropout2D)                                                       ]                             \n",
      "                                                                                                  \n",
      " conv2d_12 (Conv2D)          (None, 12, 96, 8)            1544      ['spatial_dropout2d_4[0][0]'] \n",
      "                                                                                                  \n",
      " conv2d_13 (Conv2D)          (None, 12, 96, 8)            328       ['conv2d_12[0][0]']           \n",
      "                                                                                                  \n",
      " add_6 (Add)                 (None, 12, 96, 8)            0         ['conv2d_12[0][0]',           \n",
      "                                                                     'conv2d_13[0][0]']           \n",
      "                                                                                                  \n",
      " max_pooling2d_6 (MaxPoolin  (None, 12, 48, 8)            0         ['add_6[0][0]']               \n",
      " g2D)                                                                                             \n",
      "                                                                                                  \n",
      " batch_normalization_5 (Bat  (None, 12, 48, 8)            32        ['max_pooling2d_6[0][0]']     \n",
      " chNormalization)                                                                                 \n",
      "                                                                                                  \n",
      " spatial_dropout2d_5 (Spati  (None, 12, 48, 8)            0         ['batch_normalization_5[0][0]'\n",
      " alDropout2D)                                                       ]                             \n",
      "                                                                                                  \n",
      " conv2d_14 (Conv2D)          (None, 12, 48, 1)            25        ['spatial_dropout2d_5[0][0]'] \n",
      "                                                                                                  \n",
      " conv2d_15 (Conv2D)          (None, 12, 48, 1)            6         ['conv2d_14[0][0]']           \n",
      "                                                                                                  \n",
      " add_7 (Add)                 (None, 12, 48, 1)            0         ['conv2d_14[0][0]',           \n",
      "                                                                     'conv2d_15[0][0]']           \n",
      "                                                                                                  \n",
      " max_pooling2d_7 (MaxPoolin  (None, 12, 24, 1)            0         ['add_7[0][0]']               \n",
      " g2D)                                                                                             \n",
      "                                                                                                  \n",
      " reshape_1 (Reshape)         (None, 12, 24)               0         ['max_pooling2d_7[0][0]']     \n",
      "                                                                                                  \n",
      " gat_layer_3 (GATLayer)      (None, 12, 37)               962       ['reshape_1[0][0]']           \n",
      "                                                                                                  \n",
      " gat_layer_4 (GATLayer)      (None, 12, 32)               1248      ['gat_layer_3[0][0]']         \n",
      "                                                                                                  \n",
      " gat_layer_5 (GATLayer)      (None, 12, 16)               544       ['gat_layer_4[0][0]']         \n",
      "                                                                                                  \n",
      " global_average_pooling1d_1  (None, 16)                   0         ['gat_layer_5[0][0]']         \n",
      "  (GlobalAveragePooling1D)                                                                        \n",
      "                                                                                                  \n",
      " dropout_2 (Dropout)         (None, 16)                   0         ['global_average_pooling1d_1[0\n",
      "                                                                    ][0]']                        \n",
      "                                                                                                  \n",
      " dense_3 (Dense)             (None, 32)                   544       ['dropout_2[0][0]']           \n",
      "                                                                                                  \n",
      " dropout_3 (Dropout)         (None, 32)                   0         ['dense_3[0][0]']             \n",
      "                                                                                                  \n",
      " dense_4 (Dense)             (None, 16)                   528       ['dropout_3[0][0]']           \n",
      "                                                                                                  \n",
      " dense_5 (Dense)             (None, 1)                    17        ['dense_4[0][0]']             \n",
      "                                                                                                  \n",
      "==================================================================================================\n",
      "Total params: 33234 (129.82 KB)\n",
      "Trainable params: 33026 (129.01 KB)\n",
      "Non-trainable params: 208 (832.00 Byte)\n",
      "__________________________________________________________________________________________________\n"
     ]
    }
   ],
   "source": [
    "model.summary()"
   ]
  },
  {
   "cell_type": "code",
   "execution_count": 9,
   "metadata": {},
   "outputs": [],
   "source": [
    "optimizer=keras.optimizers.Adam(learning_rate=0.002,weight_decay=0.0025)\n",
    "loss=keras.losses.BinaryFocalCrossentropy(from_logits=False,gamma=2,alpha=0.4,apply_class_balancing=True)\n",
    "# loss=keras.losses.BinaryCrossentropy(from_logits=False)  \n",
    "# F1=keras.metrics.F1Score(threshold=0.5, name='F1') \n",
    "precision = keras.metrics.Precision()\n",
    "recall = keras.metrics.Recall()\n",
    "AUROC = keras.metrics.AUC(curve='ROC', name = 'AUROC')\n",
    "AUPRC = keras.metrics.AUC(curve='PR', name = 'AUPRC')\n",
    "model.compile(optimizer=optimizer,loss=loss,metrics=['accuracy', AUROC, AUPRC, precision, recall])    "
   ]
  },
  {
   "cell_type": "code",
   "execution_count": 10,
   "metadata": {},
   "outputs": [
    {
     "name": "stdout",
     "output_type": "stream",
     "text": [
      "Epoch 1/200\n"
     ]
    },
    {
     "name": "stderr",
     "output_type": "stream",
     "text": [
      "2024-01-11 13:53:58.325229: E tensorflow/core/grappler/optimizers/meta_optimizer.cc:961] layout failed: INVALID_ARGUMENT: Size of values 0 does not match size of permutation 4 @ fanin shape inmodel_1/spatial_dropout2d_3/dropout/SelectV2-2-TransposeNHWCToNCHW-LayoutOptimizer\n",
      "2024-01-11 13:53:58.948233: I tensorflow/compiler/xla/stream_executor/cuda/cuda_dnn.cc:442] Loaded cuDNN version 8700\n",
      "2024-01-11 13:54:02.441794: I tensorflow/compiler/xla/service/service.cc:168] XLA service 0x7fda6c237770 initialized for platform CUDA (this does not guarantee that XLA will be used). Devices:\n",
      "2024-01-11 13:54:02.441830: I tensorflow/compiler/xla/service/service.cc:176]   StreamExecutor device (0): Quadro RTX 5000, Compute Capability 7.5\n",
      "2024-01-11 13:54:02.441839: I tensorflow/compiler/xla/service/service.cc:176]   StreamExecutor device (1): Quadro RTX 5000, Compute Capability 7.5\n",
      "2024-01-11 13:54:02.450293: I tensorflow/compiler/mlir/tensorflow/utils/dump_mlir_util.cc:269] disabling MLIR crash reproducer, set env var `MLIR_CRASH_REPRODUCER_DIRECTORY` to enable.\n",
      "2024-01-11 13:54:02.587168: I ./tensorflow/compiler/jit/device_compiler.h:186] Compiled cluster using XLA!  This line is logged at most once for the lifetime of the process.\n"
     ]
    },
    {
     "name": "stdout",
     "output_type": "stream",
     "text": [
      "203/203 [==============================] - ETA: 0s - loss: 0.0671 - accuracy: 0.7048 - AUROC: 0.7536 - AUPRC: 0.6234 - precision: 0.8633 - recall: 0.1279INFO:tensorflow:Assets written to: GAT_model_2/cp_0001.ckpt/assets\n"
     ]
    },
    {
     "name": "stderr",
     "output_type": "stream",
     "text": [
      "INFO:tensorflow:Assets written to: GAT_model_2/cp_0001.ckpt/assets\n"
     ]
    },
    {
     "name": "stdout",
     "output_type": "stream",
     "text": [
      "203/203 [==============================] - 53s 206ms/step - loss: 0.0671 - accuracy: 0.7048 - AUROC: 0.7536 - AUPRC: 0.6234 - precision: 0.8633 - recall: 0.1279 - val_loss: 0.0832 - val_accuracy: 0.7534 - val_AUROC: 0.7171 - val_AUPRC: 0.6674 - val_precision: 0.9467 - val_recall: 0.2572\n",
      "Epoch 2/200\n",
      "202/203 [============================>.] - ETA: 0s - loss: 0.0476 - accuracy: 0.8536 - AUROC: 0.8841 - AUPRC: 0.8400 - precision: 0.9085 - recall: 0.6198INFO:tensorflow:Assets written to: GAT_model_2/cp_0002.ckpt/assets\n"
     ]
    },
    {
     "name": "stderr",
     "output_type": "stream",
     "text": [
      "INFO:tensorflow:Assets written to: GAT_model_2/cp_0002.ckpt/assets\n"
     ]
    },
    {
     "name": "stdout",
     "output_type": "stream",
     "text": [
      "203/203 [==============================] - 39s 194ms/step - loss: 0.0476 - accuracy: 0.8536 - AUROC: 0.8841 - AUPRC: 0.8400 - precision: 0.9085 - recall: 0.6198 - val_loss: 0.0558 - val_accuracy: 0.7851 - val_AUROC: 0.8834 - val_AUPRC: 0.8608 - val_precision: 0.9815 - val_recall: 0.3466\n",
      "Epoch 3/200\n",
      "202/203 [============================>.] - ETA: 0s - loss: 0.0417 - accuracy: 0.8741 - AUROC: 0.9007 - AUPRC: 0.8728 - precision: 0.9323 - recall: 0.6680INFO:tensorflow:Assets written to: GAT_model_2/cp_0003.ckpt/assets\n"
     ]
    },
    {
     "name": "stderr",
     "output_type": "stream",
     "text": [
      "INFO:tensorflow:Assets written to: GAT_model_2/cp_0003.ckpt/assets\n"
     ]
    },
    {
     "name": "stdout",
     "output_type": "stream",
     "text": [
      "203/203 [==============================] - 62s 307ms/step - loss: 0.0417 - accuracy: 0.8741 - AUROC: 0.9007 - AUPRC: 0.8728 - precision: 0.9323 - recall: 0.6680 - val_loss: 0.0419 - val_accuracy: 0.8661 - val_AUROC: 0.8912 - val_AUPRC: 0.8762 - val_precision: 0.9625 - val_recall: 0.6127\n",
      "Epoch 4/200\n",
      "202/203 [============================>.] - ETA: 0s - loss: 0.0395 - accuracy: 0.8841 - AUROC: 0.9098 - AUPRC: 0.8857 - precision: 0.9332 - recall: 0.6999INFO:tensorflow:Assets written to: GAT_model_2/cp_0004.ckpt/assets\n"
     ]
    },
    {
     "name": "stderr",
     "output_type": "stream",
     "text": [
      "INFO:tensorflow:Assets written to: GAT_model_2/cp_0004.ckpt/assets\n"
     ]
    },
    {
     "name": "stdout",
     "output_type": "stream",
     "text": [
      "203/203 [==============================] - 141s 695ms/step - loss: 0.0395 - accuracy: 0.8841 - AUROC: 0.9098 - AUPRC: 0.8857 - precision: 0.9332 - recall: 0.6999 - val_loss: 0.0415 - val_accuracy: 0.8690 - val_AUROC: 0.8971 - val_AUPRC: 0.8833 - val_precision: 0.9703 - val_recall: 0.6167\n",
      "Epoch 5/200\n",
      "202/203 [============================>.] - ETA: 0s - loss: 0.0388 - accuracy: 0.8873 - AUROC: 0.9117 - AUPRC: 0.8898 - precision: 0.9340 - recall: 0.7096INFO:tensorflow:Assets written to: GAT_model_2/cp_0005.ckpt/assets\n"
     ]
    },
    {
     "name": "stderr",
     "output_type": "stream",
     "text": [
      "INFO:tensorflow:Assets written to: GAT_model_2/cp_0005.ckpt/assets\n"
     ]
    },
    {
     "name": "stdout",
     "output_type": "stream",
     "text": [
      "203/203 [==============================] - 39s 194ms/step - loss: 0.0389 - accuracy: 0.8873 - AUROC: 0.9117 - AUPRC: 0.8898 - precision: 0.9340 - recall: 0.7095 - val_loss: 0.0392 - val_accuracy: 0.8851 - val_AUROC: 0.9044 - val_AUPRC: 0.8902 - val_precision: 0.9645 - val_recall: 0.6719\n",
      "Epoch 6/200\n",
      "202/203 [============================>.] - ETA: 0s - loss: 0.0379 - accuracy: 0.8895 - AUROC: 0.9171 - AUPRC: 0.8951 - precision: 0.9292 - recall: 0.7211INFO:tensorflow:Assets written to: GAT_model_2/cp_0006.ckpt/assets\n"
     ]
    },
    {
     "name": "stderr",
     "output_type": "stream",
     "text": [
      "INFO:tensorflow:Assets written to: GAT_model_2/cp_0006.ckpt/assets\n"
     ]
    },
    {
     "name": "stdout",
     "output_type": "stream",
     "text": [
      "203/203 [==============================] - 39s 194ms/step - loss: 0.0379 - accuracy: 0.8895 - AUROC: 0.9171 - AUPRC: 0.8951 - precision: 0.9291 - recall: 0.7210 - val_loss: 0.0431 - val_accuracy: 0.8916 - val_AUROC: 0.9002 - val_AUPRC: 0.8852 - val_precision: 0.9246 - val_recall: 0.7263\n",
      "Epoch 7/200\n",
      "203/203 [==============================] - 37s 182ms/step - loss: 0.0370 - accuracy: 0.8938 - AUROC: 0.9200 - AUPRC: 0.8991 - precision: 0.9329 - recall: 0.7316 - val_loss: 0.0366 - val_accuracy: 0.8883 - val_AUROC: 0.9368 - val_AUPRC: 0.9194 - val_precision: 0.9748 - val_recall: 0.6745\n",
      "Epoch 8/200\n",
      "203/203 [==============================] - 37s 181ms/step - loss: 0.0359 - accuracy: 0.8970 - AUROC: 0.9249 - AUPRC: 0.9058 - precision: 0.9354 - recall: 0.7397 - val_loss: 0.0382 - val_accuracy: 0.8789 - val_AUROC: 0.9218 - val_AUPRC: 0.9080 - val_precision: 0.9795 - val_recall: 0.6417\n",
      "Epoch 9/200\n",
      "202/203 [============================>.] - ETA: 0s - loss: 0.0351 - accuracy: 0.8977 - AUROC: 0.9293 - AUPRC: 0.9103 - precision: 0.9349 - recall: 0.7425INFO:tensorflow:Assets written to: GAT_model_2/cp_0009.ckpt/assets\n"
     ]
    },
    {
     "name": "stderr",
     "output_type": "stream",
     "text": [
      "INFO:tensorflow:Assets written to: GAT_model_2/cp_0009.ckpt/assets\n"
     ]
    },
    {
     "name": "stdout",
     "output_type": "stream",
     "text": [
      "203/203 [==============================] - 40s 196ms/step - loss: 0.0351 - accuracy: 0.8977 - AUROC: 0.9293 - AUPRC: 0.9103 - precision: 0.9349 - recall: 0.7425 - val_loss: 0.0361 - val_accuracy: 0.8940 - val_AUROC: 0.9414 - val_AUPRC: 0.9235 - val_precision: 0.9721 - val_recall: 0.6946\n",
      "Epoch 10/200\n",
      "202/203 [============================>.] - ETA: 0s - loss: 0.0349 - accuracy: 0.8991 - AUROC: 0.9294 - AUPRC: 0.9113 - precision: 0.9334 - recall: 0.7485INFO:tensorflow:Assets written to: GAT_model_2/cp_0010.ckpt/assets\n"
     ]
    },
    {
     "name": "stderr",
     "output_type": "stream",
     "text": [
      "INFO:tensorflow:Assets written to: GAT_model_2/cp_0010.ckpt/assets\n"
     ]
    },
    {
     "name": "stdout",
     "output_type": "stream",
     "text": [
      "203/203 [==============================] - 39s 194ms/step - loss: 0.0348 - accuracy: 0.8992 - AUROC: 0.9295 - AUPRC: 0.9113 - precision: 0.9334 - recall: 0.7486 - val_loss: 0.0333 - val_accuracy: 0.8987 - val_AUROC: 0.9476 - val_AUPRC: 0.9309 - val_precision: 0.9728 - val_recall: 0.7087\n",
      "Epoch 11/200\n",
      "202/203 [============================>.] - ETA: 0s - loss: 0.0339 - accuracy: 0.9019 - AUROC: 0.9338 - AUPRC: 0.9159 - precision: 0.9382 - recall: 0.7530INFO:tensorflow:Assets written to: GAT_model_2/cp_0011.ckpt/assets\n"
     ]
    },
    {
     "name": "stderr",
     "output_type": "stream",
     "text": [
      "INFO:tensorflow:Assets written to: GAT_model_2/cp_0011.ckpt/assets\n"
     ]
    },
    {
     "name": "stdout",
     "output_type": "stream",
     "text": [
      "203/203 [==============================] - 40s 195ms/step - loss: 0.0339 - accuracy: 0.9019 - AUROC: 0.9339 - AUPRC: 0.9159 - precision: 0.9382 - recall: 0.7530 - val_loss: 0.0337 - val_accuracy: 0.9044 - val_AUROC: 0.9456 - val_AUPRC: 0.9282 - val_precision: 0.9630 - val_recall: 0.7347\n",
      "Epoch 12/200\n",
      "202/203 [============================>.] - ETA: 0s - loss: 0.0334 - accuracy: 0.9025 - AUROC: 0.9371 - AUPRC: 0.9186 - precision: 0.9381 - recall: 0.7551INFO:tensorflow:Assets written to: GAT_model_2/cp_0012.ckpt/assets\n"
     ]
    },
    {
     "name": "stderr",
     "output_type": "stream",
     "text": [
      "INFO:tensorflow:Assets written to: GAT_model_2/cp_0012.ckpt/assets\n"
     ]
    },
    {
     "name": "stdout",
     "output_type": "stream",
     "text": [
      "203/203 [==============================] - 39s 194ms/step - loss: 0.0334 - accuracy: 0.9025 - AUROC: 0.9371 - AUPRC: 0.9186 - precision: 0.9381 - recall: 0.7551 - val_loss: 0.0315 - val_accuracy: 0.9157 - val_AUROC: 0.9496 - val_AUPRC: 0.9327 - val_precision: 0.9450 - val_recall: 0.7870\n",
      "Epoch 13/200\n",
      "202/203 [============================>.] - ETA: 0s - loss: 0.0329 - accuracy: 0.9042 - AUROC: 0.9385 - AUPRC: 0.9205 - precision: 0.9408 - recall: 0.7583INFO:tensorflow:Assets written to: GAT_model_2/cp_0013.ckpt/assets\n"
     ]
    },
    {
     "name": "stderr",
     "output_type": "stream",
     "text": [
      "INFO:tensorflow:Assets written to: GAT_model_2/cp_0013.ckpt/assets\n"
     ]
    },
    {
     "name": "stdout",
     "output_type": "stream",
     "text": [
      "203/203 [==============================] - 39s 194ms/step - loss: 0.0329 - accuracy: 0.9042 - AUROC: 0.9385 - AUPRC: 0.9204 - precision: 0.9408 - recall: 0.7582 - val_loss: 0.0329 - val_accuracy: 0.9172 - val_AUROC: 0.9531 - val_AUPRC: 0.9366 - val_precision: 0.9364 - val_recall: 0.8002\n",
      "Epoch 14/200\n",
      "203/203 [==============================] - 36s 179ms/step - loss: 0.0324 - accuracy: 0.9058 - AUROC: 0.9416 - AUPRC: 0.9237 - precision: 0.9392 - recall: 0.7648 - val_loss: 0.0320 - val_accuracy: 0.9109 - val_AUROC: 0.9514 - val_AUPRC: 0.9343 - val_precision: 0.9575 - val_recall: 0.7602\n",
      "Epoch 15/200\n",
      "203/203 [==============================] - 37s 180ms/step - loss: 0.0319 - accuracy: 0.9070 - AUROC: 0.9436 - AUPRC: 0.9265 - precision: 0.9392 - recall: 0.7686 - val_loss: 0.0355 - val_accuracy: 0.8833 - val_AUROC: 0.9456 - val_AUPRC: 0.9293 - val_precision: 0.9806 - val_recall: 0.6546\n",
      "Epoch 16/200\n",
      "202/203 [============================>.] - ETA: 0s - loss: 0.0317 - accuracy: 0.9069 - AUROC: 0.9441 - AUPRC: 0.9268 - precision: 0.9417 - recall: 0.7660INFO:tensorflow:Assets written to: GAT_model_2/cp_0016.ckpt/assets\n"
     ]
    },
    {
     "name": "stderr",
     "output_type": "stream",
     "text": [
      "INFO:tensorflow:Assets written to: GAT_model_2/cp_0016.ckpt/assets\n"
     ]
    },
    {
     "name": "stdout",
     "output_type": "stream",
     "text": [
      "203/203 [==============================] - 39s 193ms/step - loss: 0.0317 - accuracy: 0.9069 - AUROC: 0.9441 - AUPRC: 0.9268 - precision: 0.9417 - recall: 0.7660 - val_loss: 0.0309 - val_accuracy: 0.9183 - val_AUROC: 0.9485 - val_AUPRC: 0.9344 - val_precision: 0.9452 - val_recall: 0.7951\n",
      "Epoch 17/200\n",
      "203/203 [==============================] - 36s 179ms/step - loss: 0.0316 - accuracy: 0.9081 - AUROC: 0.9447 - AUPRC: 0.9278 - precision: 0.9388 - recall: 0.7727 - val_loss: 0.0319 - val_accuracy: 0.9111 - val_AUROC: 0.9547 - val_AUPRC: 0.9385 - val_precision: 0.9630 - val_recall: 0.7561\n",
      "Epoch 18/200\n",
      "202/203 [============================>.] - ETA: 0s - loss: 0.0308 - accuracy: 0.9107 - AUROC: 0.9476 - AUPRC: 0.9308 - precision: 0.9420 - recall: 0.7780INFO:tensorflow:Assets written to: GAT_model_2/cp_0018.ckpt/assets\n"
     ]
    },
    {
     "name": "stderr",
     "output_type": "stream",
     "text": [
      "INFO:tensorflow:Assets written to: GAT_model_2/cp_0018.ckpt/assets\n"
     ]
    },
    {
     "name": "stdout",
     "output_type": "stream",
     "text": [
      "203/203 [==============================] - 145s 717ms/step - loss: 0.0308 - accuracy: 0.9107 - AUROC: 0.9476 - AUPRC: 0.9309 - precision: 0.9421 - recall: 0.7781 - val_loss: 0.0299 - val_accuracy: 0.9205 - val_AUROC: 0.9586 - val_AUPRC: 0.9438 - val_precision: 0.9484 - val_recall: 0.7995\n",
      "Epoch 19/200\n",
      "202/203 [============================>.] - ETA: 0s - loss: 0.0306 - accuracy: 0.9109 - AUROC: 0.9484 - AUPRC: 0.9322 - precision: 0.9427 - recall: 0.7780INFO:tensorflow:Assets written to: GAT_model_2/cp_0019.ckpt/assets\n"
     ]
    },
    {
     "name": "stderr",
     "output_type": "stream",
     "text": [
      "INFO:tensorflow:Assets written to: GAT_model_2/cp_0019.ckpt/assets\n"
     ]
    },
    {
     "name": "stdout",
     "output_type": "stream",
     "text": [
      "203/203 [==============================] - 39s 192ms/step - loss: 0.0306 - accuracy: 0.9109 - AUROC: 0.9484 - AUPRC: 0.9322 - precision: 0.9427 - recall: 0.7780 - val_loss: 0.0314 - val_accuracy: 0.9227 - val_AUROC: 0.9601 - val_AUPRC: 0.9449 - val_precision: 0.9391 - val_recall: 0.8155\n",
      "Epoch 20/200\n",
      "203/203 [==============================] - 36s 179ms/step - loss: 0.0302 - accuracy: 0.9117 - AUROC: 0.9501 - AUPRC: 0.9338 - precision: 0.9445 - recall: 0.7790 - val_loss: 0.0343 - val_accuracy: 0.9214 - val_AUROC: 0.9583 - val_AUPRC: 0.9431 - val_precision: 0.9044 - val_recall: 0.8483\n",
      "Epoch 21/200\n",
      "203/203 [==============================] - 36s 179ms/step - loss: 0.0303 - accuracy: 0.9130 - AUROC: 0.9499 - AUPRC: 0.9334 - precision: 0.9389 - recall: 0.7885 - val_loss: 0.0306 - val_accuracy: 0.9185 - val_AUROC: 0.9549 - val_AUPRC: 0.9386 - val_precision: 0.9518 - val_recall: 0.7897\n",
      "Epoch 22/200\n",
      "202/203 [============================>.] - ETA: 0s - loss: 0.0298 - accuracy: 0.9143 - AUROC: 0.9516 - AUPRC: 0.9353 - precision: 0.9432 - recall: 0.7885INFO:tensorflow:Assets written to: GAT_model_2/cp_0022.ckpt/assets\n"
     ]
    },
    {
     "name": "stderr",
     "output_type": "stream",
     "text": [
      "INFO:tensorflow:Assets written to: GAT_model_2/cp_0022.ckpt/assets\n"
     ]
    },
    {
     "name": "stdout",
     "output_type": "stream",
     "text": [
      "203/203 [==============================] - 39s 194ms/step - loss: 0.0298 - accuracy: 0.9143 - AUROC: 0.9516 - AUPRC: 0.9353 - precision: 0.9431 - recall: 0.7885 - val_loss: 0.0299 - val_accuracy: 0.9230 - val_AUROC: 0.9615 - val_AUPRC: 0.9469 - val_precision: 0.9578 - val_recall: 0.7986\n",
      "Epoch 23/200\n",
      "202/203 [============================>.] - ETA: 0s - loss: 0.0295 - accuracy: 0.9150 - AUROC: 0.9523 - AUPRC: 0.9366 - precision: 0.9401 - recall: 0.7938INFO:tensorflow:Assets written to: GAT_model_2/cp_0023.ckpt/assets\n"
     ]
    },
    {
     "name": "stderr",
     "output_type": "stream",
     "text": [
      "INFO:tensorflow:Assets written to: GAT_model_2/cp_0023.ckpt/assets\n"
     ]
    },
    {
     "name": "stdout",
     "output_type": "stream",
     "text": [
      "203/203 [==============================] - 39s 193ms/step - loss: 0.0295 - accuracy: 0.9150 - AUROC: 0.9523 - AUPRC: 0.9366 - precision: 0.9401 - recall: 0.7938 - val_loss: 0.0303 - val_accuracy: 0.9250 - val_AUROC: 0.9609 - val_AUPRC: 0.9463 - val_precision: 0.9316 - val_recall: 0.8308\n",
      "Epoch 24/200\n",
      "203/203 [==============================] - 36s 179ms/step - loss: 0.0294 - accuracy: 0.9149 - AUROC: 0.9530 - AUPRC: 0.9377 - precision: 0.9410 - recall: 0.7923 - val_loss: 0.0361 - val_accuracy: 0.9200 - val_AUROC: 0.9612 - val_AUPRC: 0.9461 - val_precision: 0.8838 - val_recall: 0.8686\n",
      "Epoch 25/200\n",
      "203/203 [==============================] - 36s 179ms/step - loss: 0.0291 - accuracy: 0.9148 - AUROC: 0.9545 - AUPRC: 0.9385 - precision: 0.9410 - recall: 0.7923 - val_loss: 0.0307 - val_accuracy: 0.9246 - val_AUROC: 0.9587 - val_AUPRC: 0.9435 - val_precision: 0.9248 - val_recall: 0.8365\n",
      "Epoch 26/200\n",
      "203/203 [==============================] - 36s 179ms/step - loss: 0.0289 - accuracy: 0.9168 - AUROC: 0.9546 - AUPRC: 0.9393 - precision: 0.9430 - recall: 0.7965 - val_loss: 0.0313 - val_accuracy: 0.9203 - val_AUROC: 0.9611 - val_AUPRC: 0.9443 - val_precision: 0.9297 - val_recall: 0.8171\n",
      "Epoch 27/200\n",
      "202/203 [============================>.] - ETA: 0s - loss: 0.0286 - accuracy: 0.9168 - AUROC: 0.9557 - AUPRC: 0.9403 - precision: 0.9454 - recall: 0.7946INFO:tensorflow:Assets written to: GAT_model_2/cp_0027.ckpt/assets\n"
     ]
    },
    {
     "name": "stderr",
     "output_type": "stream",
     "text": [
      "INFO:tensorflow:Assets written to: GAT_model_2/cp_0027.ckpt/assets\n"
     ]
    },
    {
     "name": "stdout",
     "output_type": "stream",
     "text": [
      "203/203 [==============================] - 39s 193ms/step - loss: 0.0286 - accuracy: 0.9169 - AUROC: 0.9557 - AUPRC: 0.9403 - precision: 0.9454 - recall: 0.7946 - val_loss: 0.0304 - val_accuracy: 0.9253 - val_AUROC: 0.9612 - val_AUPRC: 0.9467 - val_precision: 0.9260 - val_recall: 0.8376\n",
      "Epoch 28/200\n",
      "202/203 [============================>.] - ETA: 0s - loss: 0.0281 - accuracy: 0.9190 - AUROC: 0.9576 - AUPRC: 0.9425 - precision: 0.9417 - recall: 0.8051INFO:tensorflow:Assets written to: GAT_model_2/cp_0028.ckpt/assets\n"
     ]
    },
    {
     "name": "stderr",
     "output_type": "stream",
     "text": [
      "INFO:tensorflow:Assets written to: GAT_model_2/cp_0028.ckpt/assets\n"
     ]
    },
    {
     "name": "stdout",
     "output_type": "stream",
     "text": [
      "203/203 [==============================] - 40s 195ms/step - loss: 0.0281 - accuracy: 0.9190 - AUROC: 0.9576 - AUPRC: 0.9425 - precision: 0.9418 - recall: 0.8050 - val_loss: 0.0291 - val_accuracy: 0.9315 - val_AUROC: 0.9665 - val_AUPRC: 0.9537 - val_precision: 0.9524 - val_recall: 0.8313\n",
      "Epoch 29/200\n",
      "203/203 [==============================] - 36s 179ms/step - loss: 0.0288 - accuracy: 0.9165 - AUROC: 0.9552 - AUPRC: 0.9399 - precision: 0.9411 - recall: 0.7977 - val_loss: 0.0310 - val_accuracy: 0.8982 - val_AUROC: 0.9617 - val_AUPRC: 0.9472 - val_precision: 0.9836 - val_recall: 0.6990\n",
      "Epoch 30/200\n",
      "203/203 [==============================] - 36s 178ms/step - loss: 0.0279 - accuracy: 0.9183 - AUROC: 0.9583 - AUPRC: 0.9433 - precision: 0.9442 - recall: 0.8003 - val_loss: 0.0269 - val_accuracy: 0.9152 - val_AUROC: 0.9663 - val_AUPRC: 0.9529 - val_precision: 0.9748 - val_recall: 0.7591\n",
      "Epoch 31/200\n",
      "203/203 [==============================] - 37s 180ms/step - loss: 0.0279 - accuracy: 0.9189 - AUROC: 0.9577 - AUPRC: 0.9435 - precision: 0.9482 - recall: 0.7984 - val_loss: 0.0275 - val_accuracy: 0.9265 - val_AUROC: 0.9657 - val_AUPRC: 0.9522 - val_precision: 0.9640 - val_recall: 0.8043\n",
      "Epoch 32/200\n",
      "202/203 [============================>.] - ETA: 0s - loss: 0.0275 - accuracy: 0.9216 - AUROC: 0.9591 - AUPRC: 0.9449 - precision: 0.9414 - recall: 0.8137INFO:tensorflow:Assets written to: GAT_model_2/cp_0032.ckpt/assets\n"
     ]
    },
    {
     "name": "stderr",
     "output_type": "stream",
     "text": [
      "INFO:tensorflow:Assets written to: GAT_model_2/cp_0032.ckpt/assets\n"
     ]
    },
    {
     "name": "stdout",
     "output_type": "stream",
     "text": [
      "203/203 [==============================] - 39s 195ms/step - loss: 0.0275 - accuracy: 0.9216 - AUROC: 0.9591 - AUPRC: 0.9449 - precision: 0.9414 - recall: 0.8137 - val_loss: 0.0263 - val_accuracy: 0.9330 - val_AUROC: 0.9687 - val_AUPRC: 0.9561 - val_precision: 0.9513 - val_recall: 0.8372\n",
      "Epoch 33/200\n",
      "203/203 [==============================] - 36s 179ms/step - loss: 0.0267 - accuracy: 0.9233 - AUROC: 0.9617 - AUPRC: 0.9479 - precision: 0.9442 - recall: 0.8166 - val_loss: 0.0258 - val_accuracy: 0.9277 - val_AUROC: 0.9670 - val_AUPRC: 0.9546 - val_precision: 0.9697 - val_recall: 0.8029\n",
      "Epoch 34/200\n",
      "202/203 [============================>.] - ETA: 0s - loss: 0.0268 - accuracy: 0.9229 - AUROC: 0.9617 - AUPRC: 0.9476 - precision: 0.9458 - recall: 0.8135INFO:tensorflow:Assets written to: GAT_model_2/cp_0034.ckpt/assets\n"
     ]
    },
    {
     "name": "stderr",
     "output_type": "stream",
     "text": [
      "INFO:tensorflow:Assets written to: GAT_model_2/cp_0034.ckpt/assets\n"
     ]
    },
    {
     "name": "stdout",
     "output_type": "stream",
     "text": [
      "203/203 [==============================] - 39s 193ms/step - loss: 0.0268 - accuracy: 0.9229 - AUROC: 0.9617 - AUPRC: 0.9476 - precision: 0.9458 - recall: 0.8135 - val_loss: 0.0268 - val_accuracy: 0.9336 - val_AUROC: 0.9685 - val_AUPRC: 0.9553 - val_precision: 0.9398 - val_recall: 0.8506\n",
      "Epoch 35/200\n",
      "203/203 [==============================] - 36s 180ms/step - loss: 0.0274 - accuracy: 0.9218 - AUROC: 0.9597 - AUPRC: 0.9456 - precision: 0.9400 - recall: 0.8157 - val_loss: 0.0292 - val_accuracy: 0.9285 - val_AUROC: 0.9661 - val_AUPRC: 0.9528 - val_precision: 0.9023 - val_recall: 0.8753\n",
      "Epoch 36/200\n",
      "203/203 [==============================] - 36s 179ms/step - loss: 0.0272 - accuracy: 0.9219 - AUROC: 0.9608 - AUPRC: 0.9463 - precision: 0.9394 - recall: 0.8165 - val_loss: 0.0277 - val_accuracy: 0.9165 - val_AUROC: 0.9678 - val_AUPRC: 0.9546 - val_precision: 0.9747 - val_recall: 0.7635\n",
      "Epoch 37/200\n",
      "202/203 [============================>.] - ETA: 0s - loss: 0.0267 - accuracy: 0.9235 - AUROC: 0.9621 - AUPRC: 0.9481 - precision: 0.9412 - recall: 0.8201INFO:tensorflow:Assets written to: GAT_model_2/cp_0037.ckpt/assets\n"
     ]
    },
    {
     "name": "stderr",
     "output_type": "stream",
     "text": [
      "INFO:tensorflow:Assets written to: GAT_model_2/cp_0037.ckpt/assets\n"
     ]
    },
    {
     "name": "stdout",
     "output_type": "stream",
     "text": [
      "203/203 [==============================] - 40s 195ms/step - loss: 0.0267 - accuracy: 0.9235 - AUROC: 0.9621 - AUPRC: 0.9480 - precision: 0.9411 - recall: 0.8201 - val_loss: 0.0250 - val_accuracy: 0.9340 - val_AUROC: 0.9709 - val_AUPRC: 0.9591 - val_precision: 0.9478 - val_recall: 0.8437\n",
      "Epoch 38/200\n",
      "203/203 [==============================] - 36s 179ms/step - loss: 0.0270 - accuracy: 0.9224 - AUROC: 0.9606 - AUPRC: 0.9469 - precision: 0.9451 - recall: 0.8126 - val_loss: 0.0303 - val_accuracy: 0.9268 - val_AUROC: 0.9678 - val_AUPRC: 0.9541 - val_precision: 0.8932 - val_recall: 0.8804\n",
      "Epoch 39/200\n",
      "202/203 [============================>.] - ETA: 0s - loss: 0.0260 - accuracy: 0.9262 - AUROC: 0.9644 - AUPRC: 0.9508 - precision: 0.9446 - recall: 0.8253INFO:tensorflow:Assets written to: GAT_model_2/cp_0039.ckpt/assets\n"
     ]
    },
    {
     "name": "stderr",
     "output_type": "stream",
     "text": [
      "INFO:tensorflow:Assets written to: GAT_model_2/cp_0039.ckpt/assets\n"
     ]
    },
    {
     "name": "stdout",
     "output_type": "stream",
     "text": [
      "203/203 [==============================] - 39s 193ms/step - loss: 0.0260 - accuracy: 0.9262 - AUROC: 0.9644 - AUPRC: 0.9508 - precision: 0.9446 - recall: 0.8254 - val_loss: 0.0264 - val_accuracy: 0.9355 - val_AUROC: 0.9716 - val_AUPRC: 0.9596 - val_precision: 0.9279 - val_recall: 0.8695\n",
      "Epoch 40/200\n",
      "203/203 [==============================] - 36s 179ms/step - loss: 0.0261 - accuracy: 0.9245 - AUROC: 0.9643 - AUPRC: 0.9507 - precision: 0.9417 - recall: 0.8226 - val_loss: 0.0254 - val_accuracy: 0.9259 - val_AUROC: 0.9685 - val_AUPRC: 0.9565 - val_precision: 0.9725 - val_recall: 0.7949\n",
      "Epoch 41/200\n",
      "202/203 [============================>.] - ETA: 0s - loss: 0.0260 - accuracy: 0.9253 - AUROC: 0.9639 - AUPRC: 0.9508 - precision: 0.9439 - recall: 0.8232INFO:tensorflow:Assets written to: GAT_model_2/cp_0041.ckpt/assets\n"
     ]
    },
    {
     "name": "stderr",
     "output_type": "stream",
     "text": [
      "INFO:tensorflow:Assets written to: GAT_model_2/cp_0041.ckpt/assets\n"
     ]
    },
    {
     "name": "stdout",
     "output_type": "stream",
     "text": [
      "203/203 [==============================] - 40s 195ms/step - loss: 0.0260 - accuracy: 0.9254 - AUROC: 0.9639 - AUPRC: 0.9508 - precision: 0.9440 - recall: 0.8233 - val_loss: 0.0246 - val_accuracy: 0.9358 - val_AUROC: 0.9714 - val_AUPRC: 0.9600 - val_precision: 0.9635 - val_recall: 0.8346\n",
      "Epoch 42/200\n",
      "203/203 [==============================] - 36s 179ms/step - loss: 0.0256 - accuracy: 0.9261 - AUROC: 0.9653 - AUPRC: 0.9519 - precision: 0.9450 - recall: 0.8246 - val_loss: 0.0254 - val_accuracy: 0.9336 - val_AUROC: 0.9701 - val_AUPRC: 0.9585 - val_precision: 0.9535 - val_recall: 0.8370\n",
      "Epoch 43/200\n",
      "203/203 [==============================] - 36s 179ms/step - loss: 0.0257 - accuracy: 0.9258 - AUROC: 0.9649 - AUPRC: 0.9516 - precision: 0.9469 - recall: 0.8219 - val_loss: 0.0267 - val_accuracy: 0.9193 - val_AUROC: 0.9693 - val_AUPRC: 0.9572 - val_precision: 0.9803 - val_recall: 0.7675\n",
      "Epoch 44/200\n",
      "203/203 [==============================] - 36s 179ms/step - loss: 0.0266 - accuracy: 0.9239 - AUROC: 0.9616 - AUPRC: 0.9485 - precision: 0.9464 - recall: 0.8164 - val_loss: 0.0273 - val_accuracy: 0.9128 - val_AUROC: 0.9685 - val_AUPRC: 0.9553 - val_precision: 0.9774 - val_recall: 0.7497\n",
      "Epoch 45/200\n",
      "202/203 [============================>.] - ETA: 0s - loss: 0.0254 - accuracy: 0.9267 - AUROC: 0.9654 - AUPRC: 0.9530 - precision: 0.9479 - recall: 0.8238INFO:tensorflow:Assets written to: GAT_model_2/cp_0045.ckpt/assets\n"
     ]
    },
    {
     "name": "stderr",
     "output_type": "stream",
     "text": [
      "INFO:tensorflow:Assets written to: GAT_model_2/cp_0045.ckpt/assets\n"
     ]
    },
    {
     "name": "stdout",
     "output_type": "stream",
     "text": [
      "203/203 [==============================] - 39s 194ms/step - loss: 0.0254 - accuracy: 0.9267 - AUROC: 0.9654 - AUPRC: 0.9530 - precision: 0.9479 - recall: 0.8238 - val_loss: 0.0254 - val_accuracy: 0.9373 - val_AUROC: 0.9728 - val_AUPRC: 0.9615 - val_precision: 0.9231 - val_recall: 0.8808\n",
      "Epoch 46/200\n",
      "202/203 [============================>.] - ETA: 0s - loss: 0.0252 - accuracy: 0.9274 - AUROC: 0.9667 - AUPRC: 0.9535 - precision: 0.9460 - recall: 0.8278INFO:tensorflow:Assets written to: GAT_model_2/cp_0046.ckpt/assets\n"
     ]
    },
    {
     "name": "stderr",
     "output_type": "stream",
     "text": [
      "INFO:tensorflow:Assets written to: GAT_model_2/cp_0046.ckpt/assets\n"
     ]
    },
    {
     "name": "stdout",
     "output_type": "stream",
     "text": [
      "203/203 [==============================] - 39s 192ms/step - loss: 0.0252 - accuracy: 0.9274 - AUROC: 0.9667 - AUPRC: 0.9535 - precision: 0.9460 - recall: 0.8278 - val_loss: 0.0256 - val_accuracy: 0.9384 - val_AUROC: 0.9730 - val_AUPRC: 0.9625 - val_precision: 0.9607 - val_recall: 0.8454\n",
      "Epoch 47/200\n",
      "203/203 [==============================] - 36s 178ms/step - loss: 0.0255 - accuracy: 0.9259 - AUROC: 0.9656 - AUPRC: 0.9527 - precision: 0.9455 - recall: 0.8236 - val_loss: 0.0237 - val_accuracy: 0.9328 - val_AUROC: 0.9743 - val_AUPRC: 0.9632 - val_precision: 0.9672 - val_recall: 0.8217\n",
      "Epoch 48/200\n",
      "203/203 [==============================] - 36s 179ms/step - loss: 0.0249 - accuracy: 0.9295 - AUROC: 0.9673 - AUPRC: 0.9546 - precision: 0.9453 - recall: 0.8352 - val_loss: 0.0243 - val_accuracy: 0.9300 - val_AUROC: 0.9708 - val_AUPRC: 0.9587 - val_precision: 0.9608 - val_recall: 0.8186\n",
      "Epoch 49/200\n",
      "203/203 [==============================] - 37s 180ms/step - loss: 0.0250 - accuracy: 0.9280 - AUROC: 0.9671 - AUPRC: 0.9541 - precision: 0.9459 - recall: 0.8297 - val_loss: 0.0231 - val_accuracy: 0.9370 - val_AUROC: 0.9759 - val_AUPRC: 0.9649 - val_precision: 0.9626 - val_recall: 0.8393\n",
      "Epoch 50/200\n",
      "202/203 [============================>.] - ETA: 0s - loss: 0.0247 - accuracy: 0.9285 - AUROC: 0.9680 - AUPRC: 0.9552 - precision: 0.9432 - recall: 0.8342INFO:tensorflow:Assets written to: GAT_model_2/cp_0050.ckpt/assets\n"
     ]
    },
    {
     "name": "stderr",
     "output_type": "stream",
     "text": [
      "INFO:tensorflow:Assets written to: GAT_model_2/cp_0050.ckpt/assets\n"
     ]
    },
    {
     "name": "stdout",
     "output_type": "stream",
     "text": [
      "203/203 [==============================] - 39s 194ms/step - loss: 0.0247 - accuracy: 0.9286 - AUROC: 0.9681 - AUPRC: 0.9552 - precision: 0.9432 - recall: 0.8342 - val_loss: 0.0246 - val_accuracy: 0.9388 - val_AUROC: 0.9732 - val_AUPRC: 0.9617 - val_precision: 0.9339 - val_recall: 0.8739\n",
      "Epoch 51/200\n",
      "202/203 [============================>.] - ETA: 0s - loss: 0.0245 - accuracy: 0.9293 - AUROC: 0.9687 - AUPRC: 0.9559 - precision: 0.9462 - recall: 0.8338INFO:tensorflow:Assets written to: GAT_model_2/cp_0051.ckpt/assets\n"
     ]
    },
    {
     "name": "stderr",
     "output_type": "stream",
     "text": [
      "INFO:tensorflow:Assets written to: GAT_model_2/cp_0051.ckpt/assets\n"
     ]
    },
    {
     "name": "stdout",
     "output_type": "stream",
     "text": [
      "203/203 [==============================] - 39s 194ms/step - loss: 0.0245 - accuracy: 0.9293 - AUROC: 0.9687 - AUPRC: 0.9560 - precision: 0.9462 - recall: 0.8337 - val_loss: 0.0236 - val_accuracy: 0.9396 - val_AUROC: 0.9741 - val_AUPRC: 0.9630 - val_precision: 0.9523 - val_recall: 0.8575\n",
      "Epoch 52/200\n",
      "203/203 [==============================] - 36s 179ms/step - loss: 0.0243 - accuracy: 0.9296 - AUROC: 0.9687 - AUPRC: 0.9566 - precision: 0.9477 - recall: 0.8333 - val_loss: 0.0244 - val_accuracy: 0.9323 - val_AUROC: 0.9707 - val_AUPRC: 0.9586 - val_precision: 0.9500 - val_recall: 0.8361\n",
      "Epoch 53/200\n",
      "203/203 [==============================] - 36s 179ms/step - loss: 0.0244 - accuracy: 0.9302 - AUROC: 0.9689 - AUPRC: 0.9564 - precision: 0.9467 - recall: 0.8361 - val_loss: 0.0225 - val_accuracy: 0.9394 - val_AUROC: 0.9761 - val_AUPRC: 0.9652 - val_precision: 0.9599 - val_recall: 0.8494\n",
      "Epoch 54/200\n",
      "203/203 [==============================] - 36s 180ms/step - loss: 0.0244 - accuracy: 0.9303 - AUROC: 0.9688 - AUPRC: 0.9562 - precision: 0.9465 - recall: 0.8367 - val_loss: 0.0239 - val_accuracy: 0.9396 - val_AUROC: 0.9764 - val_AUPRC: 0.9654 - val_precision: 0.9305 - val_recall: 0.8802\n",
      "Epoch 55/200\n",
      "203/203 [==============================] - 36s 179ms/step - loss: 0.0244 - accuracy: 0.9303 - AUROC: 0.9687 - AUPRC: 0.9564 - precision: 0.9458 - recall: 0.8374 - val_loss: 0.0226 - val_accuracy: 0.9376 - val_AUROC: 0.9763 - val_AUPRC: 0.9639 - val_precision: 0.9626 - val_recall: 0.8411\n",
      "Epoch 56/200\n",
      "203/203 [==============================] - 36s 178ms/step - loss: 0.0241 - accuracy: 0.9314 - AUROC: 0.9697 - AUPRC: 0.9576 - precision: 0.9483 - recall: 0.8385 - val_loss: 0.0562 - val_accuracy: 0.8239 - val_AUROC: 0.9677 - val_AUPRC: 0.9538 - val_precision: 0.6577 - val_recall: 0.9575\n",
      "Epoch 57/200\n",
      "203/203 [==============================] - 36s 179ms/step - loss: 0.0243 - accuracy: 0.9310 - AUROC: 0.9694 - AUPRC: 0.9566 - precision: 0.9458 - recall: 0.8396 - val_loss: 0.0224 - val_accuracy: 0.9376 - val_AUROC: 0.9767 - val_AUPRC: 0.9654 - val_precision: 0.9580 - val_recall: 0.8455\n",
      "Epoch 58/200\n",
      "202/203 [============================>.] - ETA: 0s - loss: 0.0239 - accuracy: 0.9318 - AUROC: 0.9701 - AUPRC: 0.9581 - precision: 0.9472 - recall: 0.8406INFO:tensorflow:Assets written to: GAT_model_2/cp_0058.ckpt/assets\n"
     ]
    },
    {
     "name": "stderr",
     "output_type": "stream",
     "text": [
      "INFO:tensorflow:Assets written to: GAT_model_2/cp_0058.ckpt/assets\n"
     ]
    },
    {
     "name": "stdout",
     "output_type": "stream",
     "text": [
      "203/203 [==============================] - 39s 192ms/step - loss: 0.0239 - accuracy: 0.9317 - AUROC: 0.9701 - AUPRC: 0.9581 - precision: 0.9472 - recall: 0.8406 - val_loss: 0.0231 - val_accuracy: 0.9399 - val_AUROC: 0.9772 - val_AUPRC: 0.9667 - val_precision: 0.9639 - val_recall: 0.8471\n",
      "Epoch 59/200\n",
      "202/203 [============================>.] - ETA: 0s - loss: 0.0239 - accuracy: 0.9317 - AUROC: 0.9705 - AUPRC: 0.9580 - precision: 0.9462 - recall: 0.8414INFO:tensorflow:Assets written to: GAT_model_2/cp_0059.ckpt/assets\n"
     ]
    },
    {
     "name": "stderr",
     "output_type": "stream",
     "text": [
      "INFO:tensorflow:Assets written to: GAT_model_2/cp_0059.ckpt/assets\n"
     ]
    },
    {
     "name": "stdout",
     "output_type": "stream",
     "text": [
      "203/203 [==============================] - 39s 193ms/step - loss: 0.0239 - accuracy: 0.9317 - AUROC: 0.9705 - AUPRC: 0.9580 - precision: 0.9462 - recall: 0.8414 - val_loss: 0.0223 - val_accuracy: 0.9429 - val_AUROC: 0.9779 - val_AUPRC: 0.9674 - val_precision: 0.9567 - val_recall: 0.8638\n",
      "Epoch 60/200\n",
      "203/203 [==============================] - 36s 178ms/step - loss: 0.0237 - accuracy: 0.9312 - AUROC: 0.9712 - AUPRC: 0.9589 - precision: 0.9487 - recall: 0.8372 - val_loss: 0.0242 - val_accuracy: 0.9403 - val_AUROC: 0.9756 - val_AUPRC: 0.9646 - val_precision: 0.9417 - val_recall: 0.8705\n",
      "Epoch 61/200\n",
      "203/203 [==============================] - 36s 179ms/step - loss: 0.0232 - accuracy: 0.9320 - AUROC: 0.9723 - AUPRC: 0.9604 - precision: 0.9494 - recall: 0.8392 - val_loss: 0.0246 - val_accuracy: 0.9277 - val_AUROC: 0.9712 - val_AUPRC: 0.9576 - val_precision: 0.9627 - val_recall: 0.8093\n",
      "Epoch 62/200\n",
      "203/203 [==============================] - 36s 179ms/step - loss: 0.0233 - accuracy: 0.9326 - AUROC: 0.9721 - AUPRC: 0.9600 - precision: 0.9500 - recall: 0.8404 - val_loss: 0.0215 - val_accuracy: 0.9396 - val_AUROC: 0.9789 - val_AUPRC: 0.9683 - val_precision: 0.9649 - val_recall: 0.8454\n",
      "Epoch 63/200\n",
      "203/203 [==============================] - 36s 179ms/step - loss: 0.0242 - accuracy: 0.9303 - AUROC: 0.9695 - AUPRC: 0.9570 - precision: 0.9478 - recall: 0.8354 - val_loss: 0.0257 - val_accuracy: 0.9389 - val_AUROC: 0.9766 - val_AUPRC: 0.9653 - val_precision: 0.9226 - val_recall: 0.8868\n",
      "Epoch 64/200\n",
      "203/203 [==============================] - 36s 178ms/step - loss: 0.0232 - accuracy: 0.9332 - AUROC: 0.9723 - AUPRC: 0.9601 - precision: 0.9495 - recall: 0.8431 - val_loss: 0.0260 - val_accuracy: 0.9422 - val_AUROC: 0.9784 - val_AUPRC: 0.9683 - val_precision: 0.9216 - val_recall: 0.8988\n",
      "Epoch 65/200\n",
      "202/203 [============================>.] - ETA: 0s - loss: 0.0231 - accuracy: 0.9329 - AUROC: 0.9728 - AUPRC: 0.9607 - precision: 0.9480 - recall: 0.8436INFO:tensorflow:Assets written to: GAT_model_2/cp_0065.ckpt/assets\n"
     ]
    },
    {
     "name": "stderr",
     "output_type": "stream",
     "text": [
      "INFO:tensorflow:Assets written to: GAT_model_2/cp_0065.ckpt/assets\n"
     ]
    },
    {
     "name": "stdout",
     "output_type": "stream",
     "text": [
      "203/203 [==============================] - 39s 194ms/step - loss: 0.0231 - accuracy: 0.9329 - AUROC: 0.9728 - AUPRC: 0.9607 - precision: 0.9480 - recall: 0.8436 - val_loss: 0.0216 - val_accuracy: 0.9443 - val_AUROC: 0.9802 - val_AUPRC: 0.9705 - val_precision: 0.9627 - val_recall: 0.8623\n",
      "Epoch 66/200\n",
      "203/203 [==============================] - 36s 178ms/step - loss: 0.0231 - accuracy: 0.9334 - AUROC: 0.9724 - AUPRC: 0.9603 - precision: 0.9506 - recall: 0.8425 - val_loss: 0.0229 - val_accuracy: 0.9348 - val_AUROC: 0.9767 - val_AUPRC: 0.9666 - val_precision: 0.9741 - val_recall: 0.8215\n",
      "Epoch 67/200\n",
      "203/203 [==============================] - 36s 180ms/step - loss: 0.0228 - accuracy: 0.9338 - AUROC: 0.9731 - AUPRC: 0.9616 - precision: 0.9500 - recall: 0.8442 - val_loss: 0.0249 - val_accuracy: 0.9407 - val_AUROC: 0.9771 - val_AUPRC: 0.9664 - val_precision: 0.9243 - val_recall: 0.8908\n",
      "Epoch 68/200\n",
      "202/203 [============================>.] - ETA: 0s - loss: 0.0235 - accuracy: 0.9312 - AUROC: 0.9719 - AUPRC: 0.9595 - precision: 0.9459 - recall: 0.8401INFO:tensorflow:Assets written to: GAT_model_2/cp_0068.ckpt/assets\n"
     ]
    },
    {
     "name": "stderr",
     "output_type": "stream",
     "text": [
      "INFO:tensorflow:Assets written to: GAT_model_2/cp_0068.ckpt/assets\n"
     ]
    },
    {
     "name": "stdout",
     "output_type": "stream",
     "text": [
      "203/203 [==============================] - 39s 193ms/step - loss: 0.0235 - accuracy: 0.9312 - AUROC: 0.9719 - AUPRC: 0.9595 - precision: 0.9459 - recall: 0.8401 - val_loss: 0.0210 - val_accuracy: 0.9463 - val_AUROC: 0.9811 - val_AUPRC: 0.9713 - val_precision: 0.9539 - val_recall: 0.8775\n",
      "Epoch 69/200\n",
      "203/203 [==============================] - 36s 179ms/step - loss: 0.0226 - accuracy: 0.9342 - AUROC: 0.9737 - AUPRC: 0.9623 - precision: 0.9459 - recall: 0.8497 - val_loss: 0.0223 - val_accuracy: 0.9313 - val_AUROC: 0.9793 - val_AUPRC: 0.9693 - val_precision: 0.9798 - val_recall: 0.8056\n",
      "Epoch 70/200\n",
      "203/203 [==============================] - 36s 179ms/step - loss: 0.0235 - accuracy: 0.9315 - AUROC: 0.9715 - AUPRC: 0.9592 - precision: 0.9493 - recall: 0.8377 - val_loss: 0.0229 - val_accuracy: 0.9461 - val_AUROC: 0.9797 - val_AUPRC: 0.9703 - val_precision: 0.9432 - val_recall: 0.8878\n",
      "Epoch 71/200\n",
      "203/203 [==============================] - 37s 180ms/step - loss: 0.0228 - accuracy: 0.9336 - AUROC: 0.9736 - AUPRC: 0.9615 - precision: 0.9506 - recall: 0.8430 - val_loss: 0.0225 - val_accuracy: 0.9460 - val_AUROC: 0.9814 - val_AUPRC: 0.9722 - val_precision: 0.9408 - val_recall: 0.8903\n",
      "Epoch 72/200\n",
      "203/203 [==============================] - 36s 180ms/step - loss: 0.0223 - accuracy: 0.9351 - AUROC: 0.9747 - AUPRC: 0.9632 - precision: 0.9494 - recall: 0.8492 - val_loss: 0.0212 - val_accuracy: 0.9459 - val_AUROC: 0.9805 - val_AUPRC: 0.9707 - val_precision: 0.9579 - val_recall: 0.8722\n",
      "Epoch 73/200\n",
      "203/203 [==============================] - 36s 179ms/step - loss: 0.0222 - accuracy: 0.9359 - AUROC: 0.9748 - AUPRC: 0.9635 - precision: 0.9510 - recall: 0.8502 - val_loss: 0.0249 - val_accuracy: 0.9460 - val_AUROC: 0.9821 - val_AUPRC: 0.9730 - val_precision: 0.9183 - val_recall: 0.9156\n",
      "Epoch 74/200\n",
      "203/203 [==============================] - 36s 179ms/step - loss: 0.0230 - accuracy: 0.9331 - AUROC: 0.9731 - AUPRC: 0.9610 - precision: 0.9477 - recall: 0.8444 - val_loss: 0.0257 - val_accuracy: 0.9445 - val_AUROC: 0.9813 - val_AUPRC: 0.9721 - val_precision: 0.9133 - val_recall: 0.9165\n",
      "Epoch 75/200\n",
      "203/203 [==============================] - 36s 179ms/step - loss: 0.0223 - accuracy: 0.9344 - AUROC: 0.9741 - AUPRC: 0.9632 - precision: 0.9522 - recall: 0.8439 - val_loss: 0.0233 - val_accuracy: 0.9440 - val_AUROC: 0.9793 - val_AUPRC: 0.9690 - val_precision: 0.9469 - val_recall: 0.8773\n",
      "Epoch 76/200\n",
      "203/203 [==============================] - 36s 178ms/step - loss: 0.0226 - accuracy: 0.9332 - AUROC: 0.9742 - AUPRC: 0.9625 - precision: 0.9500 - recall: 0.8424 - val_loss: 0.0283 - val_accuracy: 0.9411 - val_AUROC: 0.9779 - val_AUPRC: 0.9682 - val_precision: 0.9124 - val_recall: 0.9063\n",
      "Epoch 77/200\n",
      "203/203 [==============================] - 36s 179ms/step - loss: 0.0251 - accuracy: 0.9280 - AUROC: 0.9666 - AUPRC: 0.9538 - precision: 0.9501 - recall: 0.8259 - val_loss: 0.0217 - val_accuracy: 0.9378 - val_AUROC: 0.9799 - val_AUPRC: 0.9695 - val_precision: 0.9740 - val_recall: 0.8313\n",
      "Epoch 78/200\n",
      "203/203 [==============================] - 36s 179ms/step - loss: 0.0225 - accuracy: 0.9350 - AUROC: 0.9740 - AUPRC: 0.9624 - precision: 0.9516 - recall: 0.8465 - val_loss: 0.0199 - val_accuracy: 0.9435 - val_AUROC: 0.9824 - val_AUPRC: 0.9737 - val_precision: 0.9730 - val_recall: 0.8502\n",
      "Epoch 79/200\n",
      "202/203 [============================>.] - ETA: 0s - loss: 0.0225 - accuracy: 0.9343 - AUROC: 0.9742 - AUPRC: 0.9628 - precision: 0.9530 - recall: 0.8431INFO:tensorflow:Assets written to: GAT_model_2/cp_0079.ckpt/assets\n"
     ]
    },
    {
     "name": "stderr",
     "output_type": "stream",
     "text": [
      "INFO:tensorflow:Assets written to: GAT_model_2/cp_0079.ckpt/assets\n"
     ]
    },
    {
     "name": "stdout",
     "output_type": "stream",
     "text": [
      "203/203 [==============================] - 39s 194ms/step - loss: 0.0225 - accuracy: 0.9344 - AUROC: 0.9742 - AUPRC: 0.9628 - precision: 0.9530 - recall: 0.8431 - val_loss: 0.0209 - val_accuracy: 0.9480 - val_AUROC: 0.9806 - val_AUPRC: 0.9715 - val_precision: 0.9463 - val_recall: 0.8910\n",
      "Epoch 80/200\n",
      "203/203 [==============================] - 36s 179ms/step - loss: 0.0221 - accuracy: 0.9357 - AUROC: 0.9755 - AUPRC: 0.9641 - precision: 0.9499 - recall: 0.8506 - val_loss: 0.0245 - val_accuracy: 0.9443 - val_AUROC: 0.9792 - val_AUPRC: 0.9681 - val_precision: 0.9359 - val_recall: 0.8898\n",
      "Epoch 81/200\n",
      "203/203 [==============================] - 36s 180ms/step - loss: 0.0220 - accuracy: 0.9367 - AUROC: 0.9752 - AUPRC: 0.9640 - precision: 0.9523 - recall: 0.8514 - val_loss: 0.0210 - val_accuracy: 0.9427 - val_AUROC: 0.9806 - val_AUPRC: 0.9710 - val_precision: 0.9559 - val_recall: 0.8638\n",
      "Epoch 82/200\n",
      "203/203 [==============================] - 36s 179ms/step - loss: 0.0219 - accuracy: 0.9362 - AUROC: 0.9755 - AUPRC: 0.9646 - precision: 0.9513 - recall: 0.8506 - val_loss: 0.0199 - val_accuracy: 0.9469 - val_AUROC: 0.9825 - val_AUPRC: 0.9734 - val_precision: 0.9668 - val_recall: 0.8668\n",
      "Epoch 83/200\n",
      "203/203 [==============================] - 36s 179ms/step - loss: 0.0215 - accuracy: 0.9371 - AUROC: 0.9767 - AUPRC: 0.9657 - precision: 0.9526 - recall: 0.8524 - val_loss: 0.0241 - val_accuracy: 0.9445 - val_AUROC: 0.9817 - val_AUPRC: 0.9727 - val_precision: 0.9115 - val_recall: 0.9188\n",
      "Epoch 84/200\n",
      "203/203 [==============================] - 36s 179ms/step - loss: 0.0216 - accuracy: 0.9376 - AUROC: 0.9761 - AUPRC: 0.9655 - precision: 0.9541 - recall: 0.8522 - val_loss: 0.0195 - val_accuracy: 0.9452 - val_AUROC: 0.9830 - val_AUPRC: 0.9740 - val_precision: 0.9662 - val_recall: 0.8619\n",
      "Epoch 85/200\n",
      "203/203 [==============================] - 36s 179ms/step - loss: 0.0215 - accuracy: 0.9375 - AUROC: 0.9767 - AUPRC: 0.9658 - precision: 0.9519 - recall: 0.8543 - val_loss: 0.0271 - val_accuracy: 0.9465 - val_AUROC: 0.9810 - val_AUPRC: 0.9710 - val_precision: 0.9284 - val_recall: 0.9056\n",
      "Epoch 86/200\n",
      "203/203 [==============================] - 36s 179ms/step - loss: 0.0223 - accuracy: 0.9355 - AUROC: 0.9745 - AUPRC: 0.9632 - precision: 0.9472 - recall: 0.8524 - val_loss: 0.0201 - val_accuracy: 0.9443 - val_AUROC: 0.9824 - val_AUPRC: 0.9733 - val_precision: 0.9656 - val_recall: 0.8597\n",
      "Epoch 87/200\n",
      "202/203 [============================>.] - ETA: 0s - loss: 0.0215 - accuracy: 0.9385 - AUROC: 0.9765 - AUPRC: 0.9654 - precision: 0.9487 - recall: 0.8606INFO:tensorflow:Assets written to: GAT_model_2/cp_0087.ckpt/assets\n"
     ]
    },
    {
     "name": "stderr",
     "output_type": "stream",
     "text": [
      "INFO:tensorflow:Assets written to: GAT_model_2/cp_0087.ckpt/assets\n"
     ]
    },
    {
     "name": "stdout",
     "output_type": "stream",
     "text": [
      "203/203 [==============================] - 39s 193ms/step - loss: 0.0215 - accuracy: 0.9385 - AUROC: 0.9765 - AUPRC: 0.9655 - precision: 0.9487 - recall: 0.8606 - val_loss: 0.0202 - val_accuracy: 0.9518 - val_AUROC: 0.9829 - val_AUPRC: 0.9749 - val_precision: 0.9504 - val_recall: 0.8990\n",
      "Epoch 88/200\n",
      "203/203 [==============================] - 36s 178ms/step - loss: 0.0210 - accuracy: 0.9387 - AUROC: 0.9777 - AUPRC: 0.9673 - precision: 0.9519 - recall: 0.8580 - val_loss: 0.0351 - val_accuracy: 0.9147 - val_AUROC: 0.9824 - val_AUPRC: 0.9727 - val_precision: 0.8128 - val_recall: 0.9589\n",
      "Epoch 89/200\n",
      "203/203 [==============================] - 36s 178ms/step - loss: 0.0222 - accuracy: 0.9354 - AUROC: 0.9752 - AUPRC: 0.9638 - precision: 0.9505 - recall: 0.8491 - val_loss: 0.0210 - val_accuracy: 0.9454 - val_AUROC: 0.9832 - val_AUPRC: 0.9747 - val_precision: 0.9660 - val_recall: 0.8626\n",
      "Epoch 90/200\n",
      "203/203 [==============================] - 36s 179ms/step - loss: 0.0217 - accuracy: 0.9370 - AUROC: 0.9764 - AUPRC: 0.9652 - precision: 0.9516 - recall: 0.8529 - val_loss: 0.0212 - val_accuracy: 0.9323 - val_AUROC: 0.9818 - val_AUPRC: 0.9726 - val_precision: 0.9828 - val_recall: 0.8063\n",
      "Epoch 91/200\n",
      "203/203 [==============================] - 36s 178ms/step - loss: 0.0213 - accuracy: 0.9382 - AUROC: 0.9773 - AUPRC: 0.9664 - precision: 0.9508 - recall: 0.8576 - val_loss: 0.0274 - val_accuracy: 0.9348 - val_AUROC: 0.9828 - val_AUPRC: 0.9734 - val_precision: 0.8725 - val_recall: 0.9368\n",
      "Epoch 92/200\n",
      "203/203 [==============================] - 36s 179ms/step - loss: 0.0216 - accuracy: 0.9380 - AUROC: 0.9765 - AUPRC: 0.9653 - precision: 0.9506 - recall: 0.8572 - val_loss: 0.0224 - val_accuracy: 0.9309 - val_AUROC: 0.9814 - val_AUPRC: 0.9720 - val_precision: 0.9834 - val_recall: 0.8014\n",
      "Epoch 93/200\n",
      "203/203 [==============================] - 36s 178ms/step - loss: 0.0212 - accuracy: 0.9389 - AUROC: 0.9773 - AUPRC: 0.9667 - precision: 0.9547 - recall: 0.8559 - val_loss: 0.0207 - val_accuracy: 0.9411 - val_AUROC: 0.9817 - val_AUPRC: 0.9722 - val_precision: 0.9742 - val_recall: 0.8415\n",
      "Epoch 94/200\n",
      "203/203 [==============================] - 36s 178ms/step - loss: 0.0215 - accuracy: 0.9374 - AUROC: 0.9771 - AUPRC: 0.9660 - precision: 0.9499 - recall: 0.8561 - val_loss: 0.0215 - val_accuracy: 0.9481 - val_AUROC: 0.9831 - val_AUPRC: 0.9748 - val_precision: 0.9597 - val_recall: 0.8776\n",
      "Epoch 95/200\n",
      "203/203 [==============================] - 36s 178ms/step - loss: 0.0217 - accuracy: 0.9373 - AUROC: 0.9761 - AUPRC: 0.9651 - precision: 0.9496 - recall: 0.8559 - val_loss: 0.0241 - val_accuracy: 0.9483 - val_AUROC: 0.9845 - val_AUPRC: 0.9766 - val_precision: 0.9146 - val_recall: 0.9278\n",
      "Epoch 96/200\n",
      "203/203 [==============================] - 36s 178ms/step - loss: 0.0207 - accuracy: 0.9395 - AUROC: 0.9786 - AUPRC: 0.9681 - precision: 0.9518 - recall: 0.8607 - val_loss: 0.0237 - val_accuracy: 0.9463 - val_AUROC: 0.9833 - val_AUPRC: 0.9746 - val_precision: 0.9104 - val_recall: 0.9263\n",
      "Epoch 97/200\n",
      "202/203 [============================>.] - ETA: 0s - loss: 0.0210 - accuracy: 0.9384 - AUROC: 0.9778 - AUPRC: 0.9672 - precision: 0.9516 - recall: 0.8574INFO:tensorflow:Assets written to: GAT_model_2/cp_0097.ckpt/assets\n"
     ]
    },
    {
     "name": "stderr",
     "output_type": "stream",
     "text": [
      "INFO:tensorflow:Assets written to: GAT_model_2/cp_0097.ckpt/assets\n"
     ]
    },
    {
     "name": "stdout",
     "output_type": "stream",
     "text": [
      "203/203 [==============================] - 39s 192ms/step - loss: 0.0210 - accuracy: 0.9384 - AUROC: 0.9778 - AUPRC: 0.9672 - precision: 0.9516 - recall: 0.8574 - val_loss: 0.0191 - val_accuracy: 0.9520 - val_AUROC: 0.9846 - val_AUPRC: 0.9766 - val_precision: 0.9622 - val_recall: 0.8876\n",
      "Epoch 98/200\n",
      "203/203 [==============================] - 36s 178ms/step - loss: 0.0211 - accuracy: 0.9383 - AUROC: 0.9780 - AUPRC: 0.9669 - precision: 0.9518 - recall: 0.8570 - val_loss: 0.0222 - val_accuracy: 0.9488 - val_AUROC: 0.9819 - val_AUPRC: 0.9737 - val_precision: 0.9314 - val_recall: 0.9098\n",
      "Epoch 99/200\n",
      "203/203 [==============================] - 36s 178ms/step - loss: 0.0212 - accuracy: 0.9373 - AUROC: 0.9774 - AUPRC: 0.9666 - precision: 0.9522 - recall: 0.8534 - val_loss: 0.0209 - val_accuracy: 0.9507 - val_AUROC: 0.9841 - val_AUPRC: 0.9748 - val_precision: 0.9614 - val_recall: 0.8841\n",
      "Epoch 100/200\n",
      "203/203 [==============================] - 36s 178ms/step - loss: 0.0208 - accuracy: 0.9391 - AUROC: 0.9784 - AUPRC: 0.9678 - precision: 0.9533 - recall: 0.8579 - val_loss: 0.0239 - val_accuracy: 0.9493 - val_AUROC: 0.9837 - val_AUPRC: 0.9744 - val_precision: 0.9253 - val_recall: 0.9184\n",
      "Epoch 101/200\n",
      "203/203 [==============================] - 36s 178ms/step - loss: 0.0209 - accuracy: 0.9388 - AUROC: 0.9784 - AUPRC: 0.9675 - precision: 0.9516 - recall: 0.8586 - val_loss: 0.0207 - val_accuracy: 0.9382 - val_AUROC: 0.9838 - val_AUPRC: 0.9752 - val_precision: 0.9810 - val_recall: 0.8262\n",
      "Epoch 102/200\n",
      "203/203 [==============================] - 36s 178ms/step - loss: 0.0212 - accuracy: 0.9376 - AUROC: 0.9775 - AUPRC: 0.9667 - precision: 0.9528 - recall: 0.8538 - val_loss: 0.0301 - val_accuracy: 0.9365 - val_AUROC: 0.9834 - val_AUPRC: 0.9740 - val_precision: 0.8733 - val_recall: 0.9416\n",
      "Epoch 103/200\n",
      "202/203 [============================>.] - ETA: 0s - loss: 0.0206 - accuracy: 0.9399 - AUROC: 0.9788 - AUPRC: 0.9681 - precision: 0.9529 - recall: 0.8609INFO:tensorflow:Assets written to: GAT_model_2/cp_0103.ckpt/assets\n"
     ]
    },
    {
     "name": "stderr",
     "output_type": "stream",
     "text": [
      "INFO:tensorflow:Assets written to: GAT_model_2/cp_0103.ckpt/assets\n"
     ]
    },
    {
     "name": "stdout",
     "output_type": "stream",
     "text": [
      "203/203 [==============================] - 39s 194ms/step - loss: 0.0206 - accuracy: 0.9399 - AUROC: 0.9788 - AUPRC: 0.9681 - precision: 0.9529 - recall: 0.8609 - val_loss: 0.0187 - val_accuracy: 0.9537 - val_AUROC: 0.9859 - val_AUPRC: 0.9785 - val_precision: 0.9574 - val_recall: 0.8976\n",
      "Epoch 104/200\n",
      "203/203 [==============================] - 36s 177ms/step - loss: 0.0214 - accuracy: 0.9368 - AUROC: 0.9769 - AUPRC: 0.9661 - precision: 0.9520 - recall: 0.8520 - val_loss: 0.0187 - val_accuracy: 0.9535 - val_AUROC: 0.9858 - val_AUPRC: 0.9783 - val_precision: 0.9542 - val_recall: 0.9005\n",
      "Epoch 105/200\n",
      "203/203 [==============================] - 36s 179ms/step - loss: 0.0211 - accuracy: 0.9387 - AUROC: 0.9777 - AUPRC: 0.9669 - precision: 0.9516 - recall: 0.8586 - val_loss: 0.0193 - val_accuracy: 0.9469 - val_AUROC: 0.9844 - val_AUPRC: 0.9756 - val_precision: 0.9665 - val_recall: 0.8671\n",
      "Epoch 106/200\n",
      "203/203 [==============================] - 36s 179ms/step - loss: 0.0209 - accuracy: 0.9395 - AUROC: 0.9783 - AUPRC: 0.9677 - precision: 0.9521 - recall: 0.8604 - val_loss: 0.0198 - val_accuracy: 0.9484 - val_AUROC: 0.9825 - val_AUPRC: 0.9737 - val_precision: 0.9478 - val_recall: 0.8905\n",
      "Epoch 107/200\n",
      "203/203 [==============================] - 36s 178ms/step - loss: 0.0215 - accuracy: 0.9371 - AUROC: 0.9773 - AUPRC: 0.9659 - precision: 0.9479 - recall: 0.8569 - val_loss: 0.0200 - val_accuracy: 0.9509 - val_AUROC: 0.9845 - val_AUPRC: 0.9762 - val_precision: 0.9409 - val_recall: 0.9062\n",
      "Epoch 108/200\n",
      "203/203 [==============================] - 36s 179ms/step - loss: 0.0204 - accuracy: 0.9406 - AUROC: 0.9790 - AUPRC: 0.9689 - precision: 0.9518 - recall: 0.8643 - val_loss: 0.0209 - val_accuracy: 0.9493 - val_AUROC: 0.9838 - val_AUPRC: 0.9749 - val_precision: 0.9425 - val_recall: 0.8993\n",
      "Epoch 109/200\n",
      "203/203 [==============================] - 36s 178ms/step - loss: 0.0202 - accuracy: 0.9403 - AUROC: 0.9798 - AUPRC: 0.9695 - precision: 0.9527 - recall: 0.8624 - val_loss: 0.0353 - val_accuracy: 0.9105 - val_AUROC: 0.9833 - val_AUPRC: 0.9762 - val_precision: 0.8020 - val_recall: 0.9631\n",
      "Epoch 110/200\n",
      "203/203 [==============================] - 36s 179ms/step - loss: 0.0202 - accuracy: 0.9408 - AUROC: 0.9797 - AUPRC: 0.9697 - precision: 0.9551 - recall: 0.8616 - val_loss: 0.0239 - val_accuracy: 0.9506 - val_AUROC: 0.9827 - val_AUPRC: 0.9748 - val_precision: 0.9348 - val_recall: 0.9120\n",
      "Epoch 111/200\n",
      "203/203 [==============================] - 36s 178ms/step - loss: 0.0210 - accuracy: 0.9393 - AUROC: 0.9783 - AUPRC: 0.9673 - precision: 0.9484 - recall: 0.8635 - val_loss: 0.0189 - val_accuracy: 0.9523 - val_AUROC: 0.9855 - val_AUPRC: 0.9777 - val_precision: 0.9559 - val_recall: 0.8949\n",
      "Epoch 112/200\n",
      "203/203 [==============================] - 36s 178ms/step - loss: 0.0200 - accuracy: 0.9426 - AUROC: 0.9802 - AUPRC: 0.9702 - precision: 0.9526 - recall: 0.8698 - val_loss: 0.0213 - val_accuracy: 0.9520 - val_AUROC: 0.9849 - val_AUPRC: 0.9766 - val_precision: 0.9328 - val_recall: 0.9187\n",
      "Epoch 113/200\n",
      "203/203 [==============================] - 36s 178ms/step - loss: 0.0200 - accuracy: 0.9416 - AUROC: 0.9803 - AUPRC: 0.9702 - precision: 0.9530 - recall: 0.8663 - val_loss: 0.0186 - val_accuracy: 0.9488 - val_AUROC: 0.9852 - val_AUPRC: 0.9774 - val_precision: 0.9741 - val_recall: 0.8657\n",
      "Epoch 114/200\n",
      "203/203 [==============================] - 36s 178ms/step - loss: 0.0201 - accuracy: 0.9413 - AUROC: 0.9800 - AUPRC: 0.9698 - precision: 0.9526 - recall: 0.8656 - val_loss: 0.0174 - val_accuracy: 0.9493 - val_AUROC: 0.9867 - val_AUPRC: 0.9791 - val_precision: 0.9705 - val_recall: 0.8708\n",
      "Epoch 115/200\n",
      "202/203 [============================>.] - ETA: 0s - loss: 0.0201 - accuracy: 0.9409 - AUROC: 0.9802 - AUPRC: 0.9699 - precision: 0.9512 - recall: 0.8657INFO:tensorflow:Assets written to: GAT_model_2/cp_0115.ckpt/assets\n"
     ]
    },
    {
     "name": "stderr",
     "output_type": "stream",
     "text": [
      "INFO:tensorflow:Assets written to: GAT_model_2/cp_0115.ckpt/assets\n"
     ]
    },
    {
     "name": "stdout",
     "output_type": "stream",
     "text": [
      "203/203 [==============================] - 39s 193ms/step - loss: 0.0201 - accuracy: 0.9409 - AUROC: 0.9802 - AUPRC: 0.9699 - precision: 0.9512 - recall: 0.8657 - val_loss: 0.0203 - val_accuracy: 0.9547 - val_AUROC: 0.9870 - val_AUPRC: 0.9792 - val_precision: 0.9407 - val_recall: 0.9189\n",
      "Epoch 116/200\n",
      "203/203 [==============================] - 36s 178ms/step - loss: 0.0199 - accuracy: 0.9421 - AUROC: 0.9803 - AUPRC: 0.9704 - precision: 0.9540 - recall: 0.8669 - val_loss: 0.0195 - val_accuracy: 0.9513 - val_AUROC: 0.9843 - val_AUPRC: 0.9764 - val_precision: 0.9624 - val_recall: 0.8851\n",
      "Epoch 117/200\n",
      "203/203 [==============================] - 36s 179ms/step - loss: 0.0202 - accuracy: 0.9411 - AUROC: 0.9798 - AUPRC: 0.9695 - precision: 0.9523 - recall: 0.8653 - val_loss: 0.0296 - val_accuracy: 0.9331 - val_AUROC: 0.9853 - val_AUPRC: 0.9769 - val_precision: 0.8567 - val_recall: 0.9544\n",
      "Epoch 118/200\n",
      "203/203 [==============================] - 36s 178ms/step - loss: 0.0204 - accuracy: 0.9402 - AUROC: 0.9797 - AUPRC: 0.9692 - precision: 0.9499 - recall: 0.8648 - val_loss: 0.0262 - val_accuracy: 0.9462 - val_AUROC: 0.9826 - val_AUPRC: 0.9724 - val_precision: 0.9145 - val_recall: 0.9208\n",
      "Epoch 119/200\n",
      "203/203 [==============================] - 36s 178ms/step - loss: 0.0213 - accuracy: 0.9372 - AUROC: 0.9775 - AUPRC: 0.9666 - precision: 0.9501 - recall: 0.8551 - val_loss: 0.0224 - val_accuracy: 0.9495 - val_AUROC: 0.9864 - val_AUPRC: 0.9782 - val_precision: 0.9095 - val_recall: 0.9381\n",
      "Epoch 120/200\n",
      "203/203 [==============================] - 36s 178ms/step - loss: 0.0201 - accuracy: 0.9409 - AUROC: 0.9799 - AUPRC: 0.9700 - precision: 0.9532 - recall: 0.8639 - val_loss: 0.0199 - val_accuracy: 0.9411 - val_AUROC: 0.9844 - val_AUPRC: 0.9762 - val_precision: 0.9782 - val_recall: 0.8377\n",
      "Epoch 121/200\n",
      "203/203 [==============================] - 36s 178ms/step - loss: 0.0196 - accuracy: 0.9422 - AUROC: 0.9812 - AUPRC: 0.9712 - precision: 0.9524 - recall: 0.8686 - val_loss: 0.0193 - val_accuracy: 0.9502 - val_AUROC: 0.9858 - val_AUPRC: 0.9782 - val_precision: 0.9710 - val_recall: 0.8732\n",
      "Epoch 122/200\n",
      "203/203 [==============================] - 36s 178ms/step - loss: 0.0200 - accuracy: 0.9419 - AUROC: 0.9802 - AUPRC: 0.9701 - precision: 0.9556 - recall: 0.8646 - val_loss: 0.0205 - val_accuracy: 0.9527 - val_AUROC: 0.9853 - val_AUPRC: 0.9777 - val_precision: 0.9433 - val_recall: 0.9093\n",
      "Epoch 123/200\n",
      "202/203 [============================>.] - ETA: 0s - loss: 0.0195 - accuracy: 0.9420 - AUROC: 0.9814 - AUPRC: 0.9719 - precision: 0.9549 - recall: 0.8657INFO:tensorflow:Assets written to: GAT_model_2/cp_0123.ckpt/assets\n"
     ]
    },
    {
     "name": "stderr",
     "output_type": "stream",
     "text": [
      "INFO:tensorflow:Assets written to: GAT_model_2/cp_0123.ckpt/assets\n"
     ]
    },
    {
     "name": "stdout",
     "output_type": "stream",
     "text": [
      "203/203 [==============================] - 39s 192ms/step - loss: 0.0195 - accuracy: 0.9421 - AUROC: 0.9814 - AUPRC: 0.9719 - precision: 0.9549 - recall: 0.8657 - val_loss: 0.0180 - val_accuracy: 0.9561 - val_AUROC: 0.9873 - val_AUPRC: 0.9796 - val_precision: 0.9625 - val_recall: 0.9003\n",
      "Epoch 124/200\n",
      "203/203 [==============================] - 36s 178ms/step - loss: 0.0200 - accuracy: 0.9412 - AUROC: 0.9803 - AUPRC: 0.9701 - precision: 0.9530 - recall: 0.8649 - val_loss: 0.0193 - val_accuracy: 0.9376 - val_AUROC: 0.9853 - val_AUPRC: 0.9772 - val_precision: 0.9812 - val_recall: 0.8243\n",
      "Epoch 125/200\n",
      "202/203 [============================>.] - ETA: 0s - loss: 0.0193 - accuracy: 0.9425 - AUROC: 0.9819 - AUPRC: 0.9723 - precision: 0.9535 - recall: 0.8686INFO:tensorflow:Assets written to: GAT_model_2/cp_0125.ckpt/assets\n"
     ]
    },
    {
     "name": "stderr",
     "output_type": "stream",
     "text": [
      "INFO:tensorflow:Assets written to: GAT_model_2/cp_0125.ckpt/assets\n"
     ]
    },
    {
     "name": "stdout",
     "output_type": "stream",
     "text": [
      "203/203 [==============================] - 39s 193ms/step - loss: 0.0193 - accuracy: 0.9425 - AUROC: 0.9819 - AUPRC: 0.9723 - precision: 0.9535 - recall: 0.8686 - val_loss: 0.0187 - val_accuracy: 0.9569 - val_AUROC: 0.9880 - val_AUPRC: 0.9813 - val_precision: 0.9514 - val_recall: 0.9143\n",
      "Epoch 126/200\n",
      "203/203 [==============================] - 36s 178ms/step - loss: 0.0195 - accuracy: 0.9426 - AUROC: 0.9814 - AUPRC: 0.9716 - precision: 0.9521 - recall: 0.8702 - val_loss: 0.0184 - val_accuracy: 0.9525 - val_AUROC: 0.9867 - val_AUPRC: 0.9786 - val_precision: 0.9590 - val_recall: 0.8922\n",
      "Epoch 127/200\n",
      "203/203 [==============================] - 36s 178ms/step - loss: 0.0192 - accuracy: 0.9436 - AUROC: 0.9820 - AUPRC: 0.9723 - precision: 0.9523 - recall: 0.8734 - val_loss: 0.0176 - val_accuracy: 0.9527 - val_AUROC: 0.9870 - val_AUPRC: 0.9797 - val_precision: 0.9673 - val_recall: 0.8847\n",
      "Epoch 128/200\n",
      "203/203 [==============================] - 36s 179ms/step - loss: 0.0196 - accuracy: 0.9419 - AUROC: 0.9812 - AUPRC: 0.9712 - precision: 0.9524 - recall: 0.8678 - val_loss: 0.0199 - val_accuracy: 0.9512 - val_AUROC: 0.9855 - val_AUPRC: 0.9767 - val_precision: 0.9444 - val_recall: 0.9033\n",
      "Epoch 129/200\n",
      "203/203 [==============================] - 36s 178ms/step - loss: 0.0195 - accuracy: 0.9413 - AUROC: 0.9812 - AUPRC: 0.9716 - precision: 0.9518 - recall: 0.8665 - val_loss: 0.0186 - val_accuracy: 0.9410 - val_AUROC: 0.9865 - val_AUPRC: 0.9791 - val_precision: 0.9839 - val_recall: 0.8326\n",
      "Epoch 130/200\n",
      "203/203 [==============================] - 36s 179ms/step - loss: 0.0204 - accuracy: 0.9405 - AUROC: 0.9793 - AUPRC: 0.9692 - precision: 0.9519 - recall: 0.8640 - val_loss: 0.0272 - val_accuracy: 0.9415 - val_AUROC: 0.9849 - val_AUPRC: 0.9760 - val_precision: 0.8851 - val_recall: 0.9429\n",
      "Epoch 131/200\n",
      "203/203 [==============================] - 36s 178ms/step - loss: 0.0198 - accuracy: 0.9424 - AUROC: 0.9808 - AUPRC: 0.9708 - precision: 0.9518 - recall: 0.8700 - val_loss: 0.0204 - val_accuracy: 0.9544 - val_AUROC: 0.9862 - val_AUPRC: 0.9785 - val_precision: 0.9292 - val_recall: 0.9308\n",
      "Epoch 132/200\n",
      "203/203 [==============================] - 36s 178ms/step - loss: 0.0194 - accuracy: 0.9431 - AUROC: 0.9818 - AUPRC: 0.9720 - precision: 0.9525 - recall: 0.8716 - val_loss: 0.0170 - val_accuracy: 0.9566 - val_AUROC: 0.9885 - val_AUPRC: 0.9821 - val_precision: 0.9734 - val_recall: 0.8910\n",
      "Epoch 133/200\n",
      "203/203 [==============================] - 36s 178ms/step - loss: 0.0190 - accuracy: 0.9444 - AUROC: 0.9822 - AUPRC: 0.9729 - precision: 0.9547 - recall: 0.8736 - val_loss: 0.0172 - val_accuracy: 0.9528 - val_AUROC: 0.9876 - val_AUPRC: 0.9810 - val_precision: 0.9746 - val_recall: 0.8781\n",
      "Epoch 134/200\n",
      "203/203 [==============================] - 36s 178ms/step - loss: 0.0197 - accuracy: 0.9424 - AUROC: 0.9809 - AUPRC: 0.9711 - precision: 0.9534 - recall: 0.8684 - val_loss: 0.0245 - val_accuracy: 0.9480 - val_AUROC: 0.9869 - val_AUPRC: 0.9799 - val_precision: 0.8984 - val_recall: 0.9474\n",
      "Epoch 135/200\n",
      "203/203 [==============================] - 36s 178ms/step - loss: 0.0192 - accuracy: 0.9435 - AUROC: 0.9821 - AUPRC: 0.9726 - precision: 0.9531 - recall: 0.8722 - val_loss: 0.0182 - val_accuracy: 0.9547 - val_AUROC: 0.9873 - val_AUPRC: 0.9795 - val_precision: 0.9608 - val_recall: 0.8974\n",
      "Epoch 136/200\n",
      "203/203 [==============================] - 36s 178ms/step - loss: 0.0195 - accuracy: 0.9432 - AUROC: 0.9817 - AUPRC: 0.9716 - precision: 0.9527 - recall: 0.8717 - val_loss: 0.0201 - val_accuracy: 0.9548 - val_AUROC: 0.9872 - val_AUPRC: 0.9791 - val_precision: 0.9493 - val_recall: 0.9099\n",
      "Epoch 137/200\n",
      "203/203 [==============================] - 36s 178ms/step - loss: 0.0198 - accuracy: 0.9429 - AUROC: 0.9807 - AUPRC: 0.9705 - precision: 0.9529 - recall: 0.8704 - val_loss: 0.0195 - val_accuracy: 0.9362 - val_AUROC: 0.9848 - val_AUPRC: 0.9764 - val_precision: 0.9848 - val_recall: 0.8168\n",
      "Epoch 138/200\n",
      "203/203 [==============================] - 36s 178ms/step - loss: 0.0195 - accuracy: 0.9430 - AUROC: 0.9814 - AUPRC: 0.9716 - precision: 0.9522 - recall: 0.8715 - val_loss: 0.0203 - val_accuracy: 0.9533 - val_AUROC: 0.9859 - val_AUPRC: 0.9782 - val_precision: 0.9382 - val_recall: 0.9169\n",
      "Epoch 139/200\n",
      "203/203 [==============================] - 36s 178ms/step - loss: 0.0191 - accuracy: 0.9445 - AUROC: 0.9822 - AUPRC: 0.9726 - precision: 0.9532 - recall: 0.8750 - val_loss: 0.0195 - val_accuracy: 0.9559 - val_AUROC: 0.9876 - val_AUPRC: 0.9809 - val_precision: 0.9413 - val_recall: 0.9221\n",
      "Epoch 140/200\n",
      "203/203 [==============================] - 36s 177ms/step - loss: 0.0190 - accuracy: 0.9438 - AUROC: 0.9826 - AUPRC: 0.9731 - precision: 0.9529 - recall: 0.8734 - val_loss: 0.0210 - val_accuracy: 0.9553 - val_AUROC: 0.9880 - val_AUPRC: 0.9811 - val_precision: 0.9331 - val_recall: 0.9295\n",
      "Epoch 141/200\n",
      "202/203 [============================>.] - ETA: 0s - loss: 0.0192 - accuracy: 0.9435 - AUROC: 0.9820 - AUPRC: 0.9724 - precision: 0.9515 - recall: 0.8739INFO:tensorflow:Assets written to: GAT_model_2/cp_0141.ckpt/assets\n"
     ]
    },
    {
     "name": "stderr",
     "output_type": "stream",
     "text": [
      "INFO:tensorflow:Assets written to: GAT_model_2/cp_0141.ckpt/assets\n"
     ]
    },
    {
     "name": "stdout",
     "output_type": "stream",
     "text": [
      "203/203 [==============================] - 39s 193ms/step - loss: 0.0192 - accuracy: 0.9435 - AUROC: 0.9820 - AUPRC: 0.9724 - precision: 0.9515 - recall: 0.8739 - val_loss: 0.0185 - val_accuracy: 0.9601 - val_AUROC: 0.9888 - val_AUPRC: 0.9822 - val_precision: 0.9540 - val_recall: 0.9219\n",
      "Epoch 142/200\n",
      "203/203 [==============================] - 36s 178ms/step - loss: 0.0191 - accuracy: 0.9440 - AUROC: 0.9822 - AUPRC: 0.9725 - precision: 0.9536 - recall: 0.8734 - val_loss: 0.0183 - val_accuracy: 0.9542 - val_AUROC: 0.9872 - val_AUPRC: 0.9795 - val_precision: 0.9602 - val_recall: 0.8966\n",
      "Epoch 143/200\n",
      "203/203 [==============================] - 36s 178ms/step - loss: 0.0194 - accuracy: 0.9422 - AUROC: 0.9815 - AUPRC: 0.9720 - precision: 0.9534 - recall: 0.8678 - val_loss: 0.0415 - val_accuracy: 0.8898 - val_AUROC: 0.9802 - val_AUPRC: 0.9689 - val_precision: 0.7603 - val_recall: 0.9660\n",
      "Epoch 144/200\n",
      "203/203 [==============================] - 36s 179ms/step - loss: 0.0212 - accuracy: 0.9374 - AUROC: 0.9783 - AUPRC: 0.9662 - precision: 0.9479 - recall: 0.8581 - val_loss: 0.0220 - val_accuracy: 0.9521 - val_AUROC: 0.9860 - val_AUPRC: 0.9783 - val_precision: 0.9200 - val_recall: 0.9341\n",
      "Epoch 145/200\n",
      "203/203 [==============================] - 36s 178ms/step - loss: 0.0198 - accuracy: 0.9431 - AUROC: 0.9811 - AUPRC: 0.9702 - precision: 0.9521 - recall: 0.8720 - val_loss: 0.0199 - val_accuracy: 0.9566 - val_AUROC: 0.9871 - val_AUPRC: 0.9790 - val_precision: 0.9580 - val_recall: 0.9066\n",
      "Epoch 146/200\n",
      "203/203 [==============================] - 36s 179ms/step - loss: 0.0193 - accuracy: 0.9446 - AUROC: 0.9821 - AUPRC: 0.9716 - precision: 0.9521 - recall: 0.8768 - val_loss: 0.0181 - val_accuracy: 0.9501 - val_AUROC: 0.9866 - val_AUPRC: 0.9776 - val_precision: 0.9686 - val_recall: 0.8752\n",
      "Epoch 147/200\n",
      "203/203 [==============================] - 36s 178ms/step - loss: 0.0193 - accuracy: 0.9439 - AUROC: 0.9821 - AUPRC: 0.9722 - precision: 0.9526 - recall: 0.8740 - val_loss: 0.0171 - val_accuracy: 0.9564 - val_AUROC: 0.9890 - val_AUPRC: 0.9825 - val_precision: 0.9701 - val_recall: 0.8936\n",
      "Epoch 148/200\n",
      "203/203 [==============================] - 36s 178ms/step - loss: 0.0193 - accuracy: 0.9435 - AUROC: 0.9822 - AUPRC: 0.9723 - precision: 0.9520 - recall: 0.8731 - val_loss: 0.0166 - val_accuracy: 0.9561 - val_AUROC: 0.9880 - val_AUPRC: 0.9815 - val_precision: 0.9661 - val_recall: 0.8967\n",
      "Epoch 149/200\n",
      "203/203 [==============================] - 36s 178ms/step - loss: 0.0191 - accuracy: 0.9447 - AUROC: 0.9824 - AUPRC: 0.9728 - precision: 0.9516 - recall: 0.8773 - val_loss: 0.0169 - val_accuracy: 0.9532 - val_AUROC: 0.9883 - val_AUPRC: 0.9816 - val_precision: 0.9729 - val_recall: 0.8809\n",
      "Epoch 150/200\n",
      "203/203 [==============================] - 36s 179ms/step - loss: 0.0188 - accuracy: 0.9459 - AUROC: 0.9829 - AUPRC: 0.9736 - precision: 0.9544 - recall: 0.8785 - val_loss: 0.0212 - val_accuracy: 0.9551 - val_AUROC: 0.9888 - val_AUPRC: 0.9823 - val_precision: 0.9201 - val_recall: 0.9441\n",
      "Epoch 151/200\n",
      "203/203 [==============================] - 36s 178ms/step - loss: 0.0193 - accuracy: 0.9429 - AUROC: 0.9819 - AUPRC: 0.9722 - precision: 0.9525 - recall: 0.8708 - val_loss: 0.0166 - val_accuracy: 0.9540 - val_AUROC: 0.9883 - val_AUPRC: 0.9820 - val_precision: 0.9779 - val_recall: 0.8787\n",
      "Epoch 152/200\n",
      "203/203 [==============================] - 36s 178ms/step - loss: 0.0192 - accuracy: 0.9439 - AUROC: 0.9820 - AUPRC: 0.9725 - precision: 0.9559 - recall: 0.8705 - val_loss: 0.0230 - val_accuracy: 0.9456 - val_AUROC: 0.9845 - val_AUPRC: 0.9765 - val_precision: 0.8993 - val_recall: 0.9380\n",
      "Epoch 153/200\n",
      "203/203 [==============================] - 36s 178ms/step - loss: 0.0188 - accuracy: 0.9453 - AUROC: 0.9829 - AUPRC: 0.9735 - precision: 0.9537 - recall: 0.8774 - val_loss: 0.0186 - val_accuracy: 0.9585 - val_AUROC: 0.9890 - val_AUPRC: 0.9827 - val_precision: 0.9355 - val_recall: 0.9372\n",
      "Epoch 154/200\n",
      "203/203 [==============================] - 36s 177ms/step - loss: 0.0184 - accuracy: 0.9459 - AUROC: 0.9835 - AUPRC: 0.9746 - precision: 0.9552 - recall: 0.8776 - val_loss: 0.0173 - val_accuracy: 0.9572 - val_AUROC: 0.9885 - val_AUPRC: 0.9824 - val_precision: 0.9656 - val_recall: 0.9007\n",
      "Epoch 155/200\n",
      "203/203 [==============================] - 36s 178ms/step - loss: 0.0183 - accuracy: 0.9460 - AUROC: 0.9840 - AUPRC: 0.9749 - precision: 0.9543 - recall: 0.8790 - val_loss: 0.0182 - val_accuracy: 0.9556 - val_AUROC: 0.9874 - val_AUPRC: 0.9803 - val_precision: 0.9485 - val_recall: 0.9134\n",
      "Epoch 156/200\n",
      "203/203 [==============================] - 36s 177ms/step - loss: 0.0187 - accuracy: 0.9458 - AUROC: 0.9830 - AUPRC: 0.9739 - precision: 0.9543 - recall: 0.8782 - val_loss: 0.0174 - val_accuracy: 0.9544 - val_AUROC: 0.9876 - val_AUPRC: 0.9810 - val_precision: 0.9688 - val_recall: 0.8885\n",
      "Epoch 157/200\n",
      "203/203 [==============================] - 36s 178ms/step - loss: 0.0189 - accuracy: 0.9447 - AUROC: 0.9827 - AUPRC: 0.9732 - precision: 0.9510 - recall: 0.8780 - val_loss: 0.0174 - val_accuracy: 0.9576 - val_AUROC: 0.9885 - val_AUPRC: 0.9817 - val_precision: 0.9546 - val_recall: 0.9133\n",
      "Epoch 158/200\n",
      "203/203 [==============================] - 36s 178ms/step - loss: 0.0194 - accuracy: 0.9423 - AUROC: 0.9815 - AUPRC: 0.9720 - precision: 0.9547 - recall: 0.8669 - val_loss: 0.0178 - val_accuracy: 0.9551 - val_AUROC: 0.9880 - val_AUPRC: 0.9812 - val_precision: 0.9587 - val_recall: 0.9009\n",
      "Epoch 159/200\n",
      "203/203 [==============================] - 36s 178ms/step - loss: 0.0188 - accuracy: 0.9447 - AUROC: 0.9828 - AUPRC: 0.9739 - precision: 0.9537 - recall: 0.8752 - val_loss: 0.0211 - val_accuracy: 0.9554 - val_AUROC: 0.9880 - val_AUPRC: 0.9804 - val_precision: 0.9299 - val_recall: 0.9334\n",
      "Epoch 160/200\n",
      "203/203 [==============================] - 36s 178ms/step - loss: 0.0183 - accuracy: 0.9459 - AUROC: 0.9838 - AUPRC: 0.9748 - precision: 0.9506 - recall: 0.8822 - val_loss: 0.0189 - val_accuracy: 0.9599 - val_AUROC: 0.9896 - val_AUPRC: 0.9832 - val_precision: 0.9517 - val_recall: 0.9237\n",
      "Epoch 161/200\n",
      "203/203 [==============================] - 36s 178ms/step - loss: 0.0188 - accuracy: 0.9449 - AUROC: 0.9830 - AUPRC: 0.9738 - precision: 0.9528 - recall: 0.8770 - val_loss: 0.0191 - val_accuracy: 0.9410 - val_AUROC: 0.9850 - val_AUPRC: 0.9768 - val_precision: 0.9806 - val_recall: 0.8353\n",
      "Epoch 162/200\n",
      "203/203 [==============================] - 36s 177ms/step - loss: 0.0186 - accuracy: 0.9458 - AUROC: 0.9832 - AUPRC: 0.9740 - precision: 0.9543 - recall: 0.8783 - val_loss: 0.0182 - val_accuracy: 0.9544 - val_AUROC: 0.9888 - val_AUPRC: 0.9821 - val_precision: 0.9686 - val_recall: 0.8889\n",
      "Epoch 163/200\n",
      "203/203 [==============================] - 36s 177ms/step - loss: 0.0183 - accuracy: 0.9461 - AUROC: 0.9841 - AUPRC: 0.9749 - precision: 0.9508 - recall: 0.8828 - val_loss: 0.0268 - val_accuracy: 0.9404 - val_AUROC: 0.9878 - val_AUPRC: 0.9804 - val_precision: 0.8692 - val_recall: 0.9616\n",
      "Epoch 164/200\n",
      "203/203 [==============================] - 36s 178ms/step - loss: 0.0183 - accuracy: 0.9462 - AUROC: 0.9838 - AUPRC: 0.9751 - precision: 0.9543 - recall: 0.8794 - val_loss: 0.0254 - val_accuracy: 0.9450 - val_AUROC: 0.9888 - val_AUPRC: 0.9822 - val_precision: 0.8810 - val_recall: 0.9608\n",
      "Epoch 165/200\n",
      "202/203 [============================>.] - ETA: 0s - loss: 0.0182 - accuracy: 0.9474 - AUROC: 0.9839 - AUPRC: 0.9753 - precision: 0.9545 - recall: 0.8832INFO:tensorflow:Assets written to: GAT_model_2/cp_0165.ckpt/assets\n"
     ]
    },
    {
     "name": "stderr",
     "output_type": "stream",
     "text": [
      "INFO:tensorflow:Assets written to: GAT_model_2/cp_0165.ckpt/assets\n"
     ]
    },
    {
     "name": "stdout",
     "output_type": "stream",
     "text": [
      "203/203 [==============================] - 39s 191ms/step - loss: 0.0182 - accuracy: 0.9474 - AUROC: 0.9839 - AUPRC: 0.9753 - precision: 0.9546 - recall: 0.8832 - val_loss: 0.0175 - val_accuracy: 0.9617 - val_AUROC: 0.9901 - val_AUPRC: 0.9844 - val_precision: 0.9434 - val_recall: 0.9387\n",
      "Epoch 166/200\n",
      "203/203 [==============================] - 36s 178ms/step - loss: 0.0182 - accuracy: 0.9468 - AUROC: 0.9840 - AUPRC: 0.9751 - precision: 0.9528 - recall: 0.8829 - val_loss: 0.0210 - val_accuracy: 0.9593 - val_AUROC: 0.9900 - val_AUPRC: 0.9841 - val_precision: 0.9312 - val_recall: 0.9448\n",
      "Epoch 167/200\n",
      "203/203 [==============================] - 36s 178ms/step - loss: 0.0186 - accuracy: 0.9462 - AUROC: 0.9833 - AUPRC: 0.9742 - precision: 0.9528 - recall: 0.8809 - val_loss: 0.0160 - val_accuracy: 0.9606 - val_AUROC: 0.9901 - val_AUPRC: 0.9845 - val_precision: 0.9613 - val_recall: 0.9161\n",
      "Epoch 168/200\n",
      "203/203 [==============================] - 36s 178ms/step - loss: 0.0182 - accuracy: 0.9468 - AUROC: 0.9838 - AUPRC: 0.9752 - precision: 0.9543 - recall: 0.8814 - val_loss: 0.0160 - val_accuracy: 0.9556 - val_AUROC: 0.9899 - val_AUPRC: 0.9842 - val_precision: 0.9752 - val_recall: 0.8863\n",
      "Epoch 169/200\n",
      "203/203 [==============================] - 36s 178ms/step - loss: 0.0185 - accuracy: 0.9466 - AUROC: 0.9832 - AUPRC: 0.9744 - precision: 0.9545 - recall: 0.8806 - val_loss: 0.0173 - val_accuracy: 0.9498 - val_AUROC: 0.9874 - val_AUPRC: 0.9795 - val_precision: 0.9707 - val_recall: 0.8724\n",
      "Epoch 170/200\n",
      "203/203 [==============================] - 36s 178ms/step - loss: 0.0189 - accuracy: 0.9439 - AUROC: 0.9829 - AUPRC: 0.9732 - precision: 0.9517 - recall: 0.8747 - val_loss: 0.0187 - val_accuracy: 0.9541 - val_AUROC: 0.9854 - val_AUPRC: 0.9772 - val_precision: 0.9609 - val_recall: 0.8954\n",
      "Epoch 171/200\n",
      "203/203 [==============================] - 36s 178ms/step - loss: 0.0184 - accuracy: 0.9459 - AUROC: 0.9835 - AUPRC: 0.9745 - precision: 0.9549 - recall: 0.8779 - val_loss: 0.0195 - val_accuracy: 0.9506 - val_AUROC: 0.9863 - val_AUPRC: 0.9780 - val_precision: 0.9539 - val_recall: 0.8914\n",
      "Epoch 172/200\n",
      "203/203 [==============================] - 36s 178ms/step - loss: 0.0182 - accuracy: 0.9466 - AUROC: 0.9839 - AUPRC: 0.9751 - precision: 0.9534 - recall: 0.8818 - val_loss: 0.0177 - val_accuracy: 0.9587 - val_AUROC: 0.9880 - val_AUPRC: 0.9816 - val_precision: 0.9464 - val_recall: 0.9258\n",
      "Epoch 173/200\n",
      "203/203 [==============================] - 36s 178ms/step - loss: 0.0203 - accuracy: 0.9407 - AUROC: 0.9800 - AUPRC: 0.9695 - precision: 0.9504 - recall: 0.8661 - val_loss: 0.0186 - val_accuracy: 0.9590 - val_AUROC: 0.9889 - val_AUPRC: 0.9819 - val_precision: 0.9586 - val_recall: 0.9136\n",
      "Epoch 174/200\n",
      "203/203 [==============================] - 36s 178ms/step - loss: 0.0183 - accuracy: 0.9465 - AUROC: 0.9840 - AUPRC: 0.9750 - precision: 0.9540 - recall: 0.8806 - val_loss: 0.0217 - val_accuracy: 0.9583 - val_AUROC: 0.9894 - val_AUPRC: 0.9834 - val_precision: 0.9366 - val_recall: 0.9352\n",
      "Epoch 175/200\n",
      "203/203 [==============================] - 36s 178ms/step - loss: 0.0185 - accuracy: 0.9460 - AUROC: 0.9836 - AUPRC: 0.9744 - precision: 0.9549 - recall: 0.8782 - val_loss: 0.0179 - val_accuracy: 0.9473 - val_AUROC: 0.9891 - val_AUPRC: 0.9829 - val_precision: 0.9820 - val_recall: 0.8537\n",
      "Epoch 176/200\n",
      "203/203 [==============================] - 36s 177ms/step - loss: 0.0187 - accuracy: 0.9447 - AUROC: 0.9832 - AUPRC: 0.9738 - precision: 0.9555 - recall: 0.8736 - val_loss: 0.0176 - val_accuracy: 0.9555 - val_AUROC: 0.9896 - val_AUPRC: 0.9833 - val_precision: 0.9713 - val_recall: 0.8896\n",
      "Epoch 177/200\n",
      "203/203 [==============================] - 36s 178ms/step - loss: 0.0179 - accuracy: 0.9478 - AUROC: 0.9844 - AUPRC: 0.9756 - precision: 0.9557 - recall: 0.8830 - val_loss: 0.0172 - val_accuracy: 0.9615 - val_AUROC: 0.9900 - val_AUPRC: 0.9839 - val_precision: 0.9484 - val_recall: 0.9324\n",
      "Epoch 178/200\n",
      "203/203 [==============================] - 36s 178ms/step - loss: 0.0183 - accuracy: 0.9462 - AUROC: 0.9838 - AUPRC: 0.9748 - precision: 0.9566 - recall: 0.8771 - val_loss: 0.0178 - val_accuracy: 0.9594 - val_AUROC: 0.9892 - val_AUPRC: 0.9826 - val_precision: 0.9545 - val_recall: 0.9191\n",
      "Epoch 179/200\n",
      "203/203 [==============================] - 36s 177ms/step - loss: 0.0196 - accuracy: 0.9432 - AUROC: 0.9809 - AUPRC: 0.9714 - precision: 0.9528 - recall: 0.8714 - val_loss: 0.0180 - val_accuracy: 0.9601 - val_AUROC: 0.9894 - val_AUPRC: 0.9828 - val_precision: 0.9554 - val_recall: 0.9206\n",
      "Epoch 180/200\n",
      "202/203 [============================>.] - ETA: 0s - loss: 0.0179 - accuracy: 0.9474 - AUROC: 0.9845 - AUPRC: 0.9760 - precision: 0.9549 - recall: 0.8826INFO:tensorflow:Assets written to: GAT_model_2/cp_0180.ckpt/assets\n"
     ]
    },
    {
     "name": "stderr",
     "output_type": "stream",
     "text": [
      "INFO:tensorflow:Assets written to: GAT_model_2/cp_0180.ckpt/assets\n"
     ]
    },
    {
     "name": "stdout",
     "output_type": "stream",
     "text": [
      "203/203 [==============================] - 39s 193ms/step - loss: 0.0179 - accuracy: 0.9474 - AUROC: 0.9845 - AUPRC: 0.9760 - precision: 0.9549 - recall: 0.8826 - val_loss: 0.0184 - val_accuracy: 0.9622 - val_AUROC: 0.9904 - val_AUPRC: 0.9846 - val_precision: 0.9446 - val_recall: 0.9391\n",
      "Epoch 181/200\n",
      "203/203 [==============================] - 36s 178ms/step - loss: 0.0176 - accuracy: 0.9477 - AUROC: 0.9853 - AUPRC: 0.9768 - precision: 0.9568 - recall: 0.8815 - val_loss: 0.0204 - val_accuracy: 0.9558 - val_AUROC: 0.9896 - val_AUPRC: 0.9837 - val_precision: 0.9184 - val_recall: 0.9486\n",
      "Epoch 182/200\n",
      "202/203 [============================>.] - ETA: 0s - loss: 0.0176 - accuracy: 0.9482 - AUROC: 0.9851 - AUPRC: 0.9768 - precision: 0.9554 - recall: 0.8846INFO:tensorflow:Assets written to: GAT_model_2/cp_0182.ckpt/assets\n"
     ]
    },
    {
     "name": "stderr",
     "output_type": "stream",
     "text": [
      "INFO:tensorflow:Assets written to: GAT_model_2/cp_0182.ckpt/assets\n"
     ]
    },
    {
     "name": "stdout",
     "output_type": "stream",
     "text": [
      "203/203 [==============================] - 39s 193ms/step - loss: 0.0176 - accuracy: 0.9482 - AUROC: 0.9851 - AUPRC: 0.9768 - precision: 0.9554 - recall: 0.8846 - val_loss: 0.0190 - val_accuracy: 0.9624 - val_AUROC: 0.9904 - val_AUPRC: 0.9850 - val_precision: 0.9544 - val_recall: 0.9289\n",
      "Epoch 183/200\n",
      "202/203 [============================>.] - ETA: 0s - loss: 0.0180 - accuracy: 0.9471 - AUROC: 0.9845 - AUPRC: 0.9755 - precision: 0.9538 - recall: 0.8831INFO:tensorflow:Assets written to: GAT_model_2/cp_0183.ckpt/assets\n"
     ]
    },
    {
     "name": "stderr",
     "output_type": "stream",
     "text": [
      "INFO:tensorflow:Assets written to: GAT_model_2/cp_0183.ckpt/assets\n"
     ]
    },
    {
     "name": "stdout",
     "output_type": "stream",
     "text": [
      "203/203 [==============================] - 39s 192ms/step - loss: 0.0180 - accuracy: 0.9471 - AUROC: 0.9845 - AUPRC: 0.9755 - precision: 0.9538 - recall: 0.8831 - val_loss: 0.0157 - val_accuracy: 0.9627 - val_AUROC: 0.9909 - val_AUPRC: 0.9855 - val_precision: 0.9660 - val_recall: 0.9177\n",
      "Epoch 184/200\n",
      "203/203 [==============================] - 36s 178ms/step - loss: 0.0175 - accuracy: 0.9490 - AUROC: 0.9853 - AUPRC: 0.9770 - precision: 0.9579 - recall: 0.8847 - val_loss: 0.0162 - val_accuracy: 0.9621 - val_AUROC: 0.9910 - val_AUPRC: 0.9855 - val_precision: 0.9671 - val_recall: 0.9146\n",
      "Epoch 185/200\n",
      "203/203 [==============================] - 36s 178ms/step - loss: 0.0180 - accuracy: 0.9465 - AUROC: 0.9844 - AUPRC: 0.9756 - precision: 0.9556 - recall: 0.8793 - val_loss: 0.0164 - val_accuracy: 0.9528 - val_AUROC: 0.9887 - val_AUPRC: 0.9820 - val_precision: 0.9739 - val_recall: 0.8785\n",
      "Epoch 186/200\n",
      "203/203 [==============================] - 36s 179ms/step - loss: 0.0188 - accuracy: 0.9453 - AUROC: 0.9830 - AUPRC: 0.9737 - precision: 0.9517 - recall: 0.8794 - val_loss: 0.0155 - val_accuracy: 0.9569 - val_AUROC: 0.9910 - val_AUPRC: 0.9853 - val_precision: 0.9804 - val_recall: 0.8854\n",
      "Epoch 187/200\n",
      "203/203 [==============================] - 36s 178ms/step - loss: 0.0180 - accuracy: 0.9474 - AUROC: 0.9843 - AUPRC: 0.9757 - precision: 0.9567 - recall: 0.8810 - val_loss: 0.0180 - val_accuracy: 0.9591 - val_AUROC: 0.9895 - val_AUPRC: 0.9828 - val_precision: 0.9425 - val_recall: 0.9311\n",
      "Epoch 188/200\n",
      "203/203 [==============================] - 36s 178ms/step - loss: 0.0181 - accuracy: 0.9459 - AUROC: 0.9845 - AUPRC: 0.9755 - precision: 0.9536 - recall: 0.8793 - val_loss: 0.0188 - val_accuracy: 0.9611 - val_AUROC: 0.9910 - val_AUPRC: 0.9852 - val_precision: 0.9502 - val_recall: 0.9291\n",
      "Epoch 189/200\n",
      "203/203 [==============================] - 36s 178ms/step - loss: 0.0185 - accuracy: 0.9469 - AUROC: 0.9834 - AUPRC: 0.9744 - precision: 0.9546 - recall: 0.8815 - val_loss: 0.0173 - val_accuracy: 0.9597 - val_AUROC: 0.9893 - val_AUPRC: 0.9826 - val_precision: 0.9516 - val_recall: 0.9231\n",
      "Epoch 190/200\n",
      "202/203 [============================>.] - ETA: 0s - loss: 0.0175 - accuracy: 0.9483 - AUROC: 0.9853 - AUPRC: 0.9767 - precision: 0.9540 - recall: 0.8865INFO:tensorflow:Assets written to: GAT_model_2/cp_0190.ckpt/assets\n"
     ]
    },
    {
     "name": "stderr",
     "output_type": "stream",
     "text": [
      "INFO:tensorflow:Assets written to: GAT_model_2/cp_0190.ckpt/assets\n"
     ]
    },
    {
     "name": "stdout",
     "output_type": "stream",
     "text": [
      "203/203 [==============================] - 39s 193ms/step - loss: 0.0175 - accuracy: 0.9483 - AUROC: 0.9853 - AUPRC: 0.9767 - precision: 0.9540 - recall: 0.8865 - val_loss: 0.0179 - val_accuracy: 0.9631 - val_AUROC: 0.9904 - val_AUPRC: 0.9848 - val_precision: 0.9515 - val_recall: 0.9345\n",
      "Epoch 191/200\n",
      "203/203 [==============================] - 36s 177ms/step - loss: 0.0172 - accuracy: 0.9491 - AUROC: 0.9858 - AUPRC: 0.9776 - precision: 0.9550 - recall: 0.8880 - val_loss: 0.0158 - val_accuracy: 0.9589 - val_AUROC: 0.9909 - val_AUPRC: 0.9856 - val_precision: 0.9757 - val_recall: 0.8960\n",
      "Epoch 192/200\n",
      "203/203 [==============================] - 36s 179ms/step - loss: 0.0176 - accuracy: 0.9481 - AUROC: 0.9851 - AUPRC: 0.9767 - precision: 0.9585 - recall: 0.8812 - val_loss: 0.0152 - val_accuracy: 0.9614 - val_AUROC: 0.9908 - val_AUPRC: 0.9850 - val_precision: 0.9619 - val_recall: 0.9178\n",
      "Epoch 193/200\n",
      "203/203 [==============================] - 36s 178ms/step - loss: 0.0176 - accuracy: 0.9494 - AUROC: 0.9852 - AUPRC: 0.9767 - precision: 0.9575 - recall: 0.8863 - val_loss: 0.0181 - val_accuracy: 0.9616 - val_AUROC: 0.9906 - val_AUPRC: 0.9849 - val_precision: 0.9375 - val_recall: 0.9453\n",
      "Epoch 194/200\n",
      "203/203 [==============================] - 36s 178ms/step - loss: 0.0175 - accuracy: 0.9483 - AUROC: 0.9854 - AUPRC: 0.9771 - precision: 0.9553 - recall: 0.8853 - val_loss: 0.0167 - val_accuracy: 0.9521 - val_AUROC: 0.9890 - val_AUPRC: 0.9827 - val_precision: 0.9802 - val_recall: 0.8703\n",
      "Epoch 195/200\n",
      "203/203 [==============================] - 36s 178ms/step - loss: 0.0176 - accuracy: 0.9481 - AUROC: 0.9853 - AUPRC: 0.9768 - precision: 0.9571 - recall: 0.8829 - val_loss: 0.0191 - val_accuracy: 0.9598 - val_AUROC: 0.9902 - val_AUPRC: 0.9845 - val_precision: 0.9308 - val_recall: 0.9469\n",
      "Epoch 196/200\n",
      "203/203 [==============================] - 36s 179ms/step - loss: 0.0171 - accuracy: 0.9489 - AUROC: 0.9861 - AUPRC: 0.9779 - precision: 0.9573 - recall: 0.8852 - val_loss: 0.0295 - val_accuracy: 0.9298 - val_AUROC: 0.9871 - val_AUPRC: 0.9803 - val_precision: 0.8440 - val_recall: 0.9622\n",
      "Epoch 197/200\n",
      "203/203 [==============================] - 36s 178ms/step - loss: 0.0221 - accuracy: 0.9351 - AUROC: 0.9763 - AUPRC: 0.9639 - precision: 0.9455 - recall: 0.8529 - val_loss: 0.0172 - val_accuracy: 0.9491 - val_AUROC: 0.9878 - val_AUPRC: 0.9798 - val_precision: 0.9736 - val_recall: 0.8671\n",
      "Epoch 198/200\n",
      "203/203 [==============================] - 36s 178ms/step - loss: 0.0185 - accuracy: 0.9453 - AUROC: 0.9836 - AUPRC: 0.9744 - precision: 0.9540 - recall: 0.8768 - val_loss: 0.0224 - val_accuracy: 0.9550 - val_AUROC: 0.9880 - val_AUPRC: 0.9804 - val_precision: 0.9275 - val_recall: 0.9348\n",
      "Epoch 199/200\n",
      "203/203 [==============================] - 36s 178ms/step - loss: 0.0179 - accuracy: 0.9477 - AUROC: 0.9846 - AUPRC: 0.9759 - precision: 0.9565 - recall: 0.8821 - val_loss: 0.0159 - val_accuracy: 0.9565 - val_AUROC: 0.9907 - val_AUPRC: 0.9848 - val_precision: 0.9792 - val_recall: 0.8852\n",
      "Epoch 200/200\n",
      "203/203 [==============================] - 36s 177ms/step - loss: 0.0176 - accuracy: 0.9481 - AUROC: 0.9853 - AUPRC: 0.9766 - precision: 0.9557 - recall: 0.8842 - val_loss: 0.0203 - val_accuracy: 0.9613 - val_AUROC: 0.9910 - val_AUPRC: 0.9850 - val_precision: 0.9326 - val_recall: 0.9497\n"
     ]
    }
   ],
   "source": [
    "checkpoint_path = \"GAT_model_2/cp_{epoch:04d}.ckpt\"\n",
    "checkpoint_dir = os.path.dirname(checkpoint_path) \n",
    "cp_callback=keras.callbacks.ModelCheckpoint(filepath=checkpoint_path,save_weights_only=False,verbose=0,save_best_only=True,monitor='val_accuracy')  \n",
    "history=model.fit(x_train,y_train,epochs=200,batch_size=512,verbose=1,validation_data=(x_test,y_test),callbacks=[cp_callback])"
   ]
  },
  {
   "cell_type": "code",
   "execution_count": 11,
   "metadata": {},
   "outputs": [],
   "source": [
    "with open(\"history_GAT.jason\", 'w') as f:\n",
    "    pd.DataFrame(history.history).to_json(f)"
   ]
  },
  {
   "cell_type": "code",
   "execution_count": 13,
   "metadata": {},
   "outputs": [
    {
     "data": {
      "image/png": "[encoded data removed]",
      "text/plain": [
       "<Figure size 2000x1000 with 1 Axes>"
      ]
     },
     "metadata": {},
     "output_type": "display_data"
    }
   ],
   "source": [
    "# Plot the training and validation loss and accuracy for each epoch for 4s partitions\n",
    "with open('history_GAT.jason','r') as f:\n",
    "    history_1 = pd.read_json(f)\n",
    "\n",
    "training_accuracy = history_1['accuracy']\n",
    "val_accuracy=history_1['val_accuracy']\n",
    "training_loss = history_1['loss']\n",
    "val_loss=history_1['val_loss']\n",
    "val_AUROC=history_1['val_AUROC']\n",
    "val_AUPRC=history_1['val_AUPRC']\n",
    "val_precision=history_1['val_precision']\n",
    "epochs = range(1, len(training_accuracy) + 1)\n",
    "\n",
    "# Plot training loss against epochs\n",
    "plt.figure(figsize=(20, 10))\n",
    "plt.plot(epochs, training_accuracy, label='Training accuracy')\n",
    "plt.plot(epochs, val_accuracy, label='Validation accuracy')\n",
    "plt.plot(epochs, training_loss, label='Training loss')\n",
    "plt.plot(epochs, val_loss, label='Validation loss')\n",
    "plt.plot(epochs, val_AUROC, label='Validation AUROC')\n",
    "# plt.plot(epochs, val_AUPRC, label='Validation AUPRC')\n",
    "# plt.plot(epochs, val_precision, label='Validation precision')\n",
    "\n",
    "plt.axhline(y=0.3, color='r', linestyle='-')\n",
    "\n",
    "plt.axhline(y=0.9, color='r', linestyle='-')\n",
    "plt.grid()\n",
    "plt.title('Training loss')\n",
    "plt.xlabel('Epochs')\n",
    "plt.ylabel('Loss')\n",
    "plt.ylim([0, 1])    \n",
    "plt.legend()\n",
    "plt.show()"
   ]
  },
  {
   "cell_type": "code",
   "execution_count": 9,
   "metadata": {},
   "outputs": [],
   "source": [
    "model=keras.models.load_model('./GAT_model/cp_0195.ckpt/')"
   ]
  },
  {
   "cell_type": "code",
   "execution_count": 11,
   "metadata": {},
   "outputs": [],
   "source": [
    "model=keras.models.load_model('./GAT_model_1/cp_0198.ckpt/')"
   ]
  },
  {
   "cell_type": "code",
   "execution_count": 14,
   "metadata": {},
   "outputs": [
    {
     "name": "stdout",
     "output_type": "stream",
     "text": [
      "Model: \"model_1\"\n",
      "_____________________________________________________________________________________________________________\n",
      " Layer (type)                Output Shape                 Param #   Connected to                  Trainable  \n",
      "=============================================================================================================\n",
      " input_2 (InputLayer)        [(None, 12, 384, 1)]         0         []                            Y          \n",
      "                                                                                                             \n",
      " conv2d_8 (Conv2D)           (None, 12, 384, 32)          128       ['input_2[0][0]']             Y          \n",
      "                                                                                                             \n",
      " conv2d_9 (Conv2D)           (None, 12, 384, 32)          192       ['input_2[0][0]']             Y          \n",
      "                                                                                                             \n",
      " add_4 (Add)                 (None, 12, 384, 32)          0         ['conv2d_8[0][0]',            Y          \n",
      "                                                                     'conv2d_9[0][0]']                       \n",
      "                                                                                                             \n",
      " max_pooling2d_4 (MaxPoolin  (None, 12, 192, 32)          0         ['add_4[0][0]']               Y          \n",
      " g2D)                                                                                                        \n",
      "                                                                                                             \n",
      " batch_normalization_3 (Bat  (None, 12, 192, 32)          128       ['max_pooling2d_4[0][0]']     Y          \n",
      " chNormalization)                                                                                            \n",
      "                                                                                                             \n",
      " spatial_dropout2d_3 (Spati  (None, 12, 192, 32)          0         ['batch_normalization_3[0][   Y          \n",
      " alDropout2D)                                                       0]']                                     \n",
      "                                                                                                             \n",
      " conv2d_10 (Conv2D)          (None, 12, 192, 64)          6208      ['spatial_dropout2d_3[0][0]   Y          \n",
      "                                                                    ']                                       \n",
      "                                                                                                             \n",
      " conv2d_11 (Conv2D)          (None, 12, 192, 64)          20544     ['conv2d_10[0][0]']           Y          \n",
      "                                                                                                             \n",
      " add_5 (Add)                 (None, 12, 192, 64)          0         ['conv2d_10[0][0]',           Y          \n",
      "                                                                     'conv2d_11[0][0]']                      \n",
      "                                                                                                             \n",
      " max_pooling2d_5 (MaxPoolin  (None, 12, 96, 64)           0         ['add_5[0][0]']               Y          \n",
      " g2D)                                                                                                        \n",
      "                                                                                                             \n",
      " batch_normalization_4 (Bat  (None, 12, 96, 64)           256       ['max_pooling2d_5[0][0]']     Y          \n",
      " chNormalization)                                                                                            \n",
      "                                                                                                             \n",
      " spatial_dropout2d_4 (Spati  (None, 12, 96, 64)           0         ['batch_normalization_4[0][   Y          \n",
      " alDropout2D)                                                       0]']                                     \n",
      "                                                                                                             \n",
      " conv2d_12 (Conv2D)          (None, 12, 96, 8)            1544      ['spatial_dropout2d_4[0][0]   Y          \n",
      "                                                                    ']                                       \n",
      "                                                                                                             \n",
      " conv2d_13 (Conv2D)          (None, 12, 96, 8)            328       ['conv2d_12[0][0]']           Y          \n",
      "                                                                                                             \n",
      " add_6 (Add)                 (None, 12, 96, 8)            0         ['conv2d_12[0][0]',           Y          \n",
      "                                                                     'conv2d_13[0][0]']                      \n",
      "                                                                                                             \n",
      " max_pooling2d_6 (MaxPoolin  (None, 12, 48, 8)            0         ['add_6[0][0]']               Y          \n",
      " g2D)                                                                                                        \n",
      "                                                                                                             \n",
      " batch_normalization_5 (Bat  (None, 12, 48, 8)            32        ['max_pooling2d_6[0][0]']     Y          \n",
      " chNormalization)                                                                                            \n",
      "                                                                                                             \n",
      " spatial_dropout2d_5 (Spati  (None, 12, 48, 8)            0         ['batch_normalization_5[0][   Y          \n",
      " alDropout2D)                                                       0]']                                     \n",
      "                                                                                                             \n",
      " conv2d_14 (Conv2D)          (None, 12, 48, 1)            25        ['spatial_dropout2d_5[0][0]   Y          \n",
      "                                                                    ']                                       \n",
      "                                                                                                             \n",
      " conv2d_15 (Conv2D)          (None, 12, 48, 1)            6         ['conv2d_14[0][0]']           Y          \n",
      "                                                                                                             \n",
      " add_7 (Add)                 (None, 12, 48, 1)            0         ['conv2d_14[0][0]',           Y          \n",
      "                                                                     'conv2d_15[0][0]']                      \n",
      "                                                                                                             \n",
      " max_pooling2d_7 (MaxPoolin  (None, 12, 24, 1)            0         ['add_7[0][0]']               Y          \n",
      " g2D)                                                                                                        \n",
      "                                                                                                             \n",
      " reshape_1 (Reshape)         (None, 12, 24)               0         ['max_pooling2d_7[0][0]']     Y          \n",
      "                                                                                                             \n",
      " gat_layer_3 (GATLayer)      (None, 12, 37)               962       ['reshape_1[0][0]']           Y          \n",
      "                                                                                                             \n",
      " gat_layer_4 (GATLayer)      (None, 12, 32)               1248      ['gat_layer_3[0][0]']         Y          \n",
      "                                                                                                             \n",
      " gat_layer_5 (GATLayer)      (None, 12, 16)               544       ['gat_layer_4[0][0]']         Y          \n",
      "                                                                                                             \n",
      " global_average_pooling1d_1  (None, 16)                   0         ['gat_layer_5[0][0]']         Y          \n",
      "  (GlobalAveragePooling1D)                                                                                   \n",
      "                                                                                                             \n",
      " dropout_2 (Dropout)         (None, 16)                   0         ['global_average_pooling1d_   Y          \n",
      "                                                                    1[0][0]']                                \n",
      "                                                                                                             \n",
      " dense_3 (Dense)             (None, 32)                   544       ['dropout_2[0][0]']           Y          \n",
      "                                                                                                             \n",
      " dropout_3 (Dropout)         (None, 32)                   0         ['dense_3[0][0]']             Y          \n",
      "                                                                                                             \n",
      " dense_4 (Dense)             (None, 16)                   528       ['dropout_3[0][0]']           Y          \n",
      "                                                                                                             \n",
      " dense_5 (Dense)             (None, 1)                    17        ['dense_4[0][0]']             Y          \n",
      "                                                                                                             \n",
      "=============================================================================================================\n",
      "Total params: 33234 (129.82 KB)\n",
      "Trainable params: 33026 (129.01 KB)\n",
      "Non-trainable params: 208 (832.00 Byte)\n",
      "_____________________________________________________________________________________________________________\n"
     ]
    }
   ],
   "source": [
    "model.summary(show_trainable=True)"
   ]
  },
  {
   "cell_type": "code",
   "execution_count": 12,
   "metadata": {},
   "outputs": [
    {
     "name": "stdout",
     "output_type": "stream",
     "text": [
      "182/182 [==============================] - 9s 46ms/step - loss: 0.0717 - accuracy: 0.9361 - AUROC: 0.0000e+00 - AUPRC: 0.0000e+00 - precision: 0.0000e+00 - recall: 0.0000e+00\n"
     ]
    },
    {
     "data": {
      "text/plain": [
       "[0.07168826460838318, 0.9360951781272888, 0.0, 0.0, 0.0, 0.0]"
      ]
     },
     "execution_count": 12,
     "metadata": {},
     "output_type": "execute_result"
    }
   ],
   "source": [
    "model.evaluate(x1,y1,batch_size=512)"
   ]
  },
  {
   "cell_type": "code",
   "execution_count": 13,
   "metadata": {},
   "outputs": [
    {
     "name": "stdout",
     "output_type": "stream",
     "text": [
      "51/51 [==============================] - 2s 46ms/step - loss: 0.0151 - accuracy: 0.9625 - AUROC: 0.9908 - AUPRC: 0.9856 - precision: 0.9675 - recall: 0.9157\n"
     ]
    },
    {
     "data": {
      "text/plain": [
       "[0.015056755393743515,\n",
       " 0.9625304341316223,\n",
       " 0.9908108115196228,\n",
       " 0.9856245517730713,\n",
       " 0.9675072431564331,\n",
       " 0.9156969785690308]"
      ]
     },
     "execution_count": 13,
     "metadata": {},
     "output_type": "execute_result"
    }
   ],
   "source": [
    "model.evaluate(x_test,y_test,batch_size=512)"
   ]
  }
 ],
 "metadata": {
  "kernelspec": {
   "display_name": "BrainNeoCare",
   "language": "python",
   "name": "python3"
  },
  "language_info": {
   "codemirror_mode": {
    "name": "ipython",
    "version": 3
   },
   "file_extension": ".py",
   "mimetype": "text/x-python",
   "name": "python",
   "nbconvert_exporter": "python",
   "pygments_lexer": "ipython3",
   "version": "3.9.18"
  }
 },
 "nbformat": 4,
 "nbformat_minor": 2
}
